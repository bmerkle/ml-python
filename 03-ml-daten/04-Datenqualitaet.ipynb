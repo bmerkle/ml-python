{
 "cells": [
  {
   "cell_type": "markdown",
   "id": "5405815c",
   "metadata": {},
   "source": [
    "# Beurteilung der Datenqualität"
   ]
  },
  {
   "cell_type": "markdown",
   "id": "f6ee1677",
   "metadata": {},
   "source": [
    "Daten sind die Basis für jedes Machine Learning-Projekt. Daher ist die Beurteilung der Datenqualität am Anfang extrem wichtig. Nur so kannst du sicherstellen, dass die Ergebnisse auch wirklich belastbar sind.\n",
    "\n",
    "Daten können nach unterschiedlichen Kriterien bewertet werden. Häufig wirst du dazu statistische Methoden nutzen, Korrelationen berechen oder einfach fehlende oder nicht aktuelle Daten erkennen."
   ]
  },
  {
   "cell_type": "markdown",
   "id": "3da13719",
   "metadata": {},
   "source": [
    "## Statistik"
   ]
  },
  {
   "cell_type": "markdown",
   "id": "026021f3",
   "metadata": {},
   "source": [
    "In diesem Fall arbeitest du mit existierenden Daten, um die Methoden genauer kennenzulernen. Dazu nutzt du die Daten von Eurostat, der europäischen Statistikbehörde:"
   ]
  },
  {
   "cell_type": "code",
   "execution_count": null,
   "id": "78c81caa",
   "metadata": {},
   "outputs": [],
   "source": [
    "!pip install eurostat"
   ]
  },
  {
   "cell_type": "markdown",
   "id": "6a1d2c41",
   "metadata": {},
   "source": [
    "Alle Statistikdaten haben bei Eurostat ein Kürzel. In diesem Beispiel beschäftigst du dich mit den *Hauspreisen*, diese tragen das Kürzel `prc_hpi_a`.  Eine genauere Erklärung findest du [hier](https://ec.europa.eu/eurostat/cache/metadata/en/prc_hpi_inx_esms.htm). \n",
    "\n",
    "Das Herunterladen der Daten ist nun sehr einfach:"
   ]
  },
  {
   "cell_type": "code",
   "execution_count": null,
   "id": "f8bc9366",
   "metadata": {},
   "outputs": [],
   "source": [
    "import eurostat\n",
    "df = eurostat.get_data_df(\"prc_hpi_a\")\n",
    "df"
   ]
  },
  {
   "cell_type": "markdown",
   "id": "0ec48445",
   "metadata": {},
   "source": [
    "Darin sind jede Menge Einzeldaten enthalten. Du interessierst dich für den Index der Hauspreise, bei dem als Grundlage da Jahr 2010 verwendet wurde und dort für die neuen Häuser:"
   ]
  },
  {
   "cell_type": "code",
   "execution_count": null,
   "id": "9e1bac8b",
   "metadata": {},
   "outputs": [],
   "source": [
    "hp10 = df[(df[\"unit\"] == \"I10_A_AVG\") & (df[\"purchase\"] == \"DW_NEW\")].copy()\n",
    "hp10"
   ]
  },
  {
   "cell_type": "markdown",
   "id": "8b6dea5a",
   "metadata": {},
   "source": [
    "Du kannst nun eine Zusammenfassung der Werte aufrufen:"
   ]
  },
  {
   "cell_type": "code",
   "execution_count": null,
   "id": "2e0aa5c6",
   "metadata": {},
   "outputs": [],
   "source": [
    "hp10.describe()"
   ]
  },
  {
   "cell_type": "markdown",
   "id": "6f8c3c1c",
   "metadata": {},
   "source": [
    "Hier siehst du zuerst, dass die Werte auf das Jahr 2010 normiert wurden!\n",
    "\n",
    "Wie du siehst, werden in den unterschiedlichen Spalten nicht immer gleich viel Werte angezeigt. Das liegt daran, dass nicht vorhandene Werte (`NaN` für *not a number*) dort nicht mitgezählt werden. 2005 fehlen also noch viele Werte! Das muss du unbedingt beachten, wenn du die Daten analysierst.\n",
    "\n",
    "Möchtest du nur vollständige Datensätze betrachten, kannst du `.dropna()` verwenden:"
   ]
  },
  {
   "cell_type": "code",
   "execution_count": null,
   "id": "329bbf5c",
   "metadata": {},
   "outputs": [],
   "source": [
    "hp10.dropna()"
   ]
  },
  {
   "cell_type": "markdown",
   "id": "b3ead25f",
   "metadata": {},
   "source": [
    "Wie du siehst, hat sich die Datenmenge dadurch enorm reduziert. Das kann eine sinnvolle Einschränkung sein, muss aber nicht immer die richtige Lösung sein. Du kannst das `.dropna()` auch nur für bestimmte Spalten verwenden. Wenn du also nur vollständige Daten möchtest, die sich auf die Jahre 2010-2021 beziehen:"
   ]
  },
  {
   "cell_type": "code",
   "execution_count": null,
   "id": "6969bfdd-5b21-435d-8cd6-8b2259c727af",
   "metadata": {},
   "outputs": [],
   "source": [
    "hp10.columns"
   ]
  },
  {
   "cell_type": "code",
   "execution_count": null,
   "id": "3b573340",
   "metadata": {},
   "outputs": [],
   "source": [
    "columns = [str(y) for y in range(2010,2023)]\n",
    "hp10.dropna(subset=columns)"
   ]
  },
  {
   "cell_type": "markdown",
   "id": "0e667ff8",
   "metadata": {},
   "source": [
    "Das sind jetzt wieder viel mehr Länder. Sinnvollerweise kannst du damit eine Analyse durchführen, die Daten genauer dieser Jahre enthält:"
   ]
  },
  {
   "cell_type": "code",
   "execution_count": null,
   "id": "3d9dae97",
   "metadata": {},
   "outputs": [],
   "source": [
    "hp_from_2010 = hp10.dropna(subset=columns)[[\"geo\\\\TIME_PERIOD\"] + columns]\n",
    "hp_from_2010"
   ]
  },
  {
   "cell_type": "markdown",
   "id": "27eaa03a",
   "metadata": {},
   "source": [
    "### Datenstruktur anpassen"
   ]
  },
  {
   "cell_type": "markdown",
   "id": "489d5de5",
   "metadata": {},
   "source": [
    "Für die weitere Analyse ist es sinnvoll, die Datenstruktur etwas anzupassen. So ist `geo\\time` eine etwas unglückliche Bezeichnung, hier ist nur das Land gemeint, das kannst du einfach umbenennen:"
   ]
  },
  {
   "cell_type": "code",
   "execution_count": null,
   "id": "e00ddecb",
   "metadata": {},
   "outputs": [],
   "source": [
    "hp_from_2010.rename(columns={\"geo\\\\TIME_PERIOD\": \"country\"}, inplace=True)\n",
    "hp10.rename(columns={\"geo\\\\TIME_PERIOD\": \"country\"}, inplace=True)"
   ]
  },
  {
   "cell_type": "markdown",
   "id": "893a62c0",
   "metadata": {},
   "source": [
    "### Zeitreihen"
   ]
  },
  {
   "cell_type": "markdown",
   "id": "61d318dd",
   "metadata": {},
   "source": [
    "Nun kannst du dir die Immobilienpreisentwicklung in Deutschland anschauen:"
   ]
  },
  {
   "cell_type": "code",
   "execution_count": null,
   "id": "e301bb72",
   "metadata": {},
   "outputs": [],
   "source": [
    "hp10[hp10[\"country\"] == \"DE\"]"
   ]
  },
  {
   "cell_type": "markdown",
   "id": "20a3d3a9",
   "metadata": {},
   "source": [
    "`94` ist dabei die ursprüngliche Zeile im `DataFrame`.\n",
    "\n",
    "Für die Visualisierung betrachtest du nur die Jahre als Spalten und transponierst das Ergebnis:"
   ]
  },
  {
   "cell_type": "code",
   "execution_count": null,
   "id": "3554a461",
   "metadata": {},
   "outputs": [],
   "source": [
    "hp10[hp10[\"country\"] == \"DE\"][columns].T.plot.bar()"
   ]
  },
  {
   "cell_type": "markdown",
   "id": "dd1f8809",
   "metadata": {},
   "source": [
    "### Zeitreihen vieler Daten"
   ]
  },
  {
   "cell_type": "markdown",
   "id": "e9e77a1f",
   "metadata": {},
   "source": [
    "Dafür betrachtest du die saisonjustierten Daten zu einem bestimmten Zeitpunkt, allerdings für alle Länder gleichzeitig. Die `pivot`-Funktion kennst du schon, die ist hier sehr nützlich:"
   ]
  },
  {
   "cell_type": "code",
   "execution_count": null,
   "id": "a02e0b60",
   "metadata": {},
   "outputs": [],
   "source": [
    "country_prices = hp10[[\"country\"]+[str(y) for y in range(2005,2022)]].set_index(\"country\")\n",
    "country_prices.T.plot(figsize=(16,9))"
   ]
  },
  {
   "cell_type": "markdown",
   "id": "138a167e",
   "metadata": {},
   "source": [
    "Das ist etwas unübersichtlich und die fehlenden Daten kannst du gar nicht gut erkennen. Auch ist es schwierig, das Land mit dem \"Boom\" eindeutig zu identifizieren.\n",
    "\n",
    "Manchmal ist eine *qualitative Darstellung* dafür besser geeignet."
   ]
  },
  {
   "cell_type": "code",
   "execution_count": null,
   "id": "2ff9b5a2",
   "metadata": {},
   "outputs": [],
   "source": [
    "import seaborn as sns\n",
    "import matplotlib.pyplot as plt\n",
    "plt.figure(figsize=(10, 10))\n",
    "sns.heatmap(country_prices)"
   ]
  },
  {
   "cell_type": "markdown",
   "id": "f11e6731",
   "metadata": {},
   "source": [
    "Das ist viel besser, um Fehler oder Ausreißer zu erkennen. Offenbar ist in der Türkei der Markt explodiert, während in UK keine Daten mehr für 2020 bereitgestellt werden. Auch die ersten Datenpunkte für die Länder kannst du auf einen Blick erkennen!"
   ]
  },
  {
   "cell_type": "markdown",
   "id": "6f4a6115",
   "metadata": {},
   "source": [
    "### Korrelation der Daten"
   ]
  },
  {
   "cell_type": "markdown",
   "id": "858e9477",
   "metadata": {},
   "source": [
    "Nun betrachtest du die Hauspreise zueinander. Oftmals wirst du es mit Größen zu tun haben, die gar nicht unabhängig voneinander sind. Um das zu ermitteln, gibt es in Python und `pandas` leistungsfähige Funktionen."
   ]
  },
  {
   "cell_type": "markdown",
   "id": "5f254ccb",
   "metadata": {},
   "source": [
    "Bestimmt hängen die Hauspreise in Deutschland und Österreich eng zusammen. das kannst du grafisch über einen sog. *Pairplot* ermitteln:"
   ]
  },
  {
   "cell_type": "code",
   "execution_count": null,
   "id": "d3ae5309",
   "metadata": {},
   "outputs": [],
   "source": [
    "sns.jointplot(x=country_prices.T[\"DE\"], y=country_prices.T[\"AT\"], scatter=False, kind=\"reg\")"
   ]
  },
  {
   "cell_type": "markdown",
   "id": "16a0d504",
   "metadata": {},
   "source": [
    "Den Zusammenhang kannst du auf den ersten Blick erkennen! In Österreich war die Steigerungsrate etwas größer."
   ]
  },
  {
   "cell_type": "markdown",
   "id": "e6f41a07",
   "metadata": {},
   "source": [
    "Mit anderen Ländern wird das sicher anders aussehen, schau dir zum Vergleich noch die Türkei an:"
   ]
  },
  {
   "cell_type": "code",
   "execution_count": null,
   "id": "3356e5b4",
   "metadata": {},
   "outputs": [],
   "source": [
    "sns.jointplot(x=country_prices.T[\"DE\"], y=country_prices.T[\"TR\"], scatter=False, kind=\"reg\")"
   ]
  },
  {
   "cell_type": "markdown",
   "id": "1ee4c2ed",
   "metadata": {},
   "source": [
    "Auch diese Preise sind sehr stark voneinander abhängig. In der Türkei gab es eine massive Preissteigerung, die aber proportional zur deutschen ist.\n",
    "\n",
    "Mithilfe des sog. Pearson-Koeffizienten kannst du ermitteln, wie stark die Daten korreliert sind:"
   ]
  },
  {
   "cell_type": "code",
   "execution_count": null,
   "id": "86824c78",
   "metadata": {},
   "outputs": [],
   "source": [
    "country_prices.T[[\"DE\", \"AT\", \"TR\"]].corr()"
   ]
  },
  {
   "cell_type": "markdown",
   "id": "394dbeea",
   "metadata": {},
   "source": [
    "Die Korrelation ist also mit Österreich nur minimal höher (1 steht für vollkommen korreliert, -1 für vollkommen antikorreliert, 0 für unkorreliert).\n",
    "\n",
    "Mit solchen Daten muss du also vorsichtig sein, weil du nicht davon ausgehen kannst, dass diese unabhängig voneinander sind. Damit kannst du leicht in das sog. *Overfitting* kommen.\n",
    "\n",
    "Wenn du dir einen grafischen Überblick über diese Länder verschaffen willst, kannst du dazu einen sog. *Pairplot* einsetzen:"
   ]
  },
  {
   "cell_type": "code",
   "execution_count": null,
   "id": "9b85e9ba",
   "metadata": {},
   "outputs": [],
   "source": [
    "sns.pairplot(country_prices.T[[\"DE\", \"AT\", \"TR\"]])"
   ]
  },
  {
   "cell_type": "markdown",
   "id": "7d168591",
   "metadata": {},
   "source": [
    "Hier siehst du noch etwas genauer die Zusammenhänge zwischen den Immobilienpreisen in den jeweiligen Ländern. Der lineare Zusammenhang ist ganz offensichtlich."
   ]
  },
  {
   "cell_type": "markdown",
   "id": "0984cc53",
   "metadata": {},
   "source": [
    "## Boxplots"
   ]
  },
  {
   "cell_type": "markdown",
   "id": "79418363",
   "metadata": {},
   "source": [
    "Wie du in den oberen Grafiken erkennen kannst, variiert die Schwankungsbreite der Preise erheblich von Land zu Land. Auch diese kannst du dir grafisch anzeigen lassen, dazu dienen sog. *Boxplots*."
   ]
  },
  {
   "cell_type": "code",
   "execution_count": null,
   "id": "fec856a4",
   "metadata": {},
   "outputs": [],
   "source": [
    "import pandas as pd\n",
    "u = country_prices.melt(ignore_index=False, var_name=\"year\", value_name=\"price_index\")"
   ]
  },
  {
   "cell_type": "code",
   "execution_count": null,
   "id": "35951e27",
   "metadata": {},
   "outputs": [],
   "source": [
    "import matplotlib.pyplot as plt\n",
    "plt.figure(figsize=(10, 10))\n",
    "sns.boxplot(y = u.index, x = u[\"price_index\"])"
   ]
  },
  {
   "cell_type": "markdown",
   "id": "95b56386",
   "metadata": {},
   "source": [
    "Hier kannst du viele interessante Details entdecken. So ist die Preisspanne in der Türkei bei weitem am höchsten. Auf der anderen Seite gibt es auch Länder, in denen zumindest einmal auch die Preise zurückgegangen sind (Niveau unter 100). In Irland ist das besonders ausgeprägt - bestimmt ein Effekt der Finanzkrise."
   ]
  },
  {
   "cell_type": "markdown",
   "id": "64cfe562",
   "metadata": {},
   "source": [
    "## Datenqualität und Statistik kann spannend sein"
   ]
  },
  {
   "cell_type": "markdown",
   "id": "f4f29331",
   "metadata": {},
   "source": [
    "Auch wenn es etwas *trocken* klingt, kannst du die Untersuchung der Datenqualität mithilfe von aussagekräftigen Diagrammen richtig interessant gestalten. Oft wirst du in diesem Stadium schon interessante Einblicke haben, die es dir viel leichter machen, dich mit Machine Learning und Advanced Analytics zu beschäftigen.\n",
    "\n",
    "Ab und zu hingegen kann es auch passieren, dass du die Daten als unbrauchbar erkennst. Und in vielen Fällen kannst du die Zwischenergebnisse bereits präsentieren und damit Aufmerksamkeit erregen."
   ]
  }
 ],
 "metadata": {
  "kernelspec": {
   "display_name": "Python 3 (ipykernel)",
   "language": "python",
   "name": "python3"
  },
  "language_info": {
   "codemirror_mode": {
    "name": "ipython",
    "version": 3
   },
   "file_extension": ".py",
   "mimetype": "text/x-python",
   "name": "python",
   "nbconvert_exporter": "python",
   "pygments_lexer": "ipython3",
   "version": "3.8.10"
  }
 },
 "nbformat": 4,
 "nbformat_minor": 5
}
