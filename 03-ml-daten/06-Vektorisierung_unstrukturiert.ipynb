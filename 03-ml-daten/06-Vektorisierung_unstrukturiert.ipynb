{
 "cells": [
  {
   "cell_type": "code",
   "execution_count": null,
   "id": "8b79653a",
   "metadata": {},
   "outputs": [],
   "source": [
    "from sklearn.datasets import fetch_20newsgroups\n",
    "newsgroups = fetch_20newsgroups()"
   ]
  },
  {
   "cell_type": "code",
   "execution_count": null,
   "id": "e8e4ed26",
   "metadata": {},
   "outputs": [],
   "source": [
    "import pandas as pd\n",
    "newsgroups_df = pd.DataFrame(newsgroups.data, columns=[\"text\"])\n",
    "newsgroups_df[\"newsgroup\"] = [newsgroups.target_names[t] for t in newsgroups.target]\n",
    "newsgroups_df"
   ]
  },
  {
   "cell_type": "code",
   "execution_count": null,
   "id": "57787c8f",
   "metadata": {},
   "outputs": [],
   "source": [
    "from sklearn.feature_extraction.text import CountVectorizer\n",
    "cv = CountVectorizer()\n",
    "cvectors = cv.fit_transform(newsgroups_df[\"text\"])"
   ]
  },
  {
   "cell_type": "code",
   "execution_count": null,
   "id": "d7be9c25",
   "metadata": {},
   "outputs": [],
   "source": [
    "cvectors"
   ]
  },
  {
   "cell_type": "code",
   "execution_count": null,
   "id": "60bb73a0",
   "metadata": {},
   "outputs": [],
   "source": [
    "cvectors.data.nbytes"
   ]
  },
  {
   "cell_type": "code",
   "execution_count": null,
   "id": "db74be14",
   "metadata": {},
   "outputs": [],
   "source": [
    "freq = cvectors.sum(axis=0).A[0]\n",
    "freq"
   ]
  },
  {
   "cell_type": "code",
   "execution_count": null,
   "id": "a0b5a890",
   "metadata": {},
   "outputs": [],
   "source": [
    "top10 = freq.argsort()[::-1][0:10]\n",
    "top10"
   ]
  },
  {
   "cell_type": "code",
   "execution_count": null,
   "id": "da20198e",
   "metadata": {},
   "outputs": [],
   "source": [
    "voc = cv.get_feature_names_out()\n",
    "{ voc[pos]: freq[pos] for pos in top10 }"
   ]
  },
  {
   "cell_type": "code",
   "execution_count": null,
   "id": "00c4e5e4",
   "metadata": {},
   "outputs": [],
   "source": [
    "cv = CountVectorizer(min_df=5)\n",
    "cvectors = cv.fit_transform(newsgroups_df[\"text\"])\n",
    "cvectors"
   ]
  },
  {
   "cell_type": "code",
   "execution_count": null,
   "id": "b47fd94e",
   "metadata": {},
   "outputs": [],
   "source": [
    "cvn = CountVectorizer(ngram_range=(1,2), min_df=5)\n",
    "cvectorsn = cvn.fit_transform(newsgroups_df[\"text\"])\n",
    "cvectorsn"
   ]
  },
  {
   "cell_type": "code",
   "execution_count": null,
   "id": "1fa6e730",
   "metadata": {},
   "outputs": [],
   "source": [
    "from sklearn.feature_extraction.text import TfidfTransformer\n",
    "tfidf = TfidfTransformer()\n",
    "tvectors = tfidf.fit_transform(cvectors)\n",
    "tvectors"
   ]
  }
 ],
 "metadata": {
  "kernelspec": {
   "display_name": "Python 3 (ipykernel)",
   "language": "python",
   "name": "python3"
  },
  "language_info": {
   "codemirror_mode": {
    "name": "ipython",
    "version": 3
   },
   "file_extension": ".py",
   "mimetype": "text/x-python",
   "name": "python",
   "nbconvert_exporter": "python",
   "pygments_lexer": "ipython3",
   "version": "3.8.10"
  }
 },
 "nbformat": 4,
 "nbformat_minor": 5
}
