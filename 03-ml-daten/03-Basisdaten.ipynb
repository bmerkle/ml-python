{
 "cells": [
  {
   "cell_type": "markdown",
   "id": "3a468e71",
   "metadata": {},
   "source": [
    "# Daten und Datenstrukturen"
   ]
  },
  {
   "cell_type": "markdown",
   "id": "2b35e7b7",
   "metadata": {},
   "source": [
    "Daten sind die Basis für Machine Learning. Allerdings kannst du für Machine Learning die Daten nicht in beliebiger Form nutzen. Da Machine Learning im Prinzip *Lineare Algebra* ist, benötigst du die Daten in Zahlenform. Liegen deine Daten in anderer Form vor, musst du sie *transformieren*.\n",
    "\n",
    "Für einige wenige Aufgaben genügt es, wenn du die Daten als *Skalare* (d.h. Zahlen) zur Verfügung hast. Häufig ist das allerdings nicht der Fall, du benötigst *reichere Datenstrukturen*. Weil du dich weiter mit Zahlen beschäftigen möchtest, kannst du dafür mehrere Zahlen kombinieren und erhältst darüber *Vektoren*."
   ]
  },
  {
   "cell_type": "markdown",
   "id": "769a4767",
   "metadata": {},
   "source": [
    "## Zahlen"
   ]
  },
  {
   "cell_type": "markdown",
   "id": "5c1408c4",
   "metadata": {},
   "source": [
    "Du findest in Python mehrere unterschiedliche Datentypen, um Zahlen darzustellen. So gibt es\n",
    "\n",
    "* Ganzzahlen,\n",
    "* Fließkommazahlen und \n",
    "* komplexe Zahlen. \n",
    "\n",
    "Letztere werden so gut wie gar nicht verwendet und du findest sie hier nur der Vollständigkeit halber."
   ]
  },
  {
   "cell_type": "code",
   "execution_count": null,
   "id": "b3da35e9",
   "metadata": {},
   "outputs": [],
   "source": [
    "# int (Ganzzahl)\n",
    "4711"
   ]
  },
  {
   "cell_type": "code",
   "execution_count": null,
   "id": "715da938",
   "metadata": {},
   "outputs": [],
   "source": [
    "# Fließkommazahlen (float)\n",
    "3.14159"
   ]
  },
  {
   "cell_type": "code",
   "execution_count": null,
   "id": "3b9268a9",
   "metadata": {},
   "outputs": [],
   "source": [
    "# komplexe Zahlen (complex)\n",
    "1 + 1j"
   ]
  },
  {
   "cell_type": "markdown",
   "id": "8777c2bb",
   "metadata": {},
   "source": [
    "Es gibt vielfältige Möglichkeiten, wie du diese Datentypen ineinander umrechnest. In den meisten Fällen genügt es `round()` oder `int()` zu verwenden, um einen `float` in einen `int` umzurechnen. Umgekehrt kannst du einfach mit `1.0` multiplizieren.\n",
    "\n",
    "Eine Besonderheit solltest du beachten. Im Gegensatz zu (fast) allen anderen Programmiersprachen macht Python hier etwas anders: für die Ganzzahldivision wird `//` (das sonst fast immer einen Kommentar einleite) verwendet und nicht `/`, letzteres produziert immer einen `float`:"
   ]
  },
  {
   "cell_type": "code",
   "execution_count": null,
   "id": "8093a613",
   "metadata": {},
   "outputs": [],
   "source": [
    "10 // 2"
   ]
  },
  {
   "cell_type": "code",
   "execution_count": null,
   "id": "cc1bfd2b",
   "metadata": {},
   "outputs": [],
   "source": [
    "10 / 2"
   ]
  },
  {
   "cell_type": "markdown",
   "id": "e0ba4d28",
   "metadata": {},
   "source": [
    "## Vektoren"
   ]
  },
  {
   "cell_type": "markdown",
   "id": "f8b1d2ab",
   "metadata": {},
   "source": [
    "Wenn dir eine einzelne Zahl nicht ausreicht, kannst du Zahlen in Vektoren kombinieren. Die einfachste Form von Vektoren in Python sind `list` (Arrays oder Listen). Es gibt zwar auch noch Tupel, aber die sind unveränderlich, die wirst du nicht so häufig benötigen:"
   ]
  },
  {
   "cell_type": "code",
   "execution_count": null,
   "id": "bce26973",
   "metadata": {},
   "outputs": [],
   "source": [
    "l = [1, 2, 3, 4, 5]\n",
    "l"
   ]
  },
  {
   "cell_type": "markdown",
   "id": "15d1bfc7",
   "metadata": {},
   "source": [
    "Mit `.append()` kannst du Werte an eine `list` anhängen:"
   ]
  },
  {
   "cell_type": "code",
   "execution_count": null,
   "id": "83feb5d1",
   "metadata": {},
   "outputs": [],
   "source": [
    "l.append(6)\n",
    "l"
   ]
  },
  {
   "cell_type": "markdown",
   "id": "b3576f3a",
   "metadata": {},
   "source": [
    "Neben den reinen `list`-Strukturen in Python wirst du auch häufig die Arrays von `numpy` benötigen, die ein paar zusätzliche Tricks beherrschen. Du kannst einfach zwischen den beiden wandeln:"
   ]
  },
  {
   "cell_type": "code",
   "execution_count": null,
   "id": "2c98c079",
   "metadata": {},
   "outputs": [],
   "source": [
    "import numpy as np\n",
    "nl = np.array(l)\n",
    "nl"
   ]
  },
  {
   "cell_type": "code",
   "execution_count": null,
   "id": "d7a314ec",
   "metadata": {},
   "outputs": [],
   "source": [
    "nl.tolist()"
   ]
  },
  {
   "cell_type": "markdown",
   "id": "44d51dc3",
   "metadata": {},
   "source": [
    "Besonders spannend an `numpy.array` ist, dass du die Daten gut filtern kannst:"
   ]
  },
  {
   "cell_type": "code",
   "execution_count": null,
   "id": "3763f90f",
   "metadata": {},
   "outputs": [],
   "source": [
    "nl[nl > 2]"
   ]
  },
  {
   "cell_type": "markdown",
   "id": "4ad96859",
   "metadata": {},
   "source": [
    "## Matrizen"
   ]
  },
  {
   "cell_type": "markdown",
   "id": "57521a5c",
   "metadata": {},
   "source": [
    "Die Vektoren dienen dir im Machine Learning oft zur Darstellung eines einzelnen Objekts. Wenn du mehrere darstellen möchtest, entstehen Vektoren von Vektoren, also Matrizen (in noch höheren Dimensionen sprichst du übrigens von Tensoren, diese werden aber hauptsächlich im Deep Learning benötigt).\n",
    "\n",
    "Matrizen kannst du sowohl direkt in Python als auch in `numpy` verwenden. Die von `numpy` (und dem daraus abgeleitetn `scipy`) sind deutlich leistungsfähiger und es gibt auch optimierte Varianten (z.B. für dünn besetzt Matrizen):"
   ]
  },
  {
   "cell_type": "code",
   "execution_count": null,
   "id": "3f5e892b",
   "metadata": {},
   "outputs": [],
   "source": [
    "a = [[1, 2, 3], [4, 5, 6], [7, 8, 9]]\n",
    "a"
   ]
  },
  {
   "cell_type": "code",
   "execution_count": null,
   "id": "3b6eb485",
   "metadata": {},
   "outputs": [],
   "source": [
    "na = np.array(a)\n",
    "na"
   ]
  },
  {
   "cell_type": "markdown",
   "id": "5ab38cb7",
   "metadata": {},
   "source": [
    "Wie gewohnt kannst du das auch umgekehrt konvertieren:"
   ]
  },
  {
   "cell_type": "code",
   "execution_count": null,
   "id": "331cb004",
   "metadata": {},
   "outputs": [],
   "source": [
    "na.tolist()"
   ]
  },
  {
   "cell_type": "markdown",
   "id": "99a56eca",
   "metadata": {},
   "source": [
    "So könnte auch ein Bild dargestellt werden wie oben beschrieben. Wenn du das nun in einen Vektor wandeln möchtest, musst du die Datenstruktur *flachklopfen*. Das geht in `numpy` sehr einfach, in reinem Python ist es schwieriger:"
   ]
  },
  {
   "cell_type": "code",
   "execution_count": null,
   "id": "26f28561",
   "metadata": {},
   "outputs": [],
   "source": [
    "na.flatten()"
   ]
  },
  {
   "cell_type": "markdown",
   "id": "cbb8a61d",
   "metadata": {},
   "source": [
    "## Höherdimensionale Objekte"
   ]
  },
  {
   "cell_type": "markdown",
   "id": "933e5ebc",
   "metadata": {},
   "source": [
    "Der Vollständigkeit halber sei erwähnt, dass du besonders für *Deep Learning* noch höherdimensionale Objekte benötigst, die sog. *Tensoren*. Diese werden wir in diesem Videokurs allerdings nicht nutzen."
   ]
  },
  {
   "cell_type": "markdown",
   "id": "9140eafc",
   "metadata": {},
   "source": [
    "## Datenaufbereitung mit `pandas`"
   ]
  },
  {
   "cell_type": "markdown",
   "id": "47347b1f",
   "metadata": {},
   "source": [
    "Leider hast du die Daten häufig nicht in der Form zur Verfügung, in der du sie eigentlich brauchst. Natürlich kannst du Umformungen mit `numpy` vornehmen, aber oft ist das gar nicht so einfach.\n",
    "\n",
    "`pandas` als Standard-Bibliothek für Data Science in Python ist da oft deutlich besser geeignet. Mit `pandas` kannst du Daten in `DataFrame`s modifizieren, selektieren oder  unterschiedlichen `DataFrame`s miteinander verbinden.\n",
    "\n",
    "`pandas` ist sehr leistungsfähig, aber nicht unbedingt immer besonders intuitiv. Du wirst einiges in der [Dokumentation](https://pandas.pydata.org/pandas-docs/stable/) nachlesen müssen oder Fragen auf [Stackoverflow](https://stackoverflow.com/questions/tagged/pandas) herausfinden müssen.\n",
    "\n",
    "Um die Arbeit mit `pandas` etwas einfacher zu gestalten, werden wir uns bei Bedarf immer einige Features in den jeweiligen Notebooks heraussuchen und damit arbeiten. So kannst du dich nach und nach mit der Software vertraut machen."
   ]
  }
 ],
 "metadata": {
  "kernelspec": {
   "display_name": "Python 3 (ipykernel)",
   "language": "python",
   "name": "python3"
  },
  "language_info": {
   "codemirror_mode": {
    "name": "ipython",
    "version": 3
   },
   "file_extension": ".py",
   "mimetype": "text/x-python",
   "name": "python",
   "nbconvert_exporter": "python",
   "pygments_lexer": "ipython3",
   "version": "3.8.10"
  },
  "toc": {
   "base_numbering": 1,
   "nav_menu": {},
   "number_sections": true,
   "sideBar": true,
   "skip_h1_title": false,
   "title_cell": "Table of Contents",
   "title_sidebar": "Contents",
   "toc_cell": false,
   "toc_position": {},
   "toc_section_display": true,
   "toc_window_display": false
  }
 },
 "nbformat": 4,
 "nbformat_minor": 5
}
