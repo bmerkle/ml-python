{
 "cells": [
  {
   "cell_type": "code",
   "execution_count": null,
   "id": "b3da35e9",
   "metadata": {},
   "outputs": [],
   "source": [
    "# int (Ganzzahl)\n",
    "4711"
   ]
  },
  {
   "cell_type": "code",
   "execution_count": null,
   "id": "715da938",
   "metadata": {},
   "outputs": [],
   "source": [
    "# Fließkommazahlen (float)\n",
    "3.14159"
   ]
  },
  {
   "cell_type": "code",
   "execution_count": null,
   "id": "3b9268a9",
   "metadata": {},
   "outputs": [],
   "source": [
    "# komplexe Zahlen (complex)\n",
    "1 + 1j"
   ]
  },
  {
   "cell_type": "code",
   "execution_count": null,
   "id": "8093a613",
   "metadata": {},
   "outputs": [],
   "source": [
    "10 // 2"
   ]
  },
  {
   "cell_type": "code",
   "execution_count": null,
   "id": "cc1bfd2b",
   "metadata": {},
   "outputs": [],
   "source": [
    "10 / 2"
   ]
  },
  {
   "cell_type": "code",
   "execution_count": null,
   "id": "bce26973",
   "metadata": {},
   "outputs": [],
   "source": [
    "l = [1, 2, 3, 4, 5]\n",
    "l"
   ]
  },
  {
   "cell_type": "code",
   "execution_count": null,
   "id": "83feb5d1",
   "metadata": {},
   "outputs": [],
   "source": [
    "l.append(6)\n",
    "l"
   ]
  },
  {
   "cell_type": "code",
   "execution_count": null,
   "id": "2c98c079",
   "metadata": {},
   "outputs": [],
   "source": [
    "import numpy as np\n",
    "nl = np.array(l)\n",
    "nl"
   ]
  },
  {
   "cell_type": "code",
   "execution_count": null,
   "id": "d7a314ec",
   "metadata": {},
   "outputs": [],
   "source": [
    "nl.tolist()"
   ]
  },
  {
   "cell_type": "code",
   "execution_count": null,
   "id": "3763f90f",
   "metadata": {},
   "outputs": [],
   "source": [
    "nl[nl > 2]"
   ]
  },
  {
   "cell_type": "code",
   "execution_count": null,
   "id": "3f5e892b",
   "metadata": {},
   "outputs": [],
   "source": [
    "a = [[1, 2, 3], [4, 5, 6], [7, 8, 9]]\n",
    "a"
   ]
  },
  {
   "cell_type": "code",
   "execution_count": null,
   "id": "3b6eb485",
   "metadata": {},
   "outputs": [],
   "source": [
    "na = np.array(a)\n",
    "na"
   ]
  },
  {
   "cell_type": "code",
   "execution_count": null,
   "id": "331cb004",
   "metadata": {},
   "outputs": [],
   "source": [
    "na.tolist()"
   ]
  },
  {
   "cell_type": "code",
   "execution_count": null,
   "id": "26f28561",
   "metadata": {},
   "outputs": [],
   "source": [
    "na.flatten()"
   ]
  }
 ],
 "metadata": {
  "kernelspec": {
   "display_name": "Python 3 (ipykernel)",
   "language": "python",
   "name": "python3"
  },
  "language_info": {
   "codemirror_mode": {
    "name": "ipython",
    "version": 3
   },
   "file_extension": ".py",
   "mimetype": "text/x-python",
   "name": "python",
   "nbconvert_exporter": "python",
   "pygments_lexer": "ipython3",
   "version": "3.8.10"
  },
  "toc": {
   "base_numbering": 1,
   "nav_menu": {},
   "number_sections": true,
   "sideBar": true,
   "skip_h1_title": false,
   "title_cell": "Table of Contents",
   "title_sidebar": "Contents",
   "toc_cell": false,
   "toc_position": {},
   "toc_section_display": true,
   "toc_window_display": false
  }
 },
 "nbformat": 4,
 "nbformat_minor": 5
}
