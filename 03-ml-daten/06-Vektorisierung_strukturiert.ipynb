{
 "cells": [
  {
   "cell_type": "markdown",
   "id": "671445d5",
   "metadata": {},
   "source": [
    "# Datenvorbereitung: Vektorisierung strukturierter Daten"
   ]
  },
  {
   "cell_type": "markdown",
   "id": "2885a823",
   "metadata": {},
   "source": [
    "Machine Learning benötigt für fast alle Verfahren sog. [Vektoren](https://de.wikipedia.org/wiki/Vektor). Dabei handelt es sich vereinfacht ausgedrückt um *Arrays*, die Daten in einer bestimmten Weise modellieren. Die Einträge in den Vektoren stellen dabei sog. *Features* oder [Merkmale](https://de.wikipedia.org/wiki/Merkmal) dar.\n",
    "\n",
    "Oftmals ist es bei Daten ganz einfach, die Features zu finden - manchmal wirst du aber auch große Schwierigkeiten damit haben. \n",
    "\n",
    "In diesem Teil beschäftigst du dich mit *strukturierten Daten*. Damit ist die Vektorisierung relativ einfach, aber auch hier gibt es einige Fallstricke."
   ]
  },
  {
   "cell_type": "markdown",
   "id": "3369d7a2",
   "metadata": {},
   "source": [
    "## Strukturierte Daten"
   ]
  },
  {
   "cell_type": "markdown",
   "id": "7a540cac",
   "metadata": {},
   "source": [
    "Strukturierte Daten lassen sich gut an dem sog. [Iris-Datenset](https://en.wikipedia.org/wiki/Iris_flower_data_set) erklären. Zum Glück ist das schon in `scikit-learn` enthalten, d.h. du musst es gar nicht herunterladen.\n",
    "\n",
    "Es handelt sich dabei um Messwerte und Spezies von Pflanzen:\n",
    "\n",
    "![image](https://upload.wikimedia.org/wikipedia/commons/thumb/5/56/Kosaciec_szczecinkowaty_Iris_setosa.jpg/220px-Kosaciec_szczecinkowaty_Iris_setosa.jpg) ![image](https://upload.wikimedia.org/wikipedia/commons/thumb/4/41/Iris_versicolor_3.jpg/220px-Iris_versicolor_3.jpg) ![image](https://upload.wikimedia.org/wikipedia/commons/thumb/9/9f/Iris_virginica.jpg/220px-Iris_virginica.jpg)"
   ]
  },
  {
   "cell_type": "markdown",
   "id": "91b9f5df",
   "metadata": {},
   "source": [
    "Den Datensatz kannst du einfach mithilfe von `scikit-learn` laden:"
   ]
  },
  {
   "cell_type": "code",
   "execution_count": null,
   "id": "0d12b2a6",
   "metadata": {},
   "outputs": [],
   "source": [
    "from sklearn import datasets\n",
    "iris = datasets.load_iris()\n",
    "iris"
   ]
  },
  {
   "cell_type": "markdown",
   "id": "b95fd040",
   "metadata": {
    "id": "CSHB673p0Prv"
   },
   "source": [
    "Das ist leider etwas unübersichtlich - besser stellst du das als `DataFrame` mit `pandas` dar:"
   ]
  },
  {
   "cell_type": "code",
   "execution_count": null,
   "id": "a7cc8e0a",
   "metadata": {
    "id": "emU_ft_c0Prv"
   },
   "outputs": [],
   "source": [
    "import pandas as pd\n",
    "features = [\"Sepal Length\", \"Sepal Width\", \"Petal Length\", \"Petal Width\"]\n",
    "idf = pd.DataFrame(iris[\"data\"], columns=features)\n",
    "idf[\"name\"] = [iris[\"target_names\"][target] for target in iris[\"target\"]]\n",
    "idf"
   ]
  },
  {
   "cell_type": "markdown",
   "id": "e52f61f4",
   "metadata": {
    "id": "WQRX8RUq0Prw"
   },
   "source": [
    "Einen ersten Eindruck über die Verteilung der Größen verschafft dir die sog. *Five Number Summary*:"
   ]
  },
  {
   "cell_type": "code",
   "execution_count": null,
   "id": "541e9f1e",
   "metadata": {
    "id": "4poK7D6w0Prw"
   },
   "outputs": [],
   "source": [
    "idf.describe()"
   ]
  },
  {
   "cell_type": "markdown",
   "id": "1207da1a",
   "metadata": {
    "id": "oDNo5Ny90Prw"
   },
   "source": [
    "Du kannst die Verteilung der Größen auch als Histogramm plotten:"
   ]
  },
  {
   "cell_type": "code",
   "execution_count": null,
   "id": "797af13b",
   "metadata": {
    "id": "QfrDV0pB0Prw"
   },
   "outputs": [],
   "source": [
    "import matplotlib.pyplot as plt\n",
    "for f in features:\n",
    "    fig = idf[f].plot.hist(title=f)\n",
    "    plt.show()\n",
    "    plt.close()"
   ]
  },
  {
   "cell_type": "markdown",
   "id": "7b9b991d",
   "metadata": {
    "id": "oFv3gJVl0Prx"
   },
   "source": [
    "Wie du siehst, sind die Werte der Features alle relativ gleich verteilt, d.h. es gibt keine Extremwerte. Solche Features kannst du direkt als Dimensionen für deine Vektoren verwenden.\n",
    "\n",
    "Allerdings könnte es gut sein, dass die Features nicht voneinander unabhängig sind. Dadurch setzt du dich der Gefahr eine Überbestimmung (Overfitting) aus. Am besten kannst du das in einem sog. *Pairplot* erkennen:"
   ]
  },
  {
   "cell_type": "code",
   "execution_count": null,
   "id": "9d4cc3a0",
   "metadata": {
    "id": "yTRRSwdd0Prx"
   },
   "outputs": [],
   "source": [
    "import seaborn as sns\n",
    "sns.pairplot(idf, hue=\"name\")"
   ]
  },
  {
   "cell_type": "markdown",
   "id": "96d335e5",
   "metadata": {},
   "source": [
    "Hier kannst du gut erkennen, das die Features `Petal Length` und `Petal Width` stark miteinander korrelieren, vermutlich weil sie einfach mit der Ausdehnung der Blüte skalieren. Bei einem Machine Learning-Projekt müsstest du jetzt vorsichtig sein und evtl. nur mit einem der beiden Features arbeiten."
   ]
  },
  {
   "cell_type": "markdown",
   "id": "d7f3150e",
   "metadata": {},
   "source": [
    "## Skalierung von Daten"
   ]
  },
  {
   "cell_type": "markdown",
   "id": "2d3a3cc7",
   "metadata": {},
   "source": [
    "Wie du oben sehen kannst, sind die Werte in den einzelnen Features *nicht gleichverteilt*. Üblicherweise sind die Breiten immer kleiner als die Längen. Das kann dir bei manchen Machine Learning-Algorithmen Schwierigkeiten bereiten.\n",
    "\n",
    "`scikit-learn` kann dir dabei helfen. Wenn du den `StandardScaler` benutzt, werden die Werte so normalisiert, dass sie einen einheitlichen Mittelwert (`0`) und die gleiche Standardabweichung (`1`) haben:"
   ]
  },
  {
   "cell_type": "code",
   "execution_count": null,
   "id": "c6ad953a",
   "metadata": {},
   "outputs": [],
   "source": [
    "from sklearn.preprocessing import StandardScaler\n",
    "idf_scale = pd.DataFrame(StandardScaler().fit_transform(idf[features]), columns=features)\n",
    "idf_scale.describe()"
   ]
  },
  {
   "cell_type": "markdown",
   "id": "a7f80ca6",
   "metadata": {},
   "source": [
    "Das kannst du dir auch grafisch anzeigen lassen:"
   ]
  },
  {
   "cell_type": "code",
   "execution_count": null,
   "id": "b97fe1bf",
   "metadata": {},
   "outputs": [],
   "source": [
    "idf_scale[\"name\"] = [iris[\"target_names\"][target] for target in iris[\"target\"]]\n",
    "sns.pairplot(idf_scale, hue=\"name\")"
   ]
  },
  {
   "cell_type": "markdown",
   "id": "6fa22c44",
   "metadata": {},
   "source": [
    "Das Verfahren funktioniert hier ganz gut, weil es keine [Ausreißer](https://de.wikipedia.org/wiki/Ausreißer) gibt. Wenn du Daten hast, bei denen das der Fall ist, verwendest du besser den `RobustScaler`, der mit Quantilen arbeitet:"
   ]
  },
  {
   "cell_type": "code",
   "execution_count": null,
   "id": "b40e9d7b",
   "metadata": {},
   "outputs": [],
   "source": [
    "from sklearn.preprocessing import RobustScaler\n",
    "idf_rscale = pd.DataFrame(RobustScaler().fit_transform(idf[features]), columns=features)\n",
    "idf_rscale.describe()"
   ]
  },
  {
   "cell_type": "markdown",
   "id": "859b5467",
   "metadata": {},
   "source": [
    "Die Mittelwerte und Standardabweichungen sind nun nicht normiert, dafür ist der Median nun überall 0. Je nach Daten kann diese Darstellung deutlich besser funktionieren."
   ]
  },
  {
   "cell_type": "markdown",
   "id": "c26e8658",
   "metadata": {},
   "source": [
    "## Strukturierte Daten vektorisieren"
   ]
  },
  {
   "cell_type": "markdown",
   "id": "de15a806",
   "metadata": {},
   "source": [
    "Strukturiert Werte lassen sich (relativ) leicht vektorisieren. Ein bisschen solltest du dabei auf die Skalierung der Werte achten. Diese Unterschiede und die daraus erwachsenden Differenzen bei den Modellen werden wir bei den un/überwachten Lernverfahren nochmal detailliert betrachten.\n",
    "\n",
    "Deutlich schwieriger hast du es mit unstrukturierten Daten - das schaust du dir im nächsten Teil an."
   ]
  }
 ],
 "metadata": {
  "kernelspec": {
   "display_name": "Python 3 (ipykernel)",
   "language": "python",
   "name": "python3"
  },
  "language_info": {
   "codemirror_mode": {
    "name": "ipython",
    "version": 3
   },
   "file_extension": ".py",
   "mimetype": "text/x-python",
   "name": "python",
   "nbconvert_exporter": "python",
   "pygments_lexer": "ipython3",
   "version": "3.8.10"
  },
  "toc": {
   "base_numbering": 1,
   "nav_menu": {},
   "number_sections": true,
   "sideBar": true,
   "skip_h1_title": false,
   "title_cell": "Table of Contents",
   "title_sidebar": "Contents",
   "toc_cell": false,
   "toc_position": {},
   "toc_section_display": true,
   "toc_window_display": false
  }
 },
 "nbformat": 4,
 "nbformat_minor": 5
}
