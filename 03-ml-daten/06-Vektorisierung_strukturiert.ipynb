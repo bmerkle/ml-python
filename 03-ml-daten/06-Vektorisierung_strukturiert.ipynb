{
 "cells": [
  {
   "cell_type": "code",
   "execution_count": null,
   "id": "0d12b2a6",
   "metadata": {},
   "outputs": [],
   "source": [
    "from sklearn import datasets\n",
    "iris = datasets.load_iris()\n",
    "iris"
   ]
  },
  {
   "cell_type": "code",
   "execution_count": null,
   "id": "a7cc8e0a",
   "metadata": {
    "id": "emU_ft_c0Prv"
   },
   "outputs": [],
   "source": [
    "import pandas as pd\n",
    "features = [\"Sepal Length\", \"Sepal Width\", \"Petal Length\", \"Petal Width\"]\n",
    "idf = pd.DataFrame(iris[\"data\"], columns=features)\n",
    "idf[\"name\"] = [iris[\"target_names\"][target] for target in iris[\"target\"]]\n",
    "idf"
   ]
  },
  {
   "cell_type": "code",
   "execution_count": null,
   "id": "541e9f1e",
   "metadata": {
    "id": "4poK7D6w0Prw"
   },
   "outputs": [],
   "source": [
    "idf.describe()"
   ]
  },
  {
   "cell_type": "code",
   "execution_count": null,
   "id": "797af13b",
   "metadata": {
    "id": "QfrDV0pB0Prw"
   },
   "outputs": [],
   "source": [
    "import matplotlib.pyplot as plt\n",
    "for f in features:\n",
    "    fig = idf[f].plot.hist(title=f)\n",
    "    plt.show()\n",
    "    plt.close()"
   ]
  },
  {
   "cell_type": "code",
   "execution_count": null,
   "id": "9d4cc3a0",
   "metadata": {
    "id": "yTRRSwdd0Prx"
   },
   "outputs": [],
   "source": [
    "import seaborn as sns\n",
    "sns.pairplot(idf, hue=\"name\")"
   ]
  },
  {
   "cell_type": "code",
   "execution_count": null,
   "id": "c6ad953a",
   "metadata": {},
   "outputs": [],
   "source": [
    "from sklearn.preprocessing import StandardScaler\n",
    "idf_scale = pd.DataFrame(StandardScaler().fit_transform(idf[features]), columns=features)\n",
    "idf_scale.describe()"
   ]
  },
  {
   "cell_type": "code",
   "execution_count": null,
   "id": "b97fe1bf",
   "metadata": {},
   "outputs": [],
   "source": [
    "idf_scale[\"name\"] = [iris[\"target_names\"][target] for target in iris[\"target\"]]\n",
    "sns.pairplot(idf_scale, hue=\"name\")"
   ]
  },
  {
   "cell_type": "code",
   "execution_count": null,
   "id": "b40e9d7b",
   "metadata": {},
   "outputs": [],
   "source": [
    "from sklearn.preprocessing import RobustScaler\n",
    "idf_rscale = pd.DataFrame(RobustScaler().fit_transform(idf[features]), columns=features)\n",
    "idf_rscale.describe()"
   ]
  }
 ],
 "metadata": {
  "kernelspec": {
   "display_name": "Python 3 (ipykernel)",
   "language": "python",
   "name": "python3"
  },
  "language_info": {
   "codemirror_mode": {
    "name": "ipython",
    "version": 3
   },
   "file_extension": ".py",
   "mimetype": "text/x-python",
   "name": "python",
   "nbconvert_exporter": "python",
   "pygments_lexer": "ipython3",
   "version": "3.8.10"
  },
  "toc": {
   "base_numbering": 1,
   "nav_menu": {},
   "number_sections": true,
   "sideBar": true,
   "skip_h1_title": false,
   "title_cell": "Table of Contents",
   "title_sidebar": "Contents",
   "toc_cell": false,
   "toc_position": {},
   "toc_section_display": true,
   "toc_window_display": false
  }
 },
 "nbformat": 4,
 "nbformat_minor": 5
}
