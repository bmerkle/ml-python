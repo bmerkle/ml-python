{
 "cells": [
  {
   "cell_type": "markdown",
   "id": "c58841e3",
   "metadata": {},
   "source": [
    "# Basisdaten und Statistik"
   ]
  },
  {
   "cell_type": "markdown",
   "id": "04a66a70",
   "metadata": {},
   "source": [
    "Die für dich notwendigen Daten hast du bereits im letzten Teil heruntergeladen.\n",
    "\n",
    "Aber sind diese Daten für deinen Anwendungszweck überhaupt geeignet? Das zeigt dir eine statistische Auswertung. Das mag langweilig klingen, ist aber für das anschließend folgende Machine Learning enorm wichtig. Sehr viele Projekte scheitern nämlich, weil die Datenqualität einfach nicht stimmt.\n",
    "\n",
    "Die Datenqualität kannst du auch selbst verbessern, indem du z.B. fehlende Daten erkennst oder solche, bei denen es sich offensichtlich um Fehler (Outlier) handelt. Dieser Vorgang wird oft das *Data Cleansing* bezeichnet. Wenn du Texte verarbeiten möchtest, spielt z.B. hier die Landessprache auch eine große Rolle. Mehr darüber erfährst du im NLP-Kurs.\n",
    "\n",
    "Häufig wirst du mit zeitabhängigen Daten arbeiten. Diese *Zeitreihen* solltest du genau analysieren, um zu verhindern, dass du mit veralteten Daten arbeitest."
   ]
  },
  {
   "cell_type": "markdown",
   "id": "282c408a",
   "metadata": {},
   "source": [
    "## Statistik des Heise Newstickers"
   ]
  },
  {
   "cell_type": "markdown",
   "id": "19225a6e",
   "metadata": {},
   "source": [
    "Wie du im letzten Teil gesehen hast, kann man relativ einfach die Daten des Heise Newstickers herunterladen. Wie das genau geht, kannst du im NLP-Videokurs sehen. Dort erkläre ich dir auch, wie man die Texte analysiert und die Anzahl der Wörter (Tokens) bestimmt.\n",
    "\n",
    "Hier gehen wir davon aus, dass du das schon erledigt hast (oder jemand anders für dich). Die Daten sind schon über die Monate aggregiert und stehen die als CSV-Datei zur Verfügung. Du weißt schon, wie du das mit `pandas` einlesen kannst:"
   ]
  },
  {
   "cell_type": "code",
   "execution_count": null,
   "id": "c2a1e581-4730-4987-b7bb-9cc557545686",
   "metadata": {},
   "outputs": [],
   "source": [
    "import sys, os\n",
    "ON_COLAB = 'google.colab' in sys.modules\n",
    "\n",
    "if ON_COLAB:\n",
    "    os.system(\"test -f heise-monthly.csv || wget  https://github.com/heiseacademy/ml-python/raw/main/02-ml-intro/heise-monthly.csv\")"
   ]
  },
  {
   "cell_type": "code",
   "execution_count": null,
   "id": "30403e5e",
   "metadata": {},
   "outputs": [],
   "source": [
    "import pandas as pd\n",
    "heise_monthly = pd.read_csv(\"heise-monthly.csv\", parse_dates=[\"month\"], index_col=\"month\")\n",
    "heise_monthly"
   ]
  },
  {
   "cell_type": "markdown",
   "id": "3c28a950",
   "metadata": {},
   "source": [
    "Für jeden Monat findest du hier die Anzahl der Artikel und die mittlere Anzahl an Tokens. Am einfachsten kannst du dir einen `DataFrame` mit `describe` erklären lassen:"
   ]
  },
  {
   "cell_type": "code",
   "execution_count": null,
   "id": "a15b5945",
   "metadata": {},
   "outputs": [],
   "source": [
    "heise_monthly.describe()"
   ]
  },
  {
   "cell_type": "markdown",
   "id": "a4622f2f",
   "metadata": {},
   "source": [
    "Das ist eine sog. [Five Number Summary](https://en.wikipedia.org/wiki/Five-number_summary), in der du wesentliche statistische Eigenschaften findest. Du kannst dir das natürlich auch als Grafik ausgeben lassen, zunächst die Anzahl der Artikel:"
   ]
  },
  {
   "cell_type": "code",
   "execution_count": null,
   "id": "d79b9395",
   "metadata": {},
   "outputs": [],
   "source": [
    "heise_monthly[\"count\"].plot()"
   ]
  },
  {
   "cell_type": "markdown",
   "id": "6ac805b4",
   "metadata": {},
   "source": [
    "Das sieht gut aus, die Anzahl war zwar um 2005/2006 etwas höher, hat sich aber (etwa durch Corona) im Jahr 2020 wieder ziemlich erhöht. Wie sieht es mit der Länge der Artikel in Wörtern (Tokens) aus:"
   ]
  },
  {
   "cell_type": "code",
   "execution_count": null,
   "id": "885d5254",
   "metadata": {},
   "outputs": [],
   "source": [
    "heise_monthly[\"tokens\"].plot()"
   ]
  },
  {
   "cell_type": "markdown",
   "id": "b3b63d22",
   "metadata": {},
   "source": [
    "Die Heise-Autoren sind wirklich fleißig und schreiben immer längere Texte!\n",
    "\n",
    "Natürlich haben wir noch nicht die fachliche Domäne überprüft. So könnte es ja sein, dass der Newsticker nur noch Werbung enthält. Die inhaltliche Analyse ist deutlich schwieriger, dazu findest du auch im NLP-Kurs (sehr) viel mehr.\n",
    "\n",
    "Du kannst an dieser Stelle jedenfalls festhalten, dass die Daten statistisch gut geeignet sind als Basis für *Machine Learning*. Sie sind aktuell, die Textlänge entwickelt sich positiv. Das ist bei weitem nicht immer so!"
   ]
  },
  {
   "cell_type": "markdown",
   "id": "23b8f97f",
   "metadata": {},
   "source": [
    "## Statistik der Konsumindikatoren"
   ]
  },
  {
   "cell_type": "code",
   "execution_count": null,
   "id": "78c81caa",
   "metadata": {},
   "outputs": [],
   "source": [
    "!pip install eurostat"
   ]
  },
  {
   "cell_type": "markdown",
   "id": "6a1d2c41",
   "metadata": {},
   "source": [
    "Alle Statistikdaten haben bei Eurostat ein Kürzel. In diesem Beispiel beschäftigst du dich mit den *Konsumindikatoren*, diese tragen das Kürzel `ei_bsco_m`. Es handelt sich dabei um sog. *business and consumer surveys*, die monatlich verdichtet sind (alternativ könntest du die auch auf das Quartal aggregiert herunterladen). Eine genauere Erklärung findest du [hier](https://ec.europa.eu/eurostat/cache/metadata/en/ei_bcs_esms.htm). \n",
    "\n",
    "Das Herunterladen der Daten ist nun sehr einfach:"
   ]
  },
  {
   "cell_type": "code",
   "execution_count": null,
   "id": "f8bc9366",
   "metadata": {},
   "outputs": [],
   "source": [
    "import eurostat\n",
    "df = eurostat.get_data_df(\"ei_bsco_m\")"
   ]
  },
  {
   "cell_type": "markdown",
   "id": "a2496796",
   "metadata": {},
   "source": [
    "Betrachte im nächsten Schritt die Daten:"
   ]
  },
  {
   "cell_type": "code",
   "execution_count": null,
   "id": "d0ab1200",
   "metadata": {},
   "outputs": [],
   "source": [
    "df"
   ]
  },
  {
   "cell_type": "markdown",
   "id": "489d5de5",
   "metadata": {},
   "source": [
    "`geo\\time` ist eine etwas unglückliche Bezeichnung, hier ist nur das Land gemeint, das kannst du einfach umbenennen:"
   ]
  },
  {
   "cell_type": "markdown",
   "id": "27eaa03a",
   "metadata": {},
   "source": [
    "### Datenstruktur anpassen"
   ]
  },
  {
   "cell_type": "code",
   "execution_count": null,
   "id": "e00ddecb",
   "metadata": {},
   "outputs": [],
   "source": [
    "df = df.rename(columns={\"geo\\\\TIME_PERIOD\": \"country\"})"
   ]
  },
  {
   "cell_type": "markdown",
   "id": "c1b37e2c",
   "metadata": {},
   "source": [
    "Ebenso etwas merkwürdig sind die Monatsnamen in Form von `2021M04` etc., die du auch besser durch ein `datetime`-Objekt in Python ersetzt:"
   ]
  },
  {
   "cell_type": "code",
   "execution_count": null,
   "id": "c06c4509",
   "metadata": {},
   "outputs": [],
   "source": [
    "from datetime import datetime\n",
    "df.columns = [datetime.strptime(f + \"-01\", \"%Y-%m-%d\")\n",
    "                if f.startswith(\"20\") or f.startswith(\"19\") else f for f in df.columns]"
   ]
  },
  {
   "cell_type": "markdown",
   "id": "183b9251",
   "metadata": {},
   "source": [
    "Du interessiert dich nun für die Zeitentwicklung des Konsumindikators *Konsumentenvertrauen* in Deutschland:"
   ]
  },
  {
   "cell_type": "markdown",
   "id": "893a62c0",
   "metadata": {},
   "source": [
    "### Zeitreihen"
   ]
  },
  {
   "cell_type": "code",
   "execution_count": null,
   "id": "9e298156",
   "metadata": {},
   "outputs": [],
   "source": [
    "bs_de = df[(df[\"indic\"] == \"BS-CSMCI\") & (df[\"s_adj\"] == \"SA\") & (df[\"country\"] == \"DE\")]\n",
    "bs_de = bs_de[[c for c in bs_de.columns \n",
    "                     if (isinstance(c, datetime) and c.year>=2000)]]\n",
    "bs_de"
   ]
  },
  {
   "cell_type": "markdown",
   "id": "e43ce225",
   "metadata": {},
   "source": [
    "Das Ergebnis kannst du plotten und hast dann auch eine Zeitreihe wie oben. Du kannst die Effekte der Finanzkrise und der Corona-Krise sehr gut erkennen. Damit hast du sichergestellt, dass du den richtigen Indikator betrachtest! "
   ]
  },
  {
   "cell_type": "code",
   "execution_count": null,
   "id": "551697a3",
   "metadata": {},
   "outputs": [],
   "source": [
    "bs_de.T.plot()"
   ]
  },
  {
   "cell_type": "markdown",
   "id": "73c94db3",
   "metadata": {},
   "source": [
    "In Deutschland sehen die Indikatoren gut aus, im nächsten Schritt untersuchst du die Vollständigkeit."
   ]
  },
  {
   "cell_type": "markdown",
   "id": "dd1f8809",
   "metadata": {},
   "source": [
    "### Vollständigkeit der Daten"
   ]
  },
  {
   "cell_type": "markdown",
   "id": "e9e77a1f",
   "metadata": {},
   "source": [
    "Dafür betrachtest du die saisonjustierten Daten zu einem beswtimmten Zeitpunkt, allerdings für alle Länder gleichzeitig. Die `pivot`-Funktion kennst du schon, die ist hier sehr nützlich:"
   ]
  },
  {
   "cell_type": "code",
   "execution_count": null,
   "id": "a02e0b60",
   "metadata": {},
   "outputs": [],
   "source": [
    "indic_country = df[df[\"s_adj\"] == \"SA\"].pivot(index=\"country\", columns=\"indic\", values=datetime(2021, 6, 1))\n",
    "indic_country"
   ]
  },
  {
   "cell_type": "markdown",
   "id": "138a167e",
   "metadata": {},
   "source": [
    "In der Tabelle fallen dir schon die `NaN` auf, noch besser kannst du das über eine Heatmap erkennen:"
   ]
  },
  {
   "cell_type": "code",
   "execution_count": null,
   "id": "2ff9b5a2",
   "metadata": {},
   "outputs": [],
   "source": [
    "import seaborn as sns\n",
    "import matplotlib.pyplot as plt\n",
    "plt.figure(figsize=(10, 10))\n",
    "sns.heatmap(indic_country)"
   ]
  },
  {
   "cell_type": "markdown",
   "id": "f11e6731",
   "metadata": {},
   "source": [
    "In Rumänien sind für diesen Zeitpunkt gar keine Daten gemeldet worden, ebenso im UK. Hier musst du also mit der Analyse vorsichtig sein. Für den Euro-Raum und die gesamte EU fehlt noch der Indikator `BS-SV-PR`."
   ]
  },
  {
   "cell_type": "markdown",
   "id": "6f4a6115",
   "metadata": {},
   "source": [
    "### Korrelation der Daten"
   ]
  },
  {
   "cell_type": "markdown",
   "id": "858e9477",
   "metadata": {},
   "source": [
    "Im letzten Teil dieses Notebooks betrachtest du die Abhängigkeiten der Indikatoren zueinander. Oftmals wirst du es mit Größen zu tun haben, die gar nicht unabhängig voneinander sind. Um das zu ermitteln, gibt es in Python und `pandas` leistungsfähige Funktionen.\n",
    "\n",
    "Du schaust dir dazu die Konsumindikatoren für Deutschland ab dem Jahr 2000 an:"
   ]
  },
  {
   "cell_type": "code",
   "execution_count": null,
   "id": "d3ae5309",
   "metadata": {},
   "outputs": [],
   "source": [
    "# Jahre ab 2000\n",
    "columns_2000 = [c for c in df.columns if isinstance(c, datetime) and (c.year>=2000)]\n",
    "\n",
    "de = df[(df[\"s_adj\"] == \"SA\") & (df[\"country\"] == \"DE\")].set_index(\"indic\")[columns_2000].transpose()\n",
    "de"
   ]
  },
  {
   "cell_type": "markdown",
   "id": "1ee4c2ed",
   "metadata": {},
   "source": [
    "Die Abhängigkeit jeweils zweier Indikatoren kannst du nun als *Scatterplot* darstellen, am besten geht das mit `seaborn`:"
   ]
  },
  {
   "cell_type": "code",
   "execution_count": null,
   "id": "dc28af66",
   "metadata": {},
   "outputs": [],
   "source": [
    "sns.jointplot(x=de[\"BS-SFSH\"], y=de[\"BS-CSMCI\"], scatter=False, kind=\"reg\")"
   ]
  },
  {
   "cell_type": "markdown",
   "id": "db8cb83a",
   "metadata": {},
   "source": [
    "In der Grafik kannst du erkennen, dass die Indikatoren stark voneinander abhängig sind. Wenn du diese später als Features verwenden willst, musst du sehr aufpassen, dass es dadurch nicht zum sog. *Overfitting* kommt.\n",
    "\n",
    "Wenn du noch mehr Abhängigkeiten auf einmal darstellen möchtest, kannst du das in einem Gitter anordnen:"
   ]
  },
  {
   "cell_type": "code",
   "execution_count": null,
   "id": "c3b12c67",
   "metadata": {},
   "outputs": [],
   "source": [
    "sns.pairplot(de)"
   ]
  },
  {
   "cell_type": "markdown",
   "id": "7d168591",
   "metadata": {},
   "source": [
    "Zugebenermaßen sind das ziemlich viele Plots. Bei einigen kannst du eine (positive) Korrelation erkennen, bei anderen eine Antikorrelation. Ein gutes Maß dafür ist das sog. [Pearson-R](https://de.wikipedia.org/wiki/Korrelationskoeffizient#Voraussetzungen_f%C3%BCr_die_Pearson-Korrelation), das du für alle Permutationen aus Indikatoren berechnen kannst."
   ]
  },
  {
   "cell_type": "code",
   "execution_count": null,
   "id": "cae12038",
   "metadata": {},
   "outputs": [],
   "source": [
    "from scipy.stats import linregress\n",
    "from itertools import permutations\n",
    "res = []\n",
    "for (i1, i2) in permutations(de.columns, 2):\n",
    "    res.append({ \"Indikator 1\": i1, \"Indikator 2\": i2, \"Pearson R\": linregress(de[i1], de[i2]).rvalue})"
   ]
  },
  {
   "cell_type": "markdown",
   "id": "4202f085",
   "metadata": {},
   "source": [
    "Passenderweise gibt uns `pandas` die mit den stärksten Korrelationen und Antikorrelationen gleich aus:"
   ]
  },
  {
   "cell_type": "code",
   "execution_count": null,
   "id": "c5f791f6",
   "metadata": {},
   "outputs": [],
   "source": [
    "pd.DataFrame(res).sort_values(\"Pearson R\")"
   ]
  },
  {
   "cell_type": "markdown",
   "id": "8b1a7560",
   "metadata": {},
   "source": [
    "## Korrelationen nicht unterschätzen"
   ]
  },
  {
   "cell_type": "markdown",
   "id": "5e274a64",
   "metadata": {},
   "source": [
    "Es ist wichtig, dass du die Korrelationen kennst, damit du nicht mit zu vielen Variablen in deinem Machine Learning-Projekt arbeitest. Sonst besteht die Gefahr des Overfittings."
   ]
  }
 ],
 "metadata": {
  "kernelspec": {
   "display_name": "Python 3 (ipykernel)",
   "language": "python",
   "name": "python3"
  },
  "language_info": {
   "codemirror_mode": {
    "name": "ipython",
    "version": 3
   },
   "file_extension": ".py",
   "mimetype": "text/x-python",
   "name": "python",
   "nbconvert_exporter": "python",
   "pygments_lexer": "ipython3",
   "version": "3.8.10"
  }
 },
 "nbformat": 4,
 "nbformat_minor": 5
}
