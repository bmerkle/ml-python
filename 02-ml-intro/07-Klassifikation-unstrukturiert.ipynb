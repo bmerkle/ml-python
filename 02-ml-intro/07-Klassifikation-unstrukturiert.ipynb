{
 "cells": [
  {
   "cell_type": "markdown",
   "metadata": {
    "id": "Pb_PBThH0Pri"
   },
   "source": [
    "# Klassifikation mit unstrukturierten Daten"
   ]
  },
  {
   "cell_type": "markdown",
   "metadata": {
    "id": "v5q2F00O0Pry"
   },
   "source": [
    "## Unstrukturierte Daten"
   ]
  },
  {
   "cell_type": "markdown",
   "metadata": {},
   "source": [
    "Wir beschäftigen und jetzt mit Textdaten. Dazu haben wir alle Toplevel-Posts des [Technology Subreddit](https://www.reddit.com/r/Technology) heruntergeladen und in einer CSV-Datei gespeichert:"
   ]
  },
  {
   "cell_type": "markdown",
   "metadata": {},
   "source": [
    " ### Feature Engineering"
   ]
  },
  {
   "cell_type": "markdown",
   "metadata": {
    "id": "DRvS1KLp0Pry"
   },
   "source": [
    "Bei unstrukturierten Daten musst du erst Features finden. Bei Bildern ist das z.B. sehr schwierig, deswegen wird dort fast immer nur Deep Learning verwendet. Dort macht der erste Layer aus den Pixel eine Art Features."
   ]
  },
  {
   "cell_type": "code",
   "execution_count": 1,
   "metadata": {
    "id": "_HuPGQO20Pry"
   },
   "outputs": [],
   "source": [
    "import pandas as pd\n",
    "docs = pd.read_csv(\"reddit-technology-toplevel-title.csv.xz\", parse_dates=[\"created_utc\"])"
   ]
  },
  {
   "cell_type": "markdown",
   "metadata": {
    "id": "XpRii6_O0Pry"
   },
   "source": [
    "Wie du siehst, sind das *viele* Posts, nämlich fast zwei Millionen:"
   ]
  },
  {
   "cell_type": "code",
   "execution_count": 2,
   "metadata": {
    "id": "yuD25gL50Prz"
   },
   "outputs": [
    {
     "data": {
      "text/html": [
       "<div>\n",
       "<style scoped>\n",
       "    .dataframe tbody tr th:only-of-type {\n",
       "        vertical-align: middle;\n",
       "    }\n",
       "\n",
       "    .dataframe tbody tr th {\n",
       "        vertical-align: top;\n",
       "    }\n",
       "\n",
       "    .dataframe thead th {\n",
       "        text-align: right;\n",
       "    }\n",
       "</style>\n",
       "<table border=\"1\" class=\"dataframe\">\n",
       "  <thead>\n",
       "    <tr style=\"text-align: right;\">\n",
       "      <th></th>\n",
       "      <th>title</th>\n",
       "      <th>created_utc</th>\n",
       "      <th>flair</th>\n",
       "    </tr>\n",
       "  </thead>\n",
       "  <tbody>\n",
       "    <tr>\n",
       "      <th>0</th>\n",
       "      <td>Samsung vice chairman Jay Y. Lee faces nine-ye...</td>\n",
       "      <td>2020-12-31 16:36:16</td>\n",
       "      <td>Society</td>\n",
       "    </tr>\n",
       "    <tr>\n",
       "      <th>1</th>\n",
       "      <td>Asus TUF Gaming A15 Review</td>\n",
       "      <td>2020-12-31 09:51:03</td>\n",
       "      <td>Business</td>\n",
       "    </tr>\n",
       "    <tr>\n",
       "      <th>2</th>\n",
       "      <td>Google Maps' Moat is Evaporating</td>\n",
       "      <td>2020-12-31 02:52:38</td>\n",
       "      <td>Software</td>\n",
       "    </tr>\n",
       "    <tr>\n",
       "      <th>3</th>\n",
       "      <td>A $15,000 Network Switch?? - HOLY $H!T</td>\n",
       "      <td>2020-12-30 18:12:41</td>\n",
       "      <td>NaN</td>\n",
       "    </tr>\n",
       "    <tr>\n",
       "      <th>4</th>\n",
       "      <td>25 inch E-INK monitor to reduce eyestrain</td>\n",
       "      <td>2020-12-30 09:51:50</td>\n",
       "      <td>NaN</td>\n",
       "    </tr>\n",
       "    <tr>\n",
       "      <th>...</th>\n",
       "      <td>...</td>\n",
       "      <td>...</td>\n",
       "      <td>...</td>\n",
       "    </tr>\n",
       "    <tr>\n",
       "      <th>1922036</th>\n",
       "      <td>Privacy concerns mount amid the 'microchipping...</td>\n",
       "      <td>2008-02-04 21:48:01</td>\n",
       "      <td>NaN</td>\n",
       "    </tr>\n",
       "    <tr>\n",
       "      <th>1922037</th>\n",
       "      <td>NEW 3d Display using holograms</td>\n",
       "      <td>2008-02-07 04:39:30</td>\n",
       "      <td>NaN</td>\n",
       "    </tr>\n",
       "    <tr>\n",
       "      <th>1922038</th>\n",
       "      <td>5 Heavy-Duty Supercomputer Science Projects fo...</td>\n",
       "      <td>2008-01-31 01:43:25</td>\n",
       "      <td>NaN</td>\n",
       "    </tr>\n",
       "    <tr>\n",
       "      <th>1922039</th>\n",
       "      <td>new Xfce desktop environment (Xfld 0.3)</td>\n",
       "      <td>2008-01-28 08:13:29</td>\n",
       "      <td>NaN</td>\n",
       "    </tr>\n",
       "    <tr>\n",
       "      <th>1922040</th>\n",
       "      <td>Big won't win</td>\n",
       "      <td>2008-02-02 00:44:25</td>\n",
       "      <td>NaN</td>\n",
       "    </tr>\n",
       "  </tbody>\n",
       "</table>\n",
       "<p>1922041 rows × 3 columns</p>\n",
       "</div>"
      ],
      "text/plain": [
       "                                                     title  \\\n",
       "0        Samsung vice chairman Jay Y. Lee faces nine-ye...   \n",
       "1                               Asus TUF Gaming A15 Review   \n",
       "2                         Google Maps' Moat is Evaporating   \n",
       "3                   A $15,000 Network Switch?? - HOLY $H!T   \n",
       "4                25 inch E-INK monitor to reduce eyestrain   \n",
       "...                                                    ...   \n",
       "1922036  Privacy concerns mount amid the 'microchipping...   \n",
       "1922037                     NEW 3d Display using holograms   \n",
       "1922038  5 Heavy-Duty Supercomputer Science Projects fo...   \n",
       "1922039            new Xfce desktop environment (Xfld 0.3)   \n",
       "1922040                                      Big won't win   \n",
       "\n",
       "                created_utc     flair  \n",
       "0       2020-12-31 16:36:16   Society  \n",
       "1       2020-12-31 09:51:03  Business  \n",
       "2       2020-12-31 02:52:38  Software  \n",
       "3       2020-12-30 18:12:41       NaN  \n",
       "4       2020-12-30 09:51:50       NaN  \n",
       "...                     ...       ...  \n",
       "1922036 2008-02-04 21:48:01       NaN  \n",
       "1922037 2008-02-07 04:39:30       NaN  \n",
       "1922038 2008-01-31 01:43:25       NaN  \n",
       "1922039 2008-01-28 08:13:29       NaN  \n",
       "1922040 2008-02-02 00:44:25       NaN  \n",
       "\n",
       "[1922041 rows x 3 columns]"
      ]
     },
     "execution_count": 2,
     "metadata": {},
     "output_type": "execute_result"
    }
   ],
   "source": [
    "docs"
   ]
  },
  {
   "cell_type": "markdown",
   "metadata": {
    "id": "xDl7E1QY0Prz"
   },
   "source": [
    "Sind die Daten hinreichend aktuell? Solche Informationen überprüfst du besser gleich ganz zu Beginn:"
   ]
  },
  {
   "cell_type": "code",
   "execution_count": 3,
   "metadata": {
    "id": "Utg0unJl0Pr0"
   },
   "outputs": [
    {
     "data": {
      "text/plain": [
       "<AxesSubplot:xlabel='created_utc'>"
      ]
     },
     "execution_count": 3,
     "metadata": {},
     "output_type": "execute_result"
    },
    {
     "data": {
      "image/png": "[encoded data removed]",
      "text/plain": [
       "<Figure size 432x288 with 1 Axes>"
      ]
     },
     "metadata": {
      "needs_background": "light"
     },
     "output_type": "display_data"
    }
   ],
   "source": [
    "docs.set_index(\"created_utc\").resample(\"Q\").count().plot()"
   ]
  },
  {
   "cell_type": "markdown",
   "metadata": {
    "id": "-v8Ajx4l0Pr0"
   },
   "source": [
    "Das ist zwar nicht perfekt, aber es eignet sich doch hinreichend gut für eine Analyse.\n",
    "\n",
    "Um die Daten zu vektorisieren, solltest du zuerst die Stopwords eliminieren. Das ist normalerweise ein iterativer Prozess, hier findest du die etwas ergänzte Stopword-Liste von `spacy` (damit du das nicht noch installieren musst):"
   ]
  },
  {
   "cell_type": "code",
   "execution_count": 4,
   "metadata": {
    "id": "Pq5J3J2e0Pr0"
   },
   "outputs": [],
   "source": [
    "stop_words= {\"'d\", \"'ll\", \"'m\", \"'re\", \"'s\", \"'ve\", 'a', 'about', 'above', 'across', 'after', 'afterwards', 'again', \n",
    "             'against', 'all', 'almost', 'alone', 'along', 'already', 'also', 'although', 'always', 'am', 'among', \n",
    "             'amongst', 'amount', 'amp', 'an', 'and', 'another', 'any', 'anyhow', 'anyone', 'anything', 'anyway', \n",
    "             'anywhere', 'are', 'around', 'as', 'at', 'back', 'be', 'became', 'because', 'become', 'becomes', \n",
    "             'becoming', 'been', 'before', 'beforehand', 'behind', 'being', 'below', 'beside', 'besides', 'between', \n",
    "             'beyond', 'blog', 'body', 'both', 'bottom', 'but', 'buy', 'buycheap', 'by', 'ca', 'call', 'can', 'cannot', \n",
    "             'case', 'change', 'co', 'com', 'could', 'create', 'delete', 'did', 'do', 'does', 'doing', 'done', 'down', \n",
    "             'download', 'drive', 'due', 'during', 'each', 'eight', 'either', 'eleven', 'else', 'elsewhere', 'email', \n",
    "             'empty', 'enough', 'even', 'ever', 'every', 'everyone', 'everything', 'everywhere', 'except', 'few', \n",
    "             'fifteen', 'fifty', 'first', 'five', 'fix', 'for', 'former', 'formerly', 'forty', 'four', 'from', 'front', \n",
    "             'full', 'further', 'get', 'give', 'go', 'good', 'had', 'has', 'have', 'he', 'help', 'hence', 'her', 'here', \n",
    "             'hereafter', 'hereby', 'herein', 'hereupon', 'hers', 'herself', 'him', 'himself', 'his', 'how', 'however', \n",
    "             'http', 'https', 'hundred', 'i', 'if', 'in', 'indeed', 'into', 'is', 'it', 'its', 'itself', 'just', 'keep', \n",
    "             'last', 'late', 'latter', 'latterly', 'least', 'less', 'll', 'look', 'made', 'make', 'many', 'market', 'may', \n",
    "             'me', 'meanwhile', 'message', 'might', 'mine', 'more', 'moreover', 'most', 'mostly', 'move', 'much', \n",
    "             'must', 'my', 'myself', \"n't\", 'name', 'namely', 'need', 'neither', 'never', 'nevertheless', 'new', 'news', \n",
    "             'next', 'nine', 'no', 'nobody', 'none', 'noone', 'nor', 'not', 'nothing', 'now', 'nowhere', 'number', 'n‘t', \n",
    "             'n’t', 'of', 'off', 'often', 'on', 'once', 'one', 'online', 'only', 'onto', 'or', 'other', 'others', \n",
    "             'otherwise', 'our', 'ours', 'ourselves', 'out', 'over', 'own', 'page', 'part', 'pass', 'per', 'perhaps', \n",
    "             'please', 'post', 'put', 'question', 'quite', 'rather', 're', 'really', 'reddit', 'regarding', 'remove', \n",
    "             'review', 'same', 'say', 'search', 'see', 'seem', 'seemed', 'seeming', 'seems', 'self', 'send', 'serious', \n",
    "             'several', 'she', 'should', 'show', 'side', 'since', 'site', 'six', 'sixty', 'so', 'some', 'somehow', \n",
    "             'someone', 'something', 'sometime', 'sometimes', 'somewhere', 'still', 'such', 'support', 'take', 'ten', \n",
    "             'test', 'text', 'than', 'that', 'the', 'their', 'them', 'themselves', 'then', 'thence', 'there', \n",
    "             'thereafter', 'thereby', 'therefore', 'therein', 'thereupon', 'these', 'they', 'third', 'this', 'those', \n",
    "             'though', 'three', 'through', 'throughout', 'thru', 'thus', 'time', 'to', 'together', 'too', 'top', \n",
    "             'toward', 'towards', 'twelve', 'twenty', 'two', 'under', 'unless', 'unlock', 'until', 'up', 'upon', \n",
    "             'us', 'use', 'used', 'using', 'various', 've', 'very', 'via', 'video', 'was', 'watch', 'way', 'we', 'well', \n",
    "             'were', 'what', 'whatever', 'when', 'whence', 'whenever', 'where', 'whereafter', 'whereas', 'whereby', \n",
    "             'wherein', 'whereupon', 'wherever', 'whether', 'which', 'while', 'whither', 'who', 'whoever', 'whole', \n",
    "             'whom', 'whose', 'why', 'will', 'with', 'within', 'without', 'work', 'would', 'yet', 'you', 'your', \n",
    "             'yours', 'yourself', 'yourselves', '‘d', '‘ll', '‘m', '‘re', '‘s', '‘ve', '’d', '’ll', '’m', '’re', \n",
    "             '’s', '’ve'}"
   ]
  },
  {
   "cell_type": "markdown",
   "metadata": {
    "id": "kXTX4GFF0Pr2"
   },
   "source": [
    "Für die Vektorisierung von Dokumente werden normalerweise die Wörter gezählt und als Features verwendet. Damit besonders häufige Wörter nicht zu stark dominieren, werden die mit der sog. \"Inverierten Dokumentenfrequenz\" abgewertet.\n",
    "\n",
    "`scikit-learn` kann das mit dem `TfidfVectorizer` alles für dich erledigen"
   ]
  },
  {
   "cell_type": "code",
   "execution_count": 5,
   "metadata": {
    "id": "8MMl7E-q0Pr2"
   },
   "outputs": [
    {
     "data": {
      "text/plain": [
       "<1922041x44978 sparse matrix of type '<class 'numpy.float64'>'\n",
       "\twith 11397513 stored elements in Compressed Sparse Row format>"
      ]
     },
     "execution_count": 5,
     "metadata": {},
     "output_type": "execute_result"
    }
   ],
   "source": [
    "from sklearn.feature_extraction.text import TfidfVectorizer\n",
    "tfidf_vectorizer = TfidfVectorizer(min_df=10, stop_words=stop_words)\n",
    "tfidf_vectors = tfidf_vectorizer.fit_transform(docs[\"title\"].map(str))\n",
    "tfidf_vectors"
   ]
  },
  {
   "cell_type": "markdown",
   "metadata": {
    "id": "JtdscgY-0Pr3"
   },
   "source": [
    "Wie du siehst, ist die entstehende Matrix mit fast zwei Millionen Zeilen und knap 45.000 Spalten *sehr groß*. Da die meisten Wörter in den meisten Dokumenten nicht vorkommen, besteht sie zu einem ganz großen Teil aus leeren Einträgen und kann daher als sog. *sparse matrix* sehr effizient abgelegt werden:"
   ]
  },
  {
   "cell_type": "code",
   "execution_count": 6,
   "metadata": {
    "id": "SB2SgOeu0Pr3"
   },
   "outputs": [
    {
     "data": {
      "text/plain": [
       "91180104"
      ]
     },
     "execution_count": 6,
     "metadata": {},
     "output_type": "execute_result"
    }
   ],
   "source": [
    "tfidf_vectors.data.nbytes"
   ]
  },
  {
   "cell_type": "markdown",
   "metadata": {
    "id": "1FwnKomg0Pr4"
   },
   "source": [
    "Bei einer `float`-Darstellung mit vier Bytes pro `float` würde das in einer naiven Darstellung 1922041 x 44978 x 4 Bytes = 322 GB RAM benötigen. Zum Glück sind es hier nur 130 MB - ein Effizienzgewinn fast um den Faktor 3.000. Nur deswegen funktioniert das überhaupt!"
   ]
  },
  {
   "cell_type": "markdown",
   "metadata": {
    "id": "eSvBRglG0Pr_"
   },
   "source": [
    "### Reddit-Klassifikation"
   ]
  },
  {
   "cell_type": "markdown",
   "metadata": {
    "id": "8VNQmV9I0Pr_"
   },
   "source": [
    "Betrachten wir unser echtes Datenset, gibt es auch hier Kategorien, nämlich die Flairs:"
   ]
  },
  {
   "cell_type": "code",
   "execution_count": 7,
   "metadata": {
    "id": "LswcNL2V0Pr_"
   },
   "outputs": [
    {
     "data": {
      "text/html": [
       "<div>\n",
       "<style scoped>\n",
       "    .dataframe tbody tr th:only-of-type {\n",
       "        vertical-align: middle;\n",
       "    }\n",
       "\n",
       "    .dataframe tbody tr th {\n",
       "        vertical-align: top;\n",
       "    }\n",
       "\n",
       "    .dataframe thead th {\n",
       "        text-align: right;\n",
       "    }\n",
       "</style>\n",
       "<table border=\"1\" class=\"dataframe\">\n",
       "  <thead>\n",
       "    <tr style=\"text-align: right;\">\n",
       "      <th></th>\n",
       "      <th>title</th>\n",
       "    </tr>\n",
       "    <tr>\n",
       "      <th>flair</th>\n",
       "      <th></th>\n",
       "    </tr>\n",
       "  </thead>\n",
       "  <tbody>\n",
       "    <tr>\n",
       "      <th>Business</th>\n",
       "      <td>64583</td>\n",
       "    </tr>\n",
       "    <tr>\n",
       "      <th>Discussion</th>\n",
       "      <td>36970</td>\n",
       "    </tr>\n",
       "    <tr>\n",
       "      <th>Software</th>\n",
       "      <td>32773</td>\n",
       "    </tr>\n",
       "    <tr>\n",
       "      <th>Hardware</th>\n",
       "      <td>32618</td>\n",
       "    </tr>\n",
       "    <tr>\n",
       "      <th>Security</th>\n",
       "      <td>29858</td>\n",
       "    </tr>\n",
       "    <tr>\n",
       "      <th>Politics</th>\n",
       "      <td>24801</td>\n",
       "    </tr>\n",
       "    <tr>\n",
       "      <th>Pure Tech</th>\n",
       "      <td>20911</td>\n",
       "    </tr>\n",
       "    <tr>\n",
       "      <th>Repost</th>\n",
       "      <td>14193</td>\n",
       "    </tr>\n",
       "    <tr>\n",
       "      <th>Transportation</th>\n",
       "      <td>12290</td>\n",
       "    </tr>\n",
       "    <tr>\n",
       "      <th>Networking</th>\n",
       "      <td>11499</td>\n",
       "    </tr>\n",
       "    <tr>\n",
       "      <th>Artificial Intelligence</th>\n",
       "      <td>10635</td>\n",
       "    </tr>\n",
       "    <tr>\n",
       "      <th>R1.iii: tech support/question/help</th>\n",
       "      <td>8319</td>\n",
       "    </tr>\n",
       "    <tr>\n",
       "      <th>Energy</th>\n",
       "      <td>8042</td>\n",
       "    </tr>\n",
       "    <tr>\n",
       "      <th>Robotics</th>\n",
       "      <td>7544</td>\n",
       "    </tr>\n",
       "    <tr>\n",
       "      <th>Society</th>\n",
       "      <td>7466</td>\n",
       "    </tr>\n",
       "    <tr>\n",
       "      <th>Net Neutrality</th>\n",
       "      <td>7078</td>\n",
       "    </tr>\n",
       "    <tr>\n",
       "      <th>R1.i: guidelines</th>\n",
       "      <td>6913</td>\n",
       "    </tr>\n",
       "    <tr>\n",
       "      <th>Social Media</th>\n",
       "      <td>6492</td>\n",
       "    </tr>\n",
       "    <tr>\n",
       "      <th>Biotechnology</th>\n",
       "      <td>6159</td>\n",
       "    </tr>\n",
       "    <tr>\n",
       "      <th>Space</th>\n",
       "      <td>5254</td>\n",
       "    </tr>\n",
       "  </tbody>\n",
       "</table>\n",
       "</div>"
      ],
      "text/plain": [
       "                                    title\n",
       "flair                                    \n",
       "Business                            64583\n",
       "Discussion                          36970\n",
       "Software                            32773\n",
       "Hardware                            32618\n",
       "Security                            29858\n",
       "Politics                            24801\n",
       "Pure Tech                           20911\n",
       "Repost                              14193\n",
       "Transportation                      12290\n",
       "Networking                          11499\n",
       "Artificial Intelligence             10635\n",
       "R1.iii: tech support/question/help   8319\n",
       "Energy                               8042\n",
       "Robotics                             7544\n",
       "Society                              7466\n",
       "Net Neutrality                       7078\n",
       "R1.i: guidelines                     6913\n",
       "Social Media                         6492\n",
       "Biotechnology                        6159\n",
       "Space                                5254"
      ]
     },
     "execution_count": 7,
     "metadata": {},
     "output_type": "execute_result"
    }
   ],
   "source": [
    "docs.groupby(\"flair\").agg({\"title\": \"count\"}).sort_values(\"title\", ascending=False).head(20)"
   ]
  },
  {
   "cell_type": "markdown",
   "metadata": {
    "id": "2cyOsakp0PsA"
   },
   "source": [
    "Passend zum Videokurs suchen wir uns den Flair *Artificial Intelligence* aus und setzen dessen *Target* auf 1:"
   ]
  },
  {
   "cell_type": "code",
   "execution_count": 8,
   "metadata": {
    "id": "2RGpzry60PsA"
   },
   "outputs": [],
   "source": [
    "docs[\"target\"] = 0\n",
    "docs.loc[docs[\"flair\"] == \"Artificial Intelligence\", \"target\"] = 1"
   ]
  },
  {
   "cell_type": "markdown",
   "metadata": {
    "id": "2_tJYEdW0PsA"
   },
   "source": [
    "Nun sind allerdings die Dokumente ohne diesen Flair deutlich überrepräsentiert:"
   ]
  },
  {
   "cell_type": "code",
   "execution_count": 9,
   "metadata": {
    "id": "U20wbql90PsA"
   },
   "outputs": [
    {
     "data": {
      "text/plain": [
       "10635"
      ]
     },
     "execution_count": 9,
     "metadata": {},
     "output_type": "execute_result"
    }
   ],
   "source": [
    "ai = docs[docs[\"flair\"] == \"Artificial Intelligence\"]\n",
    "len(ai)"
   ]
  },
  {
   "cell_type": "code",
   "execution_count": 10,
   "metadata": {
    "id": "vL8vFefZ0PsA"
   },
   "outputs": [
    {
     "data": {
      "text/plain": [
       "1911406"
      ]
     },
     "execution_count": 10,
     "metadata": {},
     "output_type": "execute_result"
    }
   ],
   "source": [
    "non_ai = docs[docs[\"flair\"] != \"Artificial Intelligence\"]\n",
    "len(non_ai)"
   ]
  },
  {
   "cell_type": "markdown",
   "metadata": {
    "id": "CmCghZ0e0PsB"
   },
   "source": [
    "Damit kann ein Modell nicht gut trainiert werden, weil viel zu viele negative Beispiele den Klassifikator in eine falsche Richtung drängen. Deswegen *stratifizieren* wir das Datenset und nehmen so viele negative wie positive Samples:"
   ]
  },
  {
   "cell_type": "code",
   "execution_count": 11,
   "metadata": {
    "id": "rwV5FOAW0PsB"
   },
   "outputs": [
    {
     "data": {
      "text/html": [
       "<div>\n",
       "<style scoped>\n",
       "    .dataframe tbody tr th:only-of-type {\n",
       "        vertical-align: middle;\n",
       "    }\n",
       "\n",
       "    .dataframe tbody tr th {\n",
       "        vertical-align: top;\n",
       "    }\n",
       "\n",
       "    .dataframe thead th {\n",
       "        text-align: right;\n",
       "    }\n",
       "</style>\n",
       "<table border=\"1\" class=\"dataframe\">\n",
       "  <thead>\n",
       "    <tr style=\"text-align: right;\">\n",
       "      <th></th>\n",
       "      <th>title</th>\n",
       "      <th>created_utc</th>\n",
       "      <th>flair</th>\n",
       "      <th>target</th>\n",
       "    </tr>\n",
       "  </thead>\n",
       "  <tbody>\n",
       "    <tr>\n",
       "      <th>41</th>\n",
       "      <td>Get access to world's largest collection of au...</td>\n",
       "      <td>2020-12-19 20:21:50</td>\n",
       "      <td>Artificial Intelligence</td>\n",
       "      <td>1</td>\n",
       "    </tr>\n",
       "    <tr>\n",
       "      <th>47</th>\n",
       "      <td>Microsoft and PepsiCo team up on the quest to ...</td>\n",
       "      <td>2020-12-17 21:05:13</td>\n",
       "      <td>Artificial Intelligence</td>\n",
       "      <td>1</td>\n",
       "    </tr>\n",
       "    <tr>\n",
       "      <th>78</th>\n",
       "      <td>(95) LinkedIn</td>\n",
       "      <td>2020-12-07 11:12:39</td>\n",
       "      <td>Artificial Intelligence</td>\n",
       "      <td>1</td>\n",
       "    </tr>\n",
       "    <tr>\n",
       "      <th>82</th>\n",
       "      <td>A.I.-based CGI Pianist plays \"Symphonic Etudes...</td>\n",
       "      <td>2020-12-05 21:51:45</td>\n",
       "      <td>Artificial Intelligence</td>\n",
       "      <td>1</td>\n",
       "    </tr>\n",
       "    <tr>\n",
       "      <th>88</th>\n",
       "      <td>Online IT Certification From SPOTO</td>\n",
       "      <td>2020-12-01 06:51:19</td>\n",
       "      <td>Artificial Intelligence</td>\n",
       "      <td>1</td>\n",
       "    </tr>\n",
       "    <tr>\n",
       "      <th>...</th>\n",
       "      <td>...</td>\n",
       "      <td>...</td>\n",
       "      <td>...</td>\n",
       "      <td>...</td>\n",
       "    </tr>\n",
       "    <tr>\n",
       "      <th>920753</th>\n",
       "      <td>Following new Huawei attack, China mulling mov...</td>\n",
       "      <td>2020-05-18 22:54:06</td>\n",
       "      <td>NaN</td>\n",
       "      <td>0</td>\n",
       "    </tr>\n",
       "    <tr>\n",
       "      <th>225975</th>\n",
       "      <td>Facebook Ads are a Scam</td>\n",
       "      <td>2019-01-11 23:37:20</td>\n",
       "      <td>Misleading</td>\n",
       "      <td>0</td>\n",
       "    </tr>\n",
       "    <tr>\n",
       "      <th>617628</th>\n",
       "      <td>Contaque’s Contact Center Solutions help impro...</td>\n",
       "      <td>2018-03-29 12:00:33</td>\n",
       "      <td>NaN</td>\n",
       "      <td>0</td>\n",
       "    </tr>\n",
       "    <tr>\n",
       "      <th>178707</th>\n",
       "      <td>dvd menu creator</td>\n",
       "      <td>2015-02-09 11:25:43</td>\n",
       "      <td>NaN</td>\n",
       "      <td>0</td>\n",
       "    </tr>\n",
       "    <tr>\n",
       "      <th>1398126</th>\n",
       "      <td>New York AG Provides Tool To Help You Check If...</td>\n",
       "      <td>2017-12-04 15:47:13</td>\n",
       "      <td>Net Neutrality</td>\n",
       "      <td>0</td>\n",
       "    </tr>\n",
       "  </tbody>\n",
       "</table>\n",
       "<p>21270 rows × 4 columns</p>\n",
       "</div>"
      ],
      "text/plain": [
       "                                                     title  \\\n",
       "41       Get access to world's largest collection of au...   \n",
       "47       Microsoft and PepsiCo team up on the quest to ...   \n",
       "78                                           (95) LinkedIn   \n",
       "82       A.I.-based CGI Pianist plays \"Symphonic Etudes...   \n",
       "88                      Online IT Certification From SPOTO   \n",
       "...                                                    ...   \n",
       "920753   Following new Huawei attack, China mulling mov...   \n",
       "225975                             Facebook Ads are a Scam   \n",
       "617628   Contaque’s Contact Center Solutions help impro...   \n",
       "178707                                    dvd menu creator   \n",
       "1398126  New York AG Provides Tool To Help You Check If...   \n",
       "\n",
       "                created_utc                    flair  target  \n",
       "41      2020-12-19 20:21:50  Artificial Intelligence       1  \n",
       "47      2020-12-17 21:05:13  Artificial Intelligence       1  \n",
       "78      2020-12-07 11:12:39  Artificial Intelligence       1  \n",
       "82      2020-12-05 21:51:45  Artificial Intelligence       1  \n",
       "88      2020-12-01 06:51:19  Artificial Intelligence       1  \n",
       "...                     ...                      ...     ...  \n",
       "920753  2020-05-18 22:54:06                      NaN       0  \n",
       "225975  2019-01-11 23:37:20               Misleading       0  \n",
       "617628  2018-03-29 12:00:33                      NaN       0  \n",
       "178707  2015-02-09 11:25:43                      NaN       0  \n",
       "1398126 2017-12-04 15:47:13           Net Neutrality       0  \n",
       "\n",
       "[21270 rows x 4 columns]"
      ]
     },
     "execution_count": 11,
     "metadata": {},
     "output_type": "execute_result"
    }
   ],
   "source": [
    "data = pd.concat([ai, non_ai.sample(n = len(ai), random_state=42)])\n",
    "data"
   ]
  },
  {
   "cell_type": "markdown",
   "metadata": {
    "id": "WjJc8HNv0PsB"
   },
   "source": [
    "Du kannst weiter mit dem bereits trainierten Vectorizer arbeiten und rufst daher nur dessen `transform`-Methode auf:"
   ]
  },
  {
   "cell_type": "code",
   "execution_count": 12,
   "metadata": {
    "id": "Nb4t84yW0PsB"
   },
   "outputs": [],
   "source": [
    "ai_tfidf_vectors = tfidf_vectorizer.transform(data[\"title\"].map(str))"
   ]
  },
  {
   "cell_type": "markdown",
   "metadata": {
    "id": "sFwR34_h0PsB"
   },
   "source": [
    "Um die Ergebnisqualität messen zu können, teilst du das Datenset auf:"
   ]
  },
  {
   "cell_type": "code",
   "execution_count": 13,
   "metadata": {
    "id": "0h587Aje0PsB"
   },
   "outputs": [],
   "source": [
    "from sklearn.model_selection import train_test_split\n",
    "X_train, X_test, y_train, y_test = train_test_split(ai_tfidf_vectors, data['target'], test_size = 0.25, random_state = 42)"
   ]
  },
  {
   "cell_type": "markdown",
   "metadata": {
    "id": "exMMV5-e0PsC"
   },
   "source": [
    "Der Klassifikator ist schnell trainiert:"
   ]
  },
  {
   "cell_type": "code",
   "execution_count": 14,
   "metadata": {
    "id": "porrHSvj0PsC"
   },
   "outputs": [
    {
     "data": {
      "text/plain": [
       "SGDClassifier(random_state=42)"
      ]
     },
     "execution_count": 14,
     "metadata": {},
     "output_type": "execute_result"
    }
   ],
   "source": [
    "from sklearn.linear_model import SGDClassifier\n",
    "ai_svm = SGDClassifier(loss='hinge', max_iter=1000, tol=1e-3, random_state=42)\n",
    "ai_svm.fit(X_train, y_train)"
   ]
  },
  {
   "cell_type": "markdown",
   "metadata": {
    "id": "GgczeU-o0PsC"
   },
   "source": [
    "Das Ergebnis ist schon ziemlich gut:"
   ]
  },
  {
   "cell_type": "code",
   "execution_count": 15,
   "metadata": {
    "id": "s-zVqpoQ0PsC"
   },
   "outputs": [
    {
     "name": "stdout",
     "output_type": "stream",
     "text": [
      "              precision    recall  f1-score   support\n",
      "\n",
      "           0       0.81      0.95      0.88      2654\n",
      "           1       0.94      0.78      0.85      2664\n",
      "\n",
      "    accuracy                           0.87      5318\n",
      "   macro avg       0.88      0.87      0.87      5318\n",
      "weighted avg       0.88      0.87      0.87      5318\n",
      "\n"
     ]
    }
   ],
   "source": [
    "from sklearn.metrics import classification_report\n",
    "print(classification_report(y_test, ai_svm.predict(X_test)))"
   ]
  },
  {
   "cell_type": "markdown",
   "metadata": {
    "id": "Pp_kUlpB0PsD"
   },
   "source": [
    "Mit 87% Genauigkeit (hier passt die Accuracy wegen dem gleichverteilten Datenset) kannst du jetzt vorhersagen, ob ein Post von AI handelt oder nicht."
   ]
  }
 ],
 "metadata": {
  "colab": {
   "name": "ML Python.ipynb",
   "provenance": []
  },
  "kernelspec": {
   "display_name": "Python 3",
   "language": "python",
   "name": "python3"
  },
  "language_info": {
   "codemirror_mode": {
    "name": "ipython",
    "version": 3
   },
   "file_extension": ".py",
   "mimetype": "text/x-python",
   "name": "python",
   "nbconvert_exporter": "python",
   "pygments_lexer": "ipython3",
   "version": "3.8.10"
  },
  "varInspector": {
   "cols": {
    "lenName": 16,
    "lenType": 16,
    "lenVar": 40
   },
   "kernels_config": {
    "python": {
     "delete_cmd_postfix": "",
     "delete_cmd_prefix": "del ",
     "library": "var_list.py",
     "varRefreshCmd": "print(var_dic_list())"
    },
    "r": {
     "delete_cmd_postfix": ") ",
     "delete_cmd_prefix": "rm(",
     "library": "var_list.r",
     "varRefreshCmd": "cat(var_dic_list()) "
    }
   },
   "types_to_exclude": [
    "module",
    "function",
    "builtin_function_or_method",
    "instance",
    "_Feature"
   ],
   "window_display": false
  }
 },
 "nbformat": 4,
 "nbformat_minor": 1
}
