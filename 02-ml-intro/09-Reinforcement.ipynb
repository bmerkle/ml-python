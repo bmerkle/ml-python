{
 "cells": [
  {
   "cell_type": "markdown",
   "id": "4634b809",
   "metadata": {},
   "source": [
    "# Lernen durch Verstärkung"
   ]
  },
  {
   "cell_type": "markdown",
   "id": "dfe1bad9",
   "metadata": {},
   "source": [
    "[Bestärkendes Lernen](https://de.wikipedia.org/wiki/Best%C3%A4rkendes_Lernen) oder sog. [Reinforcement Learning](https://de.wikipedia.org/wiki/Best%C3%A4rkendes_Lernen) unterscheidet sich substanziell von den anderen Lernverfahren, weil es kein Modell benötigt. Stattdessen verbirgt sich dahinter eine *Strategie* (oder unterschiedliche je nach Ansatz).\n",
    "\n",
    "Du wirst sehr viele komplexe Szenarien finden, in denen solche Lernverfahren eingesetzt werden können. Die Grundidee ist hingegen sehr einfach und lässt sich am besten an dem sog. [Multi-Armed Bandit](https://en.wikipedia.org/wiki/Multi-armed_bandit) erkunden.\n",
    "\n",
    "Stell dir dazu vor, dass du dich in einem Casino in Las Vegas befindest und 1000 Dollar zur Verfügung hast, die du gerne möglichst gewinnbringend an zehn [einarmigen Banditen](https://de.wikipedia.org/wiki/Spielautomat#Die_Anf%C3%A4nge) einsetzen möchtest. \n",
    "\n",
    "Die Spielautomaten funktionieren so, dass du einen Dollar einwirfst. Wenn du gewinnst, erhältst du zwei Dollar; wenn du verlierst, ist der Dollar weg.\n",
    "\n",
    "Für unser Beispiel gehst du davon aus, dass gesetzliche Beschränkungen den Casinobetreiber dazu zwingen, mit den Spielautomaten im Mittel *keinen Gewinn* erzielen zu dürfen.\n",
    "\n",
    "Du hast nun unterschiedliche Möglichkeiten, wie du vorgehen kannst:"
   ]
  },
  {
   "cell_type": "markdown",
   "id": "888f7abe",
   "metadata": {},
   "source": [
    "## Lösung durch *Exploration*"
   ]
  },
  {
   "cell_type": "markdown",
   "id": "2228f95f",
   "metadata": {},
   "source": [
    "Du kannst jetzt in jeden Spielautomaten 100 Dollar einwerfen und überprüfen, wie viel Geld du von jedem zurückbekommen hast. Damit hast du ein statistisch gutes Bild davon, welcher Spielautomat am besten funktioniert.\n",
    "\n",
    "Betrachte das nun an einem Beispiel. Du erzeugst zunächst zehn Spielautomaten mit unterschiedlichen Gewinnwahrscheinlichkeiten, die du *extra ungerecht* verteilst:"
   ]
  },
  {
   "cell_type": "code",
   "execution_count": 2,
   "id": "8ba5fc6a",
   "metadata": {},
   "outputs": [],
   "source": [
    "import random\n",
    "def bandit(i):\n",
    "    threshold = (i*2+1)/20\n",
    "    if random.random() < threshold:\n",
    "        return 2\n",
    "    return 0"
   ]
  },
  {
   "cell_type": "markdown",
   "id": "a9694caa",
   "metadata": {},
   "source": [
    "Die Funktion `bandit()` liefert für die Spielautomaten mit den Nummern `0-9` jeweils einen Gewinn mit den Wahrscheinlichkeiten `5%`, `15%`, ..., `95%` zurück. Im Mittel sind das `50%`, es ist also *fair* (und wäre für den Casinobetreiber ein schlechtes Geschäft).\n",
    "\n",
    "Führe jetzt dein Experiment durch und stecke in jeden Automaten 100 Dollar:"
   ]
  },
  {
   "cell_type": "code",
   "execution_count": 3,
   "id": "826b4921",
   "metadata": {},
   "outputs": [],
   "source": [
    "import numpy as np\n",
    "\n",
    "random.seed(42)\n",
    "money = np.array([0]*10)\n",
    "for b in range(10):\n",
    "    for d in range(100):\n",
    "        money[b] += bandit(b)"
   ]
  },
  {
   "cell_type": "markdown",
   "id": "91419e05",
   "metadata": {},
   "source": [
    "Wie viel Geld hast du zurück bekommen?"
   ]
  },
  {
   "cell_type": "code",
   "execution_count": 4,
   "id": "d580d7a7",
   "metadata": {},
   "outputs": [
    {
     "data": {
      "text/plain": [
       "988"
      ]
     },
     "execution_count": 4,
     "metadata": {},
     "output_type": "execute_result"
    }
   ],
   "source": [
    "sum(money)"
   ]
  },
  {
   "cell_type": "markdown",
   "id": "b5a92d73",
   "metadata": {},
   "source": [
    "Das sieht für den Casinobetreiber doch gar nicht so schlecht aus, aber das liegt nur an der Statistik. Jetzt kannst du noch betrachten, welcher Automat dir wie viel Geld zurückgegeben hat:"
   ]
  },
  {
   "cell_type": "code",
   "execution_count": 5,
   "id": "cfdcecf5",
   "metadata": {},
   "outputs": [
    {
     "data": {
      "text/plain": [
       "<AxesSubplot:>"
      ]
     },
     "execution_count": 5,
     "metadata": {},
     "output_type": "execute_result"
    },
    {
     "data": {
      "image/png": "[encoded data removed]",
      "text/plain": [
       "<Figure size 432x288 with 1 Axes>"
      ]
     },
     "metadata": {
      "needs_background": "light"
     },
     "output_type": "display_data"
    }
   ],
   "source": [
    "import pandas as pd\n",
    "pd.DataFrame(money).plot.bar()"
   ]
  },
  {
   "cell_type": "markdown",
   "id": "a891f42c",
   "metadata": {},
   "source": [
    "Das war eine sog. *Explorationsstrategie*, weil du absolut in die Breite gearbeitet hast. Du weißt nun mit größtmöglicher statistischer Sicherheit, welcher Automat welche Gewinnwahrscheinlichkeit hat.\n",
    "\n",
    "Erkenntnistheoretisch ist das gut, aus wirtschaftlicher Sicht kannst du das aber besser machen."
   ]
  },
  {
   "cell_type": "markdown",
   "id": "dbe46c33",
   "metadata": {},
   "source": [
    "## Lösung durch Ausbeutung (Exploitation)"
   ]
  },
  {
   "cell_type": "markdown",
   "id": "0f257cad",
   "metadata": {},
   "source": [
    "Du kannst dir nun eine andere Strategie ausdenken. Zunächst wirfst du in jeden Automaten 10 Dollar und schaust, wie viel du zurück bekommst. Den Automaten, der dir am meisten zurückgibt, fütterst du überproportional mit mehr Geld.\n",
    "\n",
    "Um zu verhindern, dass ein \"schlechter\" Automat dir nur zufällig viel Geld zurückgegeben hat, gibst du auch den augenscheinlich schlechteren Automaten noch ein bisschen Geld. Du berechnest immer wieder die Gewinnquote und justierst die Wahrscheilichkeiten immer neu, mit denen du Geld in die Automaten steckst.\n",
    "\n",
    "Du startest mit der ersten Runde:"
   ]
  },
  {
   "cell_type": "code",
   "execution_count": 6,
   "id": "d53759b6",
   "metadata": {},
   "outputs": [],
   "source": [
    "random.seed(42)\n",
    "money = np.array([0]*10)\n",
    "coins = np.array([0]*10)\n",
    "for b in range(10):\n",
    "    for d in range(10):\n",
    "        money[b] += bandit(b)\n",
    "        coins[b] += 1"
   ]
  },
  {
   "cell_type": "markdown",
   "id": "fdcfa959",
   "metadata": {},
   "source": [
    "Berechne nun den Erwartungswert für jeden Automaten:"
   ]
  },
  {
   "cell_type": "code",
   "execution_count": 7,
   "id": "615f4359",
   "metadata": {},
   "outputs": [
    {
     "data": {
      "text/plain": [
       "array([0.4, 0.4, 0.6, 0. , 1.6, 1.2, 1.2, 1.4, 1.6, 1.6])"
      ]
     },
     "execution_count": 7,
     "metadata": {},
     "output_type": "execute_result"
    }
   ],
   "source": [
    "money/coins"
   ]
  },
  {
   "cell_type": "markdown",
   "id": "25e66ed4",
   "metadata": {},
   "source": [
    "In der nächsten Runde setzt du wieder 100 Dollar ein, allerdings verteilst du sie mehr an die Automaten, die dir mehr zurückgegeben haben. Dem \"schlechtesten\" Automaten gibst du einen Dollar, dem etwas besseren drei usw. Das ist der *Kern des Verfahrens*, nämlich die Strategie, wie du aus den bisherigen Erfahrungen die Belohnung verteilst.\n",
    "\n",
    "Bei zehn Automaten verteilst du damit wieder 100 Dollar - wie gewünscht:"
   ]
  },
  {
   "cell_type": "code",
   "execution_count": 8,
   "id": "c983ef9b",
   "metadata": {},
   "outputs": [],
   "source": [
    "c = 1\n",
    "for b in (money/coins).argsort():\n",
    "    for d in range(c):\n",
    "        money[b] += bandit(b)\n",
    "        coins[b] += 1\n",
    "    c += 2"
   ]
  },
  {
   "cell_type": "markdown",
   "id": "99331d27",
   "metadata": {},
   "source": [
    "Das kannst du auch nochmal überprüfen:"
   ]
  },
  {
   "cell_type": "code",
   "execution_count": 9,
   "id": "d595c616",
   "metadata": {},
   "outputs": [
    {
     "data": {
      "text/plain": [
       "200"
      ]
     },
     "execution_count": 9,
     "metadata": {},
     "output_type": "execute_result"
    }
   ],
   "source": [
    "sum(coins)"
   ]
  },
  {
   "cell_type": "markdown",
   "id": "62696898",
   "metadata": {},
   "source": [
    "Passt genau! Schau dir jetzt die Erwartungswerte an:"
   ]
  },
  {
   "cell_type": "code",
   "execution_count": 10,
   "id": "bed58ce7",
   "metadata": {},
   "outputs": [
    {
     "data": {
      "text/plain": [
       "array([0.30769231, 0.4       , 0.47058824, 0.18181818, 1.36      ,\n",
       "       1.15789474, 1.14285714, 1.47826087, 1.7037037 , 1.72413793])"
      ]
     },
     "execution_count": 10,
     "metadata": {},
     "output_type": "execute_result"
    }
   ],
   "source": [
    "money/coins"
   ]
  },
  {
   "cell_type": "markdown",
   "id": "9b1a31f4",
   "metadata": {},
   "source": [
    "Auch das sieht schon besser aus, zumindest die \"guten\" Automaten haben sich durchgesetzt.\n",
    "\n",
    "Du hast noch 800 Dollar zur Verfügung, daher kannst du das obige Verfahren einfach nochmal achtmal durchführen:"
   ]
  },
  {
   "cell_type": "code",
   "execution_count": 11,
   "id": "e0bc697e",
   "metadata": {},
   "outputs": [],
   "source": [
    "for r in range(8):\n",
    "    c = 1\n",
    "    for b in (money/coins).argsort():\n",
    "        for d in range(c):\n",
    "            money[b] += bandit(b)\n",
    "            coins[b] += 1\n",
    "        c += 2"
   ]
  },
  {
   "cell_type": "markdown",
   "id": "92e208d1",
   "metadata": {},
   "source": [
    "Jetzt hast du 1000 Dollar verspielt:"
   ]
  },
  {
   "cell_type": "code",
   "execution_count": 12,
   "id": "a08c6858",
   "metadata": {},
   "outputs": [
    {
     "data": {
      "text/plain": [
       "1000"
      ]
     },
     "execution_count": 12,
     "metadata": {},
     "output_type": "execute_result"
    }
   ],
   "source": [
    "sum(coins)"
   ]
  },
  {
   "cell_type": "markdown",
   "id": "765749b8",
   "metadata": {},
   "source": [
    "Bist du mit dieser Strategie erfolgreicher gewesen?"
   ]
  },
  {
   "cell_type": "code",
   "execution_count": 13,
   "id": "05151faa",
   "metadata": {},
   "outputs": [
    {
     "data": {
      "text/plain": [
       "1238"
      ]
     },
     "execution_count": 13,
     "metadata": {},
     "output_type": "execute_result"
    }
   ],
   "source": [
    "sum(money)"
   ]
  },
  {
   "cell_type": "markdown",
   "id": "b789dc47",
   "metadata": {},
   "source": [
    "Absolut. Die Bank hast du noch nicht gesprengt, aber es ist schon mehr rausgekommen als du reingesteckt hast. Wie sehen die Erwartungswerte aus?"
   ]
  },
  {
   "cell_type": "code",
   "execution_count": 14,
   "id": "96838ef2",
   "metadata": {},
   "outputs": [
    {
     "data": {
      "text/plain": [
       "array([0.19354839, 0.37288136, 0.43478261, 0.4       , 0.89320388,\n",
       "       1.1047619 , 1.12396694, 1.41258741, 1.70552147, 1.91160221])"
      ]
     },
     "execution_count": 14,
     "metadata": {},
     "output_type": "execute_result"
    }
   ],
   "source": [
    "money/coins"
   ]
  },
  {
   "cell_type": "markdown",
   "id": "5f724180",
   "metadata": {},
   "source": [
    "Die Reihenfolge hat sich verbessert, stimmt aber noch nicht ganz. Bei der Exploration konntest du genauere Abschätzungen finden, bei der Ausbeutung aber mehr verdienen. "
   ]
  },
  {
   "cell_type": "markdown",
   "id": "63a6683e",
   "metadata": {},
   "source": [
    "Betrachte zuletzt noch, wie viel Geld du in welchen Automaten gesteckt hast:"
   ]
  },
  {
   "cell_type": "code",
   "execution_count": 15,
   "id": "1e1b387d",
   "metadata": {},
   "outputs": [
    {
     "data": {
      "text/plain": [
       "array([ 31,  59,  69,  25, 103, 105, 121, 143, 163, 181])"
      ]
     },
     "execution_count": 15,
     "metadata": {},
     "output_type": "execute_result"
    }
   ],
   "source": [
    "coins"
   ]
  },
  {
   "cell_type": "markdown",
   "id": "959c6eac",
   "metadata": {},
   "source": [
    "## Sandkastenbeispiel für Reinforcement Learning"
   ]
  },
  {
   "cell_type": "markdown",
   "id": "01716e79",
   "metadata": {},
   "source": [
    "Reinforcement Learning kann ziemlich komplex werden. Die grundsätzliche Strategie hast du mit diesem Beispiel verstanden. Und obwohl das Verfahren einfach, ja geradezu banal klingt, wird es häufig eingesetzt. \n",
    "\n",
    "Wenn du z.B. viel im Internet bestellst, bist du wahrscheinlich selbst schon *Opfer der Ausbeutung* geworden. Online-Shops verwenden den gleichen Prozess, um unterschiedliche Varianten des Bestellprozesses zu testen (sog. A/B-Tests). Der mit der höheren *Conversion Rate* wird dabei immer bevorzugt - genau wie in dem Beispiel oben."
   ]
  }
 ],
 "metadata": {
  "kernelspec": {
   "display_name": "Python 3",
   "language": "python",
   "name": "python3"
  },
  "language_info": {
   "codemirror_mode": {
    "name": "ipython",
    "version": 3
   },
   "file_extension": ".py",
   "mimetype": "text/x-python",
   "name": "python",
   "nbconvert_exporter": "python",
   "pygments_lexer": "ipython3",
   "version": "3.8.10"
  }
 },
 "nbformat": 4,
 "nbformat_minor": 5
}
