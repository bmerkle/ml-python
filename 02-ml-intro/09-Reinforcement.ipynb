{
 "cells": [
  {
   "cell_type": "code",
   "execution_count": null,
   "id": "8ba5fc6a",
   "metadata": {},
   "outputs": [],
   "source": [
    "import random\n",
    "def bandit(i):\n",
    "    threshold = (i*2+1)/20\n",
    "    if random.random() < threshold:\n",
    "        return 2\n",
    "    return 0"
   ]
  },
  {
   "cell_type": "code",
   "execution_count": null,
   "id": "826b4921",
   "metadata": {},
   "outputs": [],
   "source": [
    "import numpy as np\n",
    "\n",
    "random.seed(42)\n",
    "money = np.array([0]*10)\n",
    "for b in range(10):\n",
    "    for d in range(100):\n",
    "        money[b] += bandit(b)"
   ]
  },
  {
   "cell_type": "code",
   "execution_count": null,
   "id": "d580d7a7",
   "metadata": {},
   "outputs": [],
   "source": [
    "sum(money)"
   ]
  },
  {
   "cell_type": "code",
   "execution_count": null,
   "id": "cfdcecf5",
   "metadata": {},
   "outputs": [],
   "source": [
    "import pandas as pd\n",
    "pd.DataFrame(money).plot.bar()"
   ]
  },
  {
   "cell_type": "code",
   "execution_count": null,
   "id": "d53759b6",
   "metadata": {},
   "outputs": [],
   "source": [
    "random.seed(42)\n",
    "money = np.array([0]*10)\n",
    "coins = np.array([0]*10)\n",
    "for b in range(10):\n",
    "    for d in range(10):\n",
    "        money[b] += bandit(b)\n",
    "        coins[b] += 1"
   ]
  },
  {
   "cell_type": "code",
   "execution_count": null,
   "id": "615f4359",
   "metadata": {},
   "outputs": [],
   "source": [
    "money/coins"
   ]
  },
  {
   "cell_type": "code",
   "execution_count": null,
   "id": "c983ef9b",
   "metadata": {},
   "outputs": [],
   "source": [
    "c = 1\n",
    "for b in (money/coins).argsort():\n",
    "    for d in range(c):\n",
    "        money[b] += bandit(b)\n",
    "        coins[b] += 1\n",
    "    c += 2"
   ]
  },
  {
   "cell_type": "code",
   "execution_count": null,
   "id": "d595c616",
   "metadata": {},
   "outputs": [],
   "source": [
    "sum(coins)"
   ]
  },
  {
   "cell_type": "code",
   "execution_count": null,
   "id": "bed58ce7",
   "metadata": {},
   "outputs": [],
   "source": [
    "money/coins"
   ]
  },
  {
   "cell_type": "code",
   "execution_count": null,
   "id": "e0bc697e",
   "metadata": {},
   "outputs": [],
   "source": [
    "for r in range(8):\n",
    "    c = 1\n",
    "    for b in (money/coins).argsort():\n",
    "        for d in range(c):\n",
    "            money[b] += bandit(b)\n",
    "            coins[b] += 1\n",
    "        c += 2"
   ]
  },
  {
   "cell_type": "code",
   "execution_count": null,
   "id": "a08c6858",
   "metadata": {},
   "outputs": [],
   "source": [
    "sum(coins)"
   ]
  },
  {
   "cell_type": "code",
   "execution_count": null,
   "id": "05151faa",
   "metadata": {},
   "outputs": [],
   "source": [
    "sum(money)"
   ]
  },
  {
   "cell_type": "code",
   "execution_count": null,
   "id": "96838ef2",
   "metadata": {},
   "outputs": [],
   "source": [
    "money/coins"
   ]
  },
  {
   "cell_type": "code",
   "execution_count": null,
   "id": "1e1b387d",
   "metadata": {},
   "outputs": [],
   "source": [
    "coins"
   ]
  }
 ],
 "metadata": {
  "kernelspec": {
   "display_name": "Python 3 (ipykernel)",
   "language": "python",
   "name": "python3"
  },
  "language_info": {
   "codemirror_mode": {
    "name": "ipython",
    "version": 3
   },
   "file_extension": ".py",
   "mimetype": "text/x-python",
   "name": "python",
   "nbconvert_exporter": "python",
   "pygments_lexer": "ipython3",
   "version": "3.8.10"
  }
 },
 "nbformat": 4,
 "nbformat_minor": 5
}
