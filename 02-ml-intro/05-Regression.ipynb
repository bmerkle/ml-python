{
 "cells": [
  {
   "cell_type": "markdown",
   "id": "40f9e5ea",
   "metadata": {},
   "source": [
    "# Machine Learning: Regression"
   ]
  },
  {
   "cell_type": "markdown",
   "id": "c6491f4e",
   "metadata": {},
   "source": [
    "Unter der Regression versteht man die Vorhersage von *kontinuierlichen Werten*. Ganz einfache Beispiele dafür kennst du aus deinem täglichen Leben - so nutzt z.B. die Restlaufzeitanzeige von Handy lineare Regression genau die die Reichweitenanzeige im Auto.\n",
    "\n",
    "Wir konzentrieren uns hier auf die Regressionsanalyse im Heise Newsticker."
   ]
  },
  {
   "cell_type": "markdown",
   "id": "282c408a",
   "metadata": {},
   "source": [
    "## Regressionsanalyse des Heise Newstickers"
   ]
  },
  {
   "cell_type": "markdown",
   "id": "8a39f490",
   "metadata": {},
   "source": [
    "### Lineare Regression mit `scipy`"
   ]
  },
  {
   "cell_type": "markdown",
   "id": "19225a6e",
   "metadata": {},
   "source": [
    "Im letzten Teil hast du schon Statistik-Informationen zum Heise-Newsticker betrachtet. Nun arbeitest du wieder mit den gleichen Daten und führst eine Regressionanalyse durch.\n",
    "\n",
    "Du weißt schon, wie du die Daten mit `pandas` einlesen kannst:"
   ]
  },
  {
   "cell_type": "code",
   "execution_count": null,
   "id": "816814a2-2e1f-4a67-9e7e-9360da299cdd",
   "metadata": {},
   "outputs": [],
   "source": [
    "import sys, os\n",
    "ON_COLAB = 'google.colab' in sys.modules\n",
    "\n",
    "if ON_COLAB:\n",
    "    os.system(\"test -f heise-monthly.csv || wget  https://github.com/heiseacademy/ml-python/blob/main/02-ml-intro/heise-monthly.csv\")"
   ]
  },
  {
   "cell_type": "code",
   "execution_count": null,
   "id": "30403e5e",
   "metadata": {},
   "outputs": [],
   "source": [
    "import pandas as pd\n",
    "heise_monthly = pd.read_csv(\"heise-monthly.csv\", parse_dates=[\"month\"], index_col=\"month\")"
   ]
  },
  {
   "cell_type": "markdown",
   "id": "a4622f2f",
   "metadata": {},
   "source": [
    "Vergegenwärtige dir nochmal die Zeitentwicklung:"
   ]
  },
  {
   "cell_type": "code",
   "execution_count": null,
   "id": "d79b9395",
   "metadata": {},
   "outputs": [],
   "source": [
    "heise_monthly[\"count\"].plot()"
   ]
  },
  {
   "cell_type": "markdown",
   "id": "20cfe57a",
   "metadata": {},
   "source": [
    "Nun verwendest du `scipy`, um die Daten mittels [linearer Regression](https://de.wikipedia.org/wiki/Lineare_Regression) zu fitten:"
   ]
  },
  {
   "cell_type": "code",
   "execution_count": null,
   "id": "3d746351",
   "metadata": {},
   "outputs": [],
   "source": [
    "from scipy.stats import linregress\n",
    "lrc = linregress(range(len(heise_monthly)), heise_monthly[\"count\"].values)\n",
    "lrc"
   ]
  },
  {
   "cell_type": "markdown",
   "id": "8a260da4",
   "metadata": {},
   "source": [
    "Das Pearson-R sagt die, wie \"stark\" der Zusammenhang ist und der *p-Wert*, wie verlässlich der Fit ist. Dazu sollte dieser möglichst klein sein, was hier schon ganz gut klappt.\n",
    "\n",
    "Integriere nun die Regressionsgerade noch in den `DataFrame`:"
   ]
  },
  {
   "cell_type": "code",
   "execution_count": null,
   "id": "0820925f",
   "metadata": {},
   "outputs": [],
   "source": [
    "heise_monthly[\"predict_count\"] = [i*lrc.slope+lrc.intercept for i in range(len(heise_monthly))]"
   ]
  },
  {
   "cell_type": "markdown",
   "id": "2cfe7190",
   "metadata": {},
   "source": [
    "Und lass dir das Ergebnis grafisch ausgeben:"
   ]
  },
  {
   "cell_type": "code",
   "execution_count": null,
   "id": "d4acf08d",
   "metadata": {},
   "outputs": [],
   "source": [
    "heise_monthly[[\"count\", \"predict_count\"]].plot()"
   ]
  },
  {
   "cell_type": "markdown",
   "id": "6ac805b4",
   "metadata": {},
   "source": [
    "Das sieht ganz gut aus.\n",
    "\n",
    "Betrachte zum Vergleich noch die Länge der Artikel:"
   ]
  },
  {
   "cell_type": "code",
   "execution_count": null,
   "id": "c7b70513",
   "metadata": {},
   "outputs": [],
   "source": [
    "lrt = linregress(range(len(heise_monthly)), heise_monthly[\"tokens\"].values)\n",
    "lrt"
   ]
  },
  {
   "cell_type": "markdown",
   "id": "7e0c8425",
   "metadata": {},
   "source": [
    "Du siehst, dass sowohl das Pearson-R näher an 1 liegt als auch der *p-Wert* viel kleiner ist. Der Fit ist also besser."
   ]
  },
  {
   "cell_type": "code",
   "execution_count": null,
   "id": "5808822d",
   "metadata": {},
   "outputs": [],
   "source": [
    "heise_monthly[\"predict_tokens\"] = [i*lrt.slope+lrt.intercept for i in range(len(heise_monthly))]"
   ]
  },
  {
   "cell_type": "code",
   "execution_count": null,
   "id": "885d5254",
   "metadata": {},
   "outputs": [],
   "source": [
    "heise_monthly[[\"tokens\", \"predict_tokens\"]].plot()"
   ]
  },
  {
   "cell_type": "markdown",
   "id": "c8cfe2ec",
   "metadata": {},
   "source": [
    "Wie du schon vermutet hast, ist die Approximation besser. Dennoch vermisst du einiges, z.B. ein Fehlerkorridor. Außerdem sind mögliche saisonale Effekte nicht berücksichtigt. Dazu reicht dir eine lineare Regression nicht aus.\n",
    "\n",
    "`scikit-learn` bietet dir hier viel mehr Möglichkeiten, die du dir nun anschaust:"
   ]
  },
  {
   "cell_type": "markdown",
   "id": "8df3dcc8",
   "metadata": {},
   "source": [
    "### Lineare Regression mit `scikit-learn`"
   ]
  },
  {
   "cell_type": "code",
   "execution_count": null,
   "id": "0c33d179",
   "metadata": {},
   "outputs": [],
   "source": [
    "from sklearn import linear_model\n",
    "slrt = linear_model.LinearRegression()\n",
    "X = [[i] for i in range(len(heise_monthly))]\n",
    "Y = heise_monthly[\"tokens\"].values\n",
    "slrt.fit(X, Y)"
   ]
  },
  {
   "cell_type": "code",
   "execution_count": null,
   "id": "4e9ac122",
   "metadata": {},
   "outputs": [],
   "source": [
    "heise_monthly[\"predict_tokens_sklearn_linear\"] = slrt.predict(X)"
   ]
  },
  {
   "cell_type": "code",
   "execution_count": null,
   "id": "8d9193ab",
   "metadata": {},
   "outputs": [],
   "source": [
    "heise_monthly[[\"tokens\", \"predict_tokens_sklearn_linear\"]].plot()"
   ]
  },
  {
   "cell_type": "code",
   "execution_count": null,
   "id": "e5023323",
   "metadata": {},
   "outputs": [],
   "source": [
    "from sklearn.metrics import mean_squared_error, r2_score\n",
    "def print_scores(ground_truth, predict):\n",
    "    print('Mittlerer quadratischer Fehler', mean_squared_error(ground_truth, predict))\n",
    "    # 1 entspricht einer 100% Vorhersage\n",
    "    print('Coefficient of determination: %.2f' % r2_score(ground_truth, predict))\n",
    "    \n",
    "print_scores(Y, heise_monthly[\"predict_tokens_sklearn_linear\"])"
   ]
  },
  {
   "cell_type": "markdown",
   "id": "278406fc",
   "metadata": {},
   "source": [
    "Allerdings ist der Fehler jetzt in den *Trainingdaten* berechnet. Wenn du Machine Learning betreibst, interessiert du dich für *Vorhersagen* von unbekannten Werten. Deswegen wendest du jetzt einen Trick an und teilst die Datenmenge (mit den bekannten Werten) in zwei Teilmengen auf, eine *Trainingsdatenmenge* und eine *Testdatenmenge*. \n",
    "\n",
    "Der `fit`-Funktion gibst du nur die Trainingsdaten, die Vorhersage lässt du für die Testdaten durchführen. Da du dich für Vorhersagen *zukünftiger Daten* interessierst, nutzt du als Trainingsdaten die alten Werte, die Testdaten sind die neueren:"
   ]
  },
  {
   "cell_type": "code",
   "execution_count": null,
   "id": "e28065ed",
   "metadata": {},
   "outputs": [],
   "source": [
    "(X_train, X_test) = (X[:-50], X[-50:])\n",
    "(Y_train, Y_test) = (Y[:-50], Y[-50:])\n",
    "slrt.fit(X_train, Y_train)"
   ]
  },
  {
   "cell_type": "code",
   "execution_count": null,
   "id": "8039a3bb",
   "metadata": {
    "scrolled": true
   },
   "outputs": [],
   "source": [
    "print_scores(Y_test, slrt.predict(X_test))"
   ]
  },
  {
   "cell_type": "code",
   "execution_count": null,
   "id": "5386e365",
   "metadata": {},
   "outputs": [],
   "source": [
    "heise_monthly[\"predict_tokens_sklearn_linear\"] = slrt.predict(X)"
   ]
  },
  {
   "cell_type": "code",
   "execution_count": null,
   "id": "69a992dc",
   "metadata": {},
   "outputs": [],
   "source": [
    "heise_monthly[\"predict_tokens_sklearn_linear_train\"] = list(slrt.predict(X_train)) + [None]*len(X_test)\n",
    "heise_monthly[\"predict_tokens_sklearn_linear_test\"] = [None]*len(X_train) + list(slrt.predict(X_test))\n",
    "heise_monthly[[\"tokens\", \"predict_tokens_sklearn_linear_train\", \"predict_tokens_sklearn_linear_test\"]].plot()"
   ]
  },
  {
   "cell_type": "code",
   "execution_count": null,
   "id": "9a1e753a",
   "metadata": {},
   "outputs": [],
   "source": [
    "from sklearn.tree import DecisionTreeRegressor\n",
    "\n",
    "dtt = DecisionTreeRegressor(max_depth=4)\n",
    "\n",
    "dtt.fit(X_train, Y_train)\n",
    "print_scores(Y_test, dtt.predict(X_test))"
   ]
  },
  {
   "cell_type": "code",
   "execution_count": null,
   "id": "94a24ac8",
   "metadata": {},
   "outputs": [],
   "source": [
    "heise_monthly[\"predict_tokens_sklearn_dt_train\"] = list(dtt.predict(X_train)) + [None]*len(X_test)\n",
    "heise_monthly[\"predict_tokens_sklearn_dt_test\"] = [None]*len(X_train) + list(dtt.predict(X_test))\n",
    "heise_monthly[[\"tokens\", \"predict_tokens_sklearn_dt_train\", \"predict_tokens_sklearn_dt_test\"]].plot()"
   ]
  },
  {
   "cell_type": "code",
   "execution_count": null,
   "id": "5d750665",
   "metadata": {},
   "outputs": [],
   "source": [
    "from sklearn.ensemble import AdaBoostRegressor\n",
    "\n",
    "abt = AdaBoostRegressor(DecisionTreeRegressor(max_depth=4),\n",
    "                          n_estimators=300, random_state=42)\n",
    "\n",
    "abt.fit(X_train, Y_train)\n",
    "print_scores(Y_test, abt.predict(X_test))"
   ]
  },
  {
   "cell_type": "code",
   "execution_count": null,
   "id": "4bd774d2",
   "metadata": {},
   "outputs": [],
   "source": [
    "heise_monthly[\"predict_tokens_sklearn_ab_train\"] = list(abt.predict(X_train)) + [None]*len(X_test)\n",
    "heise_monthly[\"predict_tokens_sklearn_ab_test\"] = [None]*len(X_train) + list(abt.predict(X_test))\n",
    "heise_monthly[[\"tokens\", \"predict_tokens_sklearn_ab_train\", \"predict_tokens_sklearn_ab_test\"]].plot()"
   ]
  },
  {
   "cell_type": "code",
   "execution_count": null,
   "id": "499c23fc",
   "metadata": {},
   "outputs": [],
   "source": [
    "from sklearn import ensemble\n",
    "gbt = ensemble.GradientBoostingRegressor()\n",
    "gbt.fit(X_train, Y_train)\n",
    "print_scores(Y_test, gbt.predict(X_test))"
   ]
  },
  {
   "cell_type": "code",
   "execution_count": null,
   "id": "dc6aeb23",
   "metadata": {
    "scrolled": true
   },
   "outputs": [],
   "source": [
    "heise_monthly[\"predict_tokens_sklearn_gb_train\"] = list(gbt.predict(X_train)) + [None]*len(X_test)\n",
    "heise_monthly[\"predict_tokens_sklearn_gb_test\"] = [None]*len(X_train) + list(gbt.predict(X_test))\n",
    "heise_monthly[[\"tokens\", \"predict_tokens_sklearn_gb_train\", \"predict_tokens_sklearn_gb_test\"]].plot()"
   ]
  },
  {
   "cell_type": "markdown",
   "id": "e79ead4f",
   "metadata": {},
   "source": [
    "## Bessere Vorhersage von zukünftigen Werten\n",
    "\n",
    "Dafür gibt es spezielle Pakete wie [`prophet`](https://facebook.github.io/prophet/)."
   ]
  },
  {
   "cell_type": "code",
   "execution_count": null,
   "id": "0e74adf3-ce26-49ab-b706-af77323b3575",
   "metadata": {},
   "outputs": [],
   "source": [
    "!pip install prophet"
   ]
  },
  {
   "cell_type": "code",
   "execution_count": null,
   "id": "aceef431",
   "metadata": {},
   "outputs": [],
   "source": [
    "from prophet import Prophet"
   ]
  },
  {
   "cell_type": "markdown",
   "id": "d24b786d",
   "metadata": {},
   "source": [
    "Die Daten müssen dazu ein bisschen anders vorbereitet werden, du brauchst einen speziellen `DataFrame`:"
   ]
  },
  {
   "cell_type": "code",
   "execution_count": null,
   "id": "b30e0da9",
   "metadata": {},
   "outputs": [],
   "source": [
    "pa = pd.DataFrame()\n",
    "pa[\"ds\"] = heise_monthly.index.values\n",
    "pa[\"y\"] = heise_monthly[\"tokens\"].values\n",
    "pa"
   ]
  },
  {
   "cell_type": "markdown",
   "id": "c6db64b0",
   "metadata": {},
   "source": [
    "Dann instanziierst du die `Prophet`-Klasse:"
   ]
  },
  {
   "cell_type": "code",
   "execution_count": null,
   "id": "7083acc7",
   "metadata": {
    "scrolled": true
   },
   "outputs": [],
   "source": [
    "m = Prophet()\n",
    "m.fit(pa)"
   ]
  },
  {
   "cell_type": "markdown",
   "id": "a34184fc",
   "metadata": {},
   "source": [
    "Und erzeugst einen `DataFrame` für die zukünftigen Werte. Hier benötigst du eine *monatliche Frequenz*:"
   ]
  },
  {
   "cell_type": "code",
   "execution_count": null,
   "id": "834f64e9",
   "metadata": {},
   "outputs": [],
   "source": [
    "future = m.make_future_dataframe(periods=20, freq='M')"
   ]
  },
  {
   "cell_type": "markdown",
   "id": "80e41d7e",
   "metadata": {},
   "source": [
    "Jetzt kannst du die Vorhersage durchführen. `yhat` ist der wahrscheinlichste Wert, `Prophet` liefert dir auch noch einen *Korridor*:"
   ]
  },
  {
   "cell_type": "code",
   "execution_count": null,
   "id": "5d89952e",
   "metadata": {},
   "outputs": [],
   "source": [
    "forecast = m.predict(future)\n",
    "forecast[['ds', 'yhat', 'yhat_lower', 'yhat_upper']].tail()"
   ]
  },
  {
   "cell_type": "markdown",
   "id": "51a11ee4",
   "metadata": {},
   "source": [
    "Die Daten kannst du sehr einfach visualisieren und seihst, dass das Ergebnis besser ist als unsere einfach Regression oben:"
   ]
  },
  {
   "cell_type": "code",
   "execution_count": null,
   "id": "1d7ec87a",
   "metadata": {},
   "outputs": [],
   "source": [
    "m.plot(forecast)"
   ]
  },
  {
   "cell_type": "markdown",
   "id": "f54b70ff",
   "metadata": {},
   "source": [
    "`Prophet` kann nocht mehr, wie etwa Langfristtrends oder saisonale Schwankungen berechnen:"
   ]
  },
  {
   "cell_type": "code",
   "execution_count": null,
   "id": "7d162def",
   "metadata": {},
   "outputs": [],
   "source": [
    "m.plot_components(forecast)"
   ]
  },
  {
   "cell_type": "markdown",
   "id": "271d899a",
   "metadata": {},
   "source": [
    "## Anspruchsvolle Regression"
   ]
  },
  {
   "cell_type": "markdown",
   "id": "067e2c08",
   "metadata": {},
   "source": [
    "Wie du oben siehst, hat die lineare Regression gut funktioniert. Die weit fortschrittlicheren Verfahren haben hingegen nur konstante Werte für die Vorhersage geliefert und waren damit nicht sinnvoll einsetzbar.\n",
    "\n",
    "Eigene Modelle musst du auf jeden Fall genau testen, bevor du sie einsetzt. Oft ist es daher günstig, wenn du ein schon existierendes Modell verwendest."
   ]
  }
 ],
 "metadata": {
  "kernelspec": {
   "display_name": "Python 3 (ipykernel)",
   "language": "python",
   "name": "python3"
  },
  "language_info": {
   "codemirror_mode": {
    "name": "ipython",
    "version": 3
   },
   "file_extension": ".py",
   "mimetype": "text/x-python",
   "name": "python",
   "nbconvert_exporter": "python",
   "pygments_lexer": "ipython3",
   "version": "3.8.10"
  }
 },
 "nbformat": 4,
 "nbformat_minor": 5
}
