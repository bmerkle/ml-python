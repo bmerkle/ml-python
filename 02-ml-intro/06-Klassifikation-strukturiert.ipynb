{
 "cells": [
  {
   "cell_type": "markdown",
   "metadata": {
    "id": "Pb_PBThH0Pri"
   },
   "source": [
    "# Klassifikation mit strukturierten Daten"
   ]
  },
  {
   "cell_type": "markdown",
   "metadata": {
    "id": "4FENxfRi0Prr"
   },
   "source": [
    "## Beispiel Iris-Datenset"
   ]
  },
  {
   "cell_type": "markdown",
   "metadata": {
    "id": "xnGR6T1Y0Prq"
   },
   "source": [
    "### Vektorisierung"
   ]
  },
  {
   "cell_type": "markdown",
   "metadata": {
    "id": "BMMFjh3S0Prr"
   },
   "source": [
    "Einige Datensets sind bereits schon in `scikit-learn` eingebaut. Du brauchst dich nicht mehr darum zu kümmern, diese\n",
    "* herunterzuladen,\n",
    "* zu verifizieren und\n",
    "* zu vektorisieren"
   ]
  },
  {
   "cell_type": "markdown",
   "metadata": {
    "id": "B2bqNtJU0Prs"
   },
   "source": [
    "Das [Iris-Datenset](https://en.wikipedia.org/wiki/Iris_flower_data_set) ist ein *Klassiker*:\n",
    "\n",
    "![image](https://upload.wikimedia.org/wikipedia/commons/thumb/5/56/Kosaciec_szczecinkowaty_Iris_setosa.jpg/220px-Kosaciec_szczecinkowaty_Iris_setosa.jpg) ![image](https://upload.wikimedia.org/wikipedia/commons/thumb/4/41/Iris_versicolor_3.jpg/220px-Iris_versicolor_3.jpg) ![image](https://upload.wikimedia.org/wikipedia/commons/thumb/9/9f/Iris_virginica.jpg/220px-Iris_virginica.jpg)"
   ]
  },
  {
   "cell_type": "code",
   "execution_count": null,
   "metadata": {
    "id": "vJasAly30Prt"
   },
   "outputs": [],
   "source": [
    "from sklearn import datasets\n",
    "iris = datasets.load_iris()"
   ]
  },
  {
   "cell_type": "markdown",
   "metadata": {
    "id": "e3y1l-y20Prt"
   },
   "source": [
    "Leider in einem etwas sperrigen Format"
   ]
  },
  {
   "cell_type": "code",
   "execution_count": null,
   "metadata": {
    "id": "FEyZhPgy0Prt"
   },
   "outputs": [],
   "source": [
    "iris"
   ]
  },
  {
   "cell_type": "markdown",
   "metadata": {
    "id": "CSHB673p0Prv"
   },
   "source": [
    "Besser als `DataFrame` mit `pandas`"
   ]
  },
  {
   "cell_type": "code",
   "execution_count": null,
   "metadata": {
    "id": "emU_ft_c0Prv"
   },
   "outputs": [],
   "source": [
    "import pandas as pd\n",
    "idf = pd.DataFrame(iris[\"data\"], columns=[\"Sepal Length\", \"Sepal Width\", \"Petal Length\", \"Petal Width\"])\n",
    "idf[\"target\"] = iris[\"target\"]\n",
    "idf[\"name\"] = [iris[\"target_names\"][target] for target in iris[\"target\"]]\n",
    "idf"
   ]
  },
  {
   "cell_type": "markdown",
   "metadata": {
    "id": "WQRX8RUq0Prw"
   },
   "source": [
    "*Five Number Summaries*"
   ]
  },
  {
   "cell_type": "code",
   "execution_count": null,
   "metadata": {
    "id": "4poK7D6w0Prw"
   },
   "outputs": [],
   "source": [
    "idf.describe()"
   ]
  },
  {
   "cell_type": "markdown",
   "metadata": {
    "id": "oDNo5Ny90Prw"
   },
   "source": [
    "Verteilungen als Histogramm plotten"
   ]
  },
  {
   "cell_type": "code",
   "execution_count": null,
   "metadata": {
    "id": "QfrDV0pB0Prw"
   },
   "outputs": [],
   "source": [
    "idf[\"Petal Width\"].plot.hist()"
   ]
  },
  {
   "cell_type": "markdown",
   "metadata": {
    "id": "oFv3gJVl0Prx"
   },
   "source": [
    "Überlegung, welche Features sich besonders zur Differenzierung eignen:"
   ]
  },
  {
   "cell_type": "code",
   "execution_count": null,
   "metadata": {
    "id": "YI2z9_xH0Prx"
   },
   "outputs": [],
   "source": [
    "idf.plot.scatter(x=\"Sepal Length\", y=\"Sepal Width\", c=\"target\", cmap=\"Set1\")"
   ]
  },
  {
   "cell_type": "markdown",
   "metadata": {
    "id": "1oD4ov-L0Prx"
   },
   "source": [
    "Oder alle auf einmal? Hier erkennst du mögliche Korrelationen oder in welchen Dimensionen die Objekte sich am deutlichsten unterscheiden:"
   ]
  },
  {
   "cell_type": "code",
   "execution_count": null,
   "metadata": {
    "id": "yTRRSwdd0Prx"
   },
   "outputs": [],
   "source": [
    "import seaborn as sns\n",
    "sns.pairplot(idf.drop(columns=[\"target\"]), hue=\"name\")"
   ]
  },
  {
   "cell_type": "markdown",
   "metadata": {
    "id": "mub9qF0q0Pr4"
   },
   "source": [
    "### Iris-Klassifikation"
   ]
  },
  {
   "cell_type": "markdown",
   "metadata": {
    "id": "b5rNLGYX0Pr4"
   },
   "source": [
    "Zum Training nutzt du die Iris-Daten, von denen du das Ergebnis schon kennst. Als Modell verwendest du eine sog. [Support Vector Machine](https://de.wikipedia.org/wiki/Support_Vector_Machine). Diese funktioniert sehr effizient:"
   ]
  },
  {
   "cell_type": "code",
   "execution_count": null,
   "metadata": {
    "id": "pWBBQMEV0Pr7"
   },
   "outputs": [],
   "source": [
    "from sklearn.linear_model import SGDClassifier\n",
    "svm = SGDClassifier(loss='hinge', max_iter=1000, tol=1e-3, random_state=42)\n",
    "svm.fit(iris['data'], iris['target'])"
   ]
  },
  {
   "cell_type": "markdown",
   "metadata": {
    "id": "BVtcQlKe0Pr7"
   },
   "source": [
    "Jetzt kannst du aus den Daten vorhersagen lassen, zu welcher Iris-Sorte eine Pflanze gehört, wenn du nur die Messwerte kennst."
   ]
  },
  {
   "cell_type": "code",
   "execution_count": null,
   "metadata": {
    "id": "5Y8mBude0Pr8"
   },
   "outputs": [],
   "source": [
    "svm.predict(iris['data'])"
   ]
  },
  {
   "cell_type": "markdown",
   "metadata": {
    "id": "5pvJQF300Pr8"
   },
   "source": [
    "Wie vergleicht sich das mit den echten Werten?"
   ]
  },
  {
   "cell_type": "code",
   "execution_count": null,
   "metadata": {
    "id": "oJYlHG3g0Pr8"
   },
   "outputs": [],
   "source": [
    "svm.predict(iris['data']) == iris['target']"
   ]
  },
  {
   "cell_type": "markdown",
   "metadata": {
    "id": "6j1Fn69P0Pr8"
   },
   "source": [
    "Eigentlich sieht das ganz gut aus, aber es gibt mehrere Probleme:\n",
    "* Kann man die Performance des Klassifikators *messen*?\n",
    "* Hat der Klassifikator evtl. nur (fast) alles auswendig gelernt oder kann er tatsächlich *abstrahieren*?"
   ]
  },
  {
   "cell_type": "markdown",
   "metadata": {
    "id": "_4c62kIW0Pr8"
   },
   "source": [
    "### Trainings-Test-Split"
   ]
  },
  {
   "cell_type": "markdown",
   "metadata": {
    "id": "rwSzY4CP0Pr9"
   },
   "source": [
    "Um das zu beheben, kannst du die vorklassifizierte Datenmenge in zwei Teile zerlegen: eine *Trainingsmenge*, die nur dem Training des Klassifikators dient und eine davon unabhängige *Testmenge*, mit der der Klassifikator beweisen kann, wie gut er abstrahieren kann.\n",
    "\n",
    "`scikit-learn` stellt dafür eine Funktion `train_test_split` zur Verfügung. Der `random_state` dient der Reproduzierbarkeit, mit `test_size` kann man das Verhältnis der beiden Mengengrößen wählen."
   ]
  },
  {
   "cell_type": "code",
   "execution_count": null,
   "metadata": {
    "id": "-4Lh17V50Pr9"
   },
   "outputs": [],
   "source": [
    "from sklearn.model_selection import train_test_split\n",
    "X_train, X_test, y_train, y_test = train_test_split(iris['data'], iris['target'], test_size = 0.25, random_state = 42)"
   ]
  },
  {
   "cell_type": "markdown",
   "metadata": {
    "id": "ErcuMCS20Pr9"
   },
   "source": [
    "Wieder trainierst du die SVM als Klassifikator:"
   ]
  },
  {
   "cell_type": "code",
   "execution_count": null,
   "metadata": {
    "id": "YGmeDGsQ0Pr9"
   },
   "outputs": [],
   "source": [
    "svm = SGDClassifier(loss='hinge', max_iter=1000, tol=1e-3, random_state=42)\n",
    "svm.fit(X_train, y_train)"
   ]
  },
  {
   "cell_type": "markdown",
   "metadata": {
    "id": "i8fOqA4T0Pr-"
   },
   "source": [
    "Dieses Mal sagst du die Spezies für die Testdaten vorher:"
   ]
  },
  {
   "cell_type": "code",
   "execution_count": null,
   "metadata": {
    "id": "52BxFyc_0Pr-"
   },
   "outputs": [],
   "source": [
    "svm.predict(X_test) == y_test"
   ]
  },
  {
   "cell_type": "markdown",
   "metadata": {
    "id": "ggv2zGHe0Pr-"
   },
   "source": [
    "Zwei Werte sind falsch vorhergesagt. Welche das sind, findest du in der [Confusion Matrix](https://en.wikipedia.org/wiki/Confusion_matrix):"
   ]
  },
  {
   "cell_type": "code",
   "execution_count": null,
   "metadata": {
    "id": "obtj87Hx0Pr-"
   },
   "outputs": [],
   "source": [
    "from sklearn.metrics import confusion_matrix\n",
    "confusion_matrix(y_test, svm.predict(X_test))"
   ]
  },
  {
   "cell_type": "markdown",
   "metadata": {
    "id": "ZH52dhD40Pr_"
   },
   "source": [
    "Auf der Diagonalen stehen dort die richtig vorgergesagten Werte, die `2` außerhalb der Diagonale zeigt dir falsch vorhergesagte Ergebnisse. In diesem Fall wäre das richtige Ergebnis die Klasse `2` gewesen (2. Spalte), stattdessen wurde `3` vorhergesagt (3. Zeile).\n",
    "\n",
    "Oftmals möchtest du die Genauigkeit der Klassifikation messen. Dazu dienen gleich zwei Größen, nämlich die Precision (Spezifizität) und der Recall (Sensitivität):"
   ]
  },
  {
   "cell_type": "code",
   "execution_count": null,
   "metadata": {
    "id": "EWUhzgcL0Pr_"
   },
   "outputs": [],
   "source": [
    "from sklearn.metrics import classification_report\n",
    "print(classification_report(y_test, svm.predict(X_test)))"
   ]
  },
  {
   "cell_type": "markdown",
   "metadata": {
    "id": "6eRKaWiK0Pr_"
   },
   "source": [
    "Im Gegensatz zur häufig verwendeten *Accuracy* können Precision und Recall auch mit *schiefen* Verteilungen umgehen."
   ]
  }
 ],
 "metadata": {
  "colab": {
   "name": "ML Python.ipynb",
   "provenance": []
  },
  "kernelspec": {
   "display_name": "Python 3 (ipykernel)",
   "language": "python",
   "name": "python3"
  },
  "language_info": {
   "codemirror_mode": {
    "name": "ipython",
    "version": 3
   },
   "file_extension": ".py",
   "mimetype": "text/x-python",
   "name": "python",
   "nbconvert_exporter": "python",
   "pygments_lexer": "ipython3",
   "version": "3.8.10"
  },
  "varInspector": {
   "cols": {
    "lenName": 16,
    "lenType": 16,
    "lenVar": 40
   },
   "kernels_config": {
    "python": {
     "delete_cmd_postfix": "",
     "delete_cmd_prefix": "del ",
     "library": "var_list.py",
     "varRefreshCmd": "print(var_dic_list())"
    },
    "r": {
     "delete_cmd_postfix": ") ",
     "delete_cmd_prefix": "rm(",
     "library": "var_list.r",
     "varRefreshCmd": "cat(var_dic_list()) "
    }
   },
   "types_to_exclude": [
    "module",
    "function",
    "builtin_function_or_method",
    "instance",
    "_Feature"
   ],
   "window_display": false
  }
 },
 "nbformat": 4,
 "nbformat_minor": 4
}
