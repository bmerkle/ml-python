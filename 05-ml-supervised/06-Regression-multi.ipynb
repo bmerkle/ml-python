{
 "cells": [
  {
   "cell_type": "code",
   "execution_count": null,
   "id": "b7e5a0c7",
   "metadata": {},
   "outputs": [],
   "source": [
    "from sklearn import datasets\n",
    "california = datasets.fetch_california_housing()"
   ]
  },
  {
   "cell_type": "code",
   "execution_count": null,
   "id": "f941cc62",
   "metadata": {},
   "outputs": [],
   "source": [
    "import pandas as pd\n",
    "df = pd.DataFrame(california.data, columns=california.feature_names)\n",
    "df[\"Price\"] = california.target"
   ]
  },
  {
   "cell_type": "code",
   "execution_count": null,
   "id": "cf3342be",
   "metadata": {},
   "outputs": [],
   "source": [
    "from sklearn.model_selection import train_test_split\n",
    "(X_train, X_test, y_train, y_test) = train_test_split(df[[\"MedInc\"]].values, df[\"Price\"].values)"
   ]
  },
  {
   "cell_type": "code",
   "execution_count": null,
   "id": "4297a99d",
   "metadata": {},
   "outputs": [],
   "source": [
    "from sklearn.linear_model import LinearRegression\n",
    "\n",
    "lr = LinearRegression()\n",
    "lr.fit(X_train, y_train)"
   ]
  },
  {
   "cell_type": "code",
   "execution_count": null,
   "id": "7e6eaf71",
   "metadata": {},
   "outputs": [],
   "source": [
    "from sklearn import metrics\n",
    "metrics.r2_score(y_train, lr.predict(X_train))"
   ]
  },
  {
   "cell_type": "code",
   "execution_count": null,
   "id": "88a61ad8",
   "metadata": {
    "scrolled": true
   },
   "outputs": [],
   "source": [
    "metrics.r2_score(y_test, lr.predict(X_test))"
   ]
  },
  {
   "cell_type": "code",
   "execution_count": null,
   "id": "16f17e78",
   "metadata": {},
   "outputs": [],
   "source": [
    "(X_train, X_test, y_train, y_test) = train_test_split(california.data, california.target)"
   ]
  },
  {
   "cell_type": "code",
   "execution_count": null,
   "id": "59c179dc",
   "metadata": {},
   "outputs": [],
   "source": [
    "mlr = LinearRegression()\n",
    "mlr.fit(X_train, y_train)"
   ]
  },
  {
   "cell_type": "code",
   "execution_count": null,
   "id": "e468bc3f",
   "metadata": {},
   "outputs": [],
   "source": [
    "metrics.r2_score(y_train, mlr.predict(X_train))"
   ]
  },
  {
   "cell_type": "code",
   "execution_count": null,
   "id": "6455c5df",
   "metadata": {},
   "outputs": [],
   "source": [
    "X_train.shape"
   ]
  },
  {
   "cell_type": "code",
   "execution_count": null,
   "id": "4554af3c",
   "metadata": {},
   "outputs": [],
   "source": [
    "def adjusted_r2(r2, n, k):\n",
    "    return 1 - ((1-r2)*(n-1)/(n-k-1))\n",
    "\n",
    "adjusted_r2(metrics.r2_score(y_train, mlr.predict(X_train)), *X_train.shape)"
   ]
  },
  {
   "cell_type": "code",
   "execution_count": null,
   "id": "051c6db8",
   "metadata": {
    "scrolled": true
   },
   "outputs": [],
   "source": [
    "adjusted_r2(metrics.r2_score(y_test, mlr.predict(X_test)), *X_test.shape)"
   ]
  },
  {
   "cell_type": "code",
   "execution_count": null,
   "id": "abd40b7c",
   "metadata": {},
   "outputs": [],
   "source": [
    "from sklearn import inspection\n",
    "pi = inspection.permutation_importance(mlr, X_train, y_train)\n",
    "pi"
   ]
  },
  {
   "cell_type": "code",
   "execution_count": null,
   "id": "79fa7624",
   "metadata": {},
   "outputs": [],
   "source": [
    "idf = pd.DataFrame()\n",
    "idf[\"feature\"] = california.feature_names\n",
    "idf[\"importance\"] = pi.importances_mean\n",
    "idf"
   ]
  },
  {
   "cell_type": "code",
   "execution_count": null,
   "id": "2aa943cb",
   "metadata": {},
   "outputs": [],
   "source": [
    "from sklearn.linear_model import SGDRegressor, Ridge\n",
    "from sklearn.ensemble import ExtraTreesRegressor\n",
    "for r in [LinearRegression(), SGDRegressor(loss='squared_error', penalty='l2',  random_state=42), \n",
    "          Ridge(), ExtraTreesRegressor(n_estimators=10,random_state=42)]:\n",
    "    print(r)\n",
    "    r.fit(X_train, y_train)\n",
    "    print(metrics.r2_score(y_train, r.predict(X_train)), \n",
    "          metrics.r2_score(y_test, r.predict(X_test)))\n",
    "          "
   ]
  },
  {
   "cell_type": "code",
   "execution_count": null,
   "id": "3763a665",
   "metadata": {},
   "outputs": [],
   "source": [
    "idf = pd.DataFrame()\n",
    "idf[\"feature\"] = california.feature_names\n",
    "idf[\"importance\"] = r.feature_importances_\n",
    "idf"
   ]
  }
 ],
 "metadata": {
  "kernelspec": {
   "display_name": "Python 3 (ipykernel)",
   "language": "python",
   "name": "python3"
  },
  "language_info": {
   "codemirror_mode": {
    "name": "ipython",
    "version": 3
   },
   "file_extension": ".py",
   "mimetype": "text/x-python",
   "name": "python",
   "nbconvert_exporter": "python",
   "pygments_lexer": "ipython3",
   "version": "3.8.10"
  },
  "toc": {
   "base_numbering": 1,
   "nav_menu": {},
   "number_sections": false,
   "sideBar": true,
   "skip_h1_title": false,
   "title_cell": "Table of Contents",
   "title_sidebar": "Contents",
   "toc_cell": false,
   "toc_position": {},
   "toc_section_display": true,
   "toc_window_display": false
  }
 },
 "nbformat": 4,
 "nbformat_minor": 5
}
