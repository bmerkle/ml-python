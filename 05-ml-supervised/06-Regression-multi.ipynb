{
 "cells": [
  {
   "cell_type": "markdown",
   "id": "e3b58bb8",
   "metadata": {},
   "source": [
    "# Regression mit Holdout und anderen Regressoren"
   ]
  },
  {
   "cell_type": "markdown",
   "id": "a8f23302",
   "metadata": {},
   "source": [
    "In diesem Notebook wirst du mit dem Holdout-Verfahren und multidimensionaler Regression arbeiten. Außerdem wirst du dir anschauen, wie gut andere Regressoren funktionieren."
   ]
  },
  {
   "cell_type": "markdown",
   "id": "4e0cad60",
   "metadata": {},
   "source": [
    "## Datenset laden"
   ]
  },
  {
   "cell_type": "markdown",
   "id": "a242559e",
   "metadata": {},
   "source": [
    "Dieses Vorgehen kennst du schon:"
   ]
  },
  {
   "cell_type": "code",
   "execution_count": null,
   "id": "b7e5a0c7",
   "metadata": {},
   "outputs": [],
   "source": [
    "from sklearn import datasets\n",
    "california = datasets.fetch_california_housing()"
   ]
  },
  {
   "cell_type": "markdown",
   "id": "84ff65ed",
   "metadata": {},
   "source": [
    "Wie gehabt wandelst du das Datenset in einen `DataFrame`."
   ]
  },
  {
   "cell_type": "code",
   "execution_count": null,
   "id": "f941cc62",
   "metadata": {},
   "outputs": [],
   "source": [
    "import pandas as pd\n",
    "df = pd.DataFrame(california.data, columns=california.feature_names)\n",
    "df[\"Price\"] = california.target"
   ]
  },
  {
   "cell_type": "markdown",
   "id": "99c32a4d",
   "metadata": {},
   "source": [
    "## Lineare Regression mit Trainings- und Test-Daten"
   ]
  },
  {
   "cell_type": "markdown",
   "id": "2c7091ab",
   "metadata": {},
   "source": [
    "Du kennst das *Holdout-Verfahren* schon von der Klassifikation. Hier kannst du es genauso anwenden:"
   ]
  },
  {
   "cell_type": "code",
   "execution_count": null,
   "id": "cf3342be",
   "metadata": {},
   "outputs": [],
   "source": [
    "from sklearn.model_selection import train_test_split\n",
    "(X_train, X_test, y_train, y_test) = train_test_split(df[[\"MedInc\"]].values, df[\"Price\"].values)"
   ]
  },
  {
   "cell_type": "markdown",
   "id": "1a36b742",
   "metadata": {},
   "source": [
    "Die Regression `fit`test du nur mit den Trainingsdaten"
   ]
  },
  {
   "cell_type": "code",
   "execution_count": null,
   "id": "4297a99d",
   "metadata": {},
   "outputs": [],
   "source": [
    "from sklearn.linear_model import LinearRegression\n",
    "\n",
    "lr = LinearRegression()\n",
    "lr.fit(X_train, y_train)"
   ]
  },
  {
   "cell_type": "markdown",
   "id": "6a5cf038",
   "metadata": {},
   "source": [
    "## Fehler berechnen"
   ]
  },
  {
   "cell_type": "markdown",
   "id": "c2f92971",
   "metadata": {},
   "source": [
    "In diesem Fall reicht es, wenn du einen Score berechnest. Nutze den `r2`-Score:"
   ]
  },
  {
   "cell_type": "code",
   "execution_count": null,
   "id": "7e6eaf71",
   "metadata": {},
   "outputs": [],
   "source": [
    "from sklearn import metrics\n",
    "metrics.r2_score(y_train, lr.predict(X_train))"
   ]
  },
  {
   "cell_type": "markdown",
   "id": "73a48b65",
   "metadata": {},
   "source": [
    "Wie sieht der Score bei den Testdaten aus?"
   ]
  },
  {
   "cell_type": "code",
   "execution_count": null,
   "id": "88a61ad8",
   "metadata": {
    "scrolled": true
   },
   "outputs": [],
   "source": [
    "metrics.r2_score(y_test, lr.predict(X_test))"
   ]
  },
  {
   "cell_type": "markdown",
   "id": "d6460663",
   "metadata": {},
   "source": [
    "Sogar besser - von *Overfitting* kann hier also keine Rede sein!"
   ]
  },
  {
   "cell_type": "markdown",
   "id": "2ec64c74",
   "metadata": {},
   "source": [
    "## Mehrdimensionale Regression"
   ]
  },
  {
   "cell_type": "markdown",
   "id": "1571cebd",
   "metadata": {},
   "source": [
    "Mit `sklearn` kannst du auch mehrdimensionale (oder sog. *multivariate*) Regression durchführen. Es ist gar nicht einfach, die richtigen Features zu finden. In diesem Beispiel benutzt du einfach *alle*:"
   ]
  },
  {
   "cell_type": "code",
   "execution_count": null,
   "id": "16f17e78",
   "metadata": {},
   "outputs": [],
   "source": [
    "(X_train, X_test, y_train, y_test) = train_test_split(california.data, california.target)"
   ]
  },
  {
   "cell_type": "markdown",
   "id": "b512d4c2",
   "metadata": {},
   "source": [
    "Der Aufruf unterscheidet sich nicht:"
   ]
  },
  {
   "cell_type": "code",
   "execution_count": null,
   "id": "59c179dc",
   "metadata": {},
   "outputs": [],
   "source": [
    "mlr = LinearRegression()\n",
    "mlr.fit(X_train, y_train)"
   ]
  },
  {
   "cell_type": "markdown",
   "id": "0619c760",
   "metadata": {},
   "source": [
    "Überprüfe den Score:"
   ]
  },
  {
   "cell_type": "code",
   "execution_count": null,
   "id": "e468bc3f",
   "metadata": {},
   "outputs": [],
   "source": [
    "metrics.r2_score(y_train, mlr.predict(X_train))"
   ]
  },
  {
   "cell_type": "markdown",
   "id": "59e48684",
   "metadata": {},
   "source": [
    "Das ist viel besser als mit einem Feature! Allerdings liegt das zum Teil auch daran, dass der `r2`-Wert immer besser wird, wenn du mehr Features verwendest. Um die Qualität zu beurteilen, benötigst du den *justierten* `r2`:"
   ]
  },
  {
   "cell_type": "code",
   "execution_count": null,
   "id": "6455c5df",
   "metadata": {},
   "outputs": [],
   "source": [
    "X_train.shape"
   ]
  },
  {
   "cell_type": "code",
   "execution_count": null,
   "id": "4554af3c",
   "metadata": {},
   "outputs": [],
   "source": [
    "def adjusted_r2(r2, n, k):\n",
    "    return 1 - ((1-r2)*(n-1)/(n-k-1))\n",
    "\n",
    "adjusted_r2(metrics.r2_score(y_train, mlr.predict(X_train)), *X_train.shape)"
   ]
  },
  {
   "cell_type": "markdown",
   "id": "4f2e1c0c",
   "metadata": {},
   "source": [
    "Da du nicht viele Features verwendest im Vergleich zu der Anzahl der Samples, ist der Unterschied sehr gering.\n",
    "\n",
    "Wie sieht es beim Testdatenset aus?"
   ]
  },
  {
   "cell_type": "code",
   "execution_count": null,
   "id": "051c6db8",
   "metadata": {
    "scrolled": true
   },
   "outputs": [],
   "source": [
    "adjusted_r2(metrics.r2_score(y_test, mlr.predict(X_test)), *X_test.shape)"
   ]
  },
  {
   "cell_type": "markdown",
   "id": "33d1899c",
   "metadata": {},
   "source": [
    "Auch besser! Das sieht auch hier nicht nach Overfitting aus.\n",
    "\n",
    "Wenn du möchtest, kannst du `sklearn` ausrechnen lassen, welche Features die wichtigsten sind. Dazu dient die Funktion `permutation_importance':"
   ]
  },
  {
   "cell_type": "code",
   "execution_count": null,
   "id": "abd40b7c",
   "metadata": {},
   "outputs": [],
   "source": [
    "from sklearn import inspection\n",
    "pi = inspection.permutation_importance(mlr, X_train, y_train)\n",
    "pi"
   ]
  },
  {
   "cell_type": "markdown",
   "id": "5933267b",
   "metadata": {},
   "source": [
    "Etwas übersichtlicher kannst du das in einem `DataFrame` darstellen:"
   ]
  },
  {
   "cell_type": "code",
   "execution_count": null,
   "id": "79fa7624",
   "metadata": {},
   "outputs": [],
   "source": [
    "idf = pd.DataFrame()\n",
    "idf[\"feature\"] = california.feature_names\n",
    "idf[\"importance\"] = pi.importances_mean\n",
    "idf"
   ]
  },
  {
   "cell_type": "markdown",
   "id": "9bcef541",
   "metadata": {},
   "source": [
    "In diesem Fall sind `Latitude` und `Longitude` sogar noch wichtigere Features. Bei einem genügend großen Datenset definieren diese die Lage der Objekte, die ganz offensichtlich eine Auswirkung auf den Preis hat."
   ]
  },
  {
   "cell_type": "markdown",
   "id": "5cfbac13",
   "metadata": {},
   "source": [
    "## Unterschiedliche Regressoren"
   ]
  },
  {
   "cell_type": "markdown",
   "id": "aa6936ae",
   "metadata": {},
   "source": [
    "Neben der linearen Regression gibt es noch andere Regressoren, die du ausprobieren kannst. Du lässt dir immer den `r2` für Trainings- und Testdaten ausgeben, um den Regressor beurteilen zu können."
   ]
  },
  {
   "cell_type": "code",
   "execution_count": null,
   "id": "2aa943cb",
   "metadata": {},
   "outputs": [],
   "source": [
    "from sklearn.linear_model import SGDRegressor, Ridge\n",
    "from sklearn.ensemble import ExtraTreesRegressor\n",
    "for r in [LinearRegression(), SGDRegressor(loss='squared_error', penalty='l2',  random_state=42), \n",
    "          Ridge(), ExtraTreesRegressor(n_estimators=10,random_state=42)]:\n",
    "    print(r)\n",
    "    r.fit(X_train, y_train)\n",
    "    print(metrics.r2_score(y_train, r.predict(X_train)), \n",
    "          metrics.r2_score(y_test, r.predict(X_test)))\n",
    "          "
   ]
  },
  {
   "cell_type": "markdown",
   "id": "2009a877",
   "metadata": {},
   "source": [
    "`ExtraTreesRegressor` ist eine *Mischung* verschiedener Ensemble-Verfahren. Obwohl die Traingsdaten überbestimmt scheinen, ist die Performance auch in den Testdaten sehr gut.\n",
    "\n",
    "Der `ExtraTreesRegressor` kann direkt die wichtigsten Features ausgeben:"
   ]
  },
  {
   "cell_type": "code",
   "execution_count": null,
   "id": "3763a665",
   "metadata": {},
   "outputs": [],
   "source": [
    "idf = pd.DataFrame()\n",
    "idf[\"feature\"] = california.feature_names\n",
    "idf[\"importance\"] = r.feature_importances_\n",
    "idf"
   ]
  },
  {
   "cell_type": "markdown",
   "id": "e620eb80",
   "metadata": {},
   "source": [
    "Auch hier siehst du, dass neben dem Einkommen auch die Lage eine Rolle spielt."
   ]
  },
  {
   "cell_type": "markdown",
   "id": "addcffac",
   "metadata": {},
   "source": [
    "## Overfitting bei Regression"
   ]
  },
  {
   "cell_type": "markdown",
   "id": "2872967e",
   "metadata": {},
   "source": [
    "Wie bei Klassifikatoren gibt es auch bei Regressoren *Overfitting*. Um das beurteilen zu können, musst du die Daten in ein Trainings- und Testdatenset splitten.\n",
    "\n",
    "Im Gegensatz zur Klassifikation kannst du hier mit einem Score arbeiten, was die Beurteilung insgesamt einfacher macht."
   ]
  }
 ],
 "metadata": {
  "kernelspec": {
   "display_name": "Python 3 (ipykernel)",
   "language": "python",
   "name": "python3"
  },
  "language_info": {
   "codemirror_mode": {
    "name": "ipython",
    "version": 3
   },
   "file_extension": ".py",
   "mimetype": "text/x-python",
   "name": "python",
   "nbconvert_exporter": "python",
   "pygments_lexer": "ipython3",
   "version": "3.8.10"
  },
  "toc": {
   "base_numbering": 1,
   "nav_menu": {},
   "number_sections": false,
   "sideBar": true,
   "skip_h1_title": false,
   "title_cell": "Table of Contents",
   "title_sidebar": "Contents",
   "toc_cell": false,
   "toc_position": {},
   "toc_section_display": true,
   "toc_window_display": false
  }
 },
 "nbformat": 4,
 "nbformat_minor": 5
}
