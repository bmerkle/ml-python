{
 "cells": [
  {
   "cell_type": "markdown",
   "id": "e3b58bb8",
   "metadata": {},
   "source": [
    "# Regression mit Holdout und anderen Regressoren"
   ]
  },
  {
   "cell_type": "markdown",
   "id": "a8f23302",
   "metadata": {},
   "source": [
    "In diesem Notebook wirst du mit dem Holdout-Verfahren und multidimensionaler Regression arbeiten. Außerdem wirst du dir anschauen, wie gut andere Regressoren funktionieren."
   ]
  },
  {
   "cell_type": "markdown",
   "id": "4e0cad60",
   "metadata": {},
   "source": [
    "## Datenset laden"
   ]
  },
  {
   "cell_type": "markdown",
   "id": "a242559e",
   "metadata": {},
   "source": [
    "Dieses Vorgehen kennst du schon:"
   ]
  },
  {
   "cell_type": "code",
   "execution_count": 1,
   "id": "b7e5a0c7",
   "metadata": {},
   "outputs": [],
   "source": [
    "from sklearn import datasets\n",
    "california = datasets.fetch_california_housing()"
   ]
  },
  {
   "cell_type": "markdown",
   "id": "84ff65ed",
   "metadata": {},
   "source": [
    "Wie gehabt wandelst du das Datenset in einen `DataFrame`."
   ]
  },
  {
   "cell_type": "code",
   "execution_count": 2,
   "id": "f941cc62",
   "metadata": {},
   "outputs": [],
   "source": [
    "import pandas as pd\n",
    "df = pd.DataFrame(california.data, columns=california.feature_names)\n",
    "df[\"Price\"] = california.target"
   ]
  },
  {
   "cell_type": "markdown",
   "id": "99c32a4d",
   "metadata": {},
   "source": [
    "## Lineare Regression mit Trainings- und Test-Daten"
   ]
  },
  {
   "cell_type": "markdown",
   "id": "2c7091ab",
   "metadata": {},
   "source": [
    "Du kennst das *Holdout-Verfahren* schon von der Klassifikation. Hier kannst du es genauso anwenden:"
   ]
  },
  {
   "cell_type": "code",
   "execution_count": 3,
   "id": "cf3342be",
   "metadata": {},
   "outputs": [],
   "source": [
    "from sklearn.model_selection import train_test_split\n",
    "(X_train, X_test, y_train, y_test) = train_test_split(df[[\"MedInc\"]].values, df[\"Price\"].values)"
   ]
  },
  {
   "cell_type": "markdown",
   "id": "1a36b742",
   "metadata": {},
   "source": [
    "Die Regression `fit`test du nur mit den Trainingsdaten"
   ]
  },
  {
   "cell_type": "code",
   "execution_count": 4,
   "id": "4297a99d",
   "metadata": {},
   "outputs": [
    {
     "data": {
      "text/html": [
       "<style>#sk-container-id-1 {color: black;background-color: white;}#sk-container-id-1 pre{padding: 0;}#sk-container-id-1 div.sk-toggleable {background-color: white;}#sk-container-id-1 label.sk-toggleable__label {cursor: pointer;display: block;width: 100%;margin-bottom: 0;padding: 0.3em;box-sizing: border-box;text-align: center;}#sk-container-id-1 label.sk-toggleable__label-arrow:before {content: \"▸\";float: left;margin-right: 0.25em;color: #696969;}#sk-container-id-1 label.sk-toggleable__label-arrow:hover:before {color: black;}#sk-container-id-1 div.sk-estimator:hover label.sk-toggleable__label-arrow:before {color: black;}#sk-container-id-1 div.sk-toggleable__content {max-height: 0;max-width: 0;overflow: hidden;text-align: left;background-color: #f0f8ff;}#sk-container-id-1 div.sk-toggleable__content pre {margin: 0.2em;color: black;border-radius: 0.25em;background-color: #f0f8ff;}#sk-container-id-1 input.sk-toggleable__control:checked~div.sk-toggleable__content {max-height: 200px;max-width: 100%;overflow: auto;}#sk-container-id-1 input.sk-toggleable__control:checked~label.sk-toggleable__label-arrow:before {content: \"▾\";}#sk-container-id-1 div.sk-estimator input.sk-toggleable__control:checked~label.sk-toggleable__label {background-color: #d4ebff;}#sk-container-id-1 div.sk-label input.sk-toggleable__control:checked~label.sk-toggleable__label {background-color: #d4ebff;}#sk-container-id-1 input.sk-hidden--visually {border: 0;clip: rect(1px 1px 1px 1px);clip: rect(1px, 1px, 1px, 1px);height: 1px;margin: -1px;overflow: hidden;padding: 0;position: absolute;width: 1px;}#sk-container-id-1 div.sk-estimator {font-family: monospace;background-color: #f0f8ff;border: 1px dotted black;border-radius: 0.25em;box-sizing: border-box;margin-bottom: 0.5em;}#sk-container-id-1 div.sk-estimator:hover {background-color: #d4ebff;}#sk-container-id-1 div.sk-parallel-item::after {content: \"\";width: 100%;border-bottom: 1px solid gray;flex-grow: 1;}#sk-container-id-1 div.sk-label:hover label.sk-toggleable__label {background-color: #d4ebff;}#sk-container-id-1 div.sk-serial::before {content: \"\";position: absolute;border-left: 1px solid gray;box-sizing: border-box;top: 0;bottom: 0;left: 50%;z-index: 0;}#sk-container-id-1 div.sk-serial {display: flex;flex-direction: column;align-items: center;background-color: white;padding-right: 0.2em;padding-left: 0.2em;position: relative;}#sk-container-id-1 div.sk-item {position: relative;z-index: 1;}#sk-container-id-1 div.sk-parallel {display: flex;align-items: stretch;justify-content: center;background-color: white;position: relative;}#sk-container-id-1 div.sk-item::before, #sk-container-id-1 div.sk-parallel-item::before {content: \"\";position: absolute;border-left: 1px solid gray;box-sizing: border-box;top: 0;bottom: 0;left: 50%;z-index: -1;}#sk-container-id-1 div.sk-parallel-item {display: flex;flex-direction: column;z-index: 1;position: relative;background-color: white;}#sk-container-id-1 div.sk-parallel-item:first-child::after {align-self: flex-end;width: 50%;}#sk-container-id-1 div.sk-parallel-item:last-child::after {align-self: flex-start;width: 50%;}#sk-container-id-1 div.sk-parallel-item:only-child::after {width: 0;}#sk-container-id-1 div.sk-dashed-wrapped {border: 1px dashed gray;margin: 0 0.4em 0.5em 0.4em;box-sizing: border-box;padding-bottom: 0.4em;background-color: white;}#sk-container-id-1 div.sk-label label {font-family: monospace;font-weight: bold;display: inline-block;line-height: 1.2em;}#sk-container-id-1 div.sk-label-container {text-align: center;}#sk-container-id-1 div.sk-container {/* jupyter's `normalize.less` sets `[hidden] { display: none; }` but bootstrap.min.css set `[hidden] { display: none !important; }` so we also need the `!important` here to be able to override the default hidden behavior on the sphinx rendered scikit-learn.org. See: https://github.com/scikit-learn/scikit-learn/issues/21755 */display: inline-block !important;position: relative;}#sk-container-id-1 div.sk-text-repr-fallback {display: none;}</style><div id=\"sk-container-id-1\" class=\"sk-top-container\"><div class=\"sk-text-repr-fallback\"><pre>LinearRegression()</pre><b>In a Jupyter environment, please rerun this cell to show the HTML representation or trust the notebook. <br />On GitHub, the HTML representation is unable to render, please try loading this page with nbviewer.org.</b></div><div class=\"sk-container\" hidden><div class=\"sk-item\"><div class=\"sk-estimator sk-toggleable\"><input class=\"sk-toggleable__control sk-hidden--visually\" id=\"sk-estimator-id-1\" type=\"checkbox\" checked><label for=\"sk-estimator-id-1\" class=\"sk-toggleable__label sk-toggleable__label-arrow\">LinearRegression</label><div class=\"sk-toggleable__content\"><pre>LinearRegression()</pre></div></div></div></div></div>"
      ],
      "text/plain": [
       "LinearRegression()"
      ]
     },
     "execution_count": 4,
     "metadata": {},
     "output_type": "execute_result"
    }
   ],
   "source": [
    "from sklearn.linear_model import LinearRegression\n",
    "\n",
    "lr = LinearRegression()\n",
    "lr.fit(X_train, y_train)"
   ]
  },
  {
   "cell_type": "markdown",
   "id": "6a5cf038",
   "metadata": {},
   "source": [
    "## Fehler berechnen"
   ]
  },
  {
   "cell_type": "markdown",
   "id": "c2f92971",
   "metadata": {},
   "source": [
    "In diesem Fall reicht es, wenn du einen Score berechnest. Nutze den `r2`-Score:"
   ]
  },
  {
   "cell_type": "code",
   "execution_count": 5,
   "id": "7e6eaf71",
   "metadata": {},
   "outputs": [
    {
     "data": {
      "text/plain": [
       "0.4654059862740644"
      ]
     },
     "execution_count": 5,
     "metadata": {},
     "output_type": "execute_result"
    }
   ],
   "source": [
    "from sklearn import metrics\n",
    "metrics.r2_score(y_train, lr.predict(X_train))"
   ]
  },
  {
   "cell_type": "markdown",
   "id": "73a48b65",
   "metadata": {},
   "source": [
    "Wie sieht der Score bei den Testdaten aus?"
   ]
  },
  {
   "cell_type": "code",
   "execution_count": 6,
   "id": "88a61ad8",
   "metadata": {
    "scrolled": true
   },
   "outputs": [
    {
     "data": {
      "text/plain": [
       "0.49692791370025735"
      ]
     },
     "execution_count": 6,
     "metadata": {},
     "output_type": "execute_result"
    }
   ],
   "source": [
    "metrics.r2_score(y_test, lr.predict(X_test))"
   ]
  },
  {
   "cell_type": "markdown",
   "id": "d6460663",
   "metadata": {},
   "source": [
    "Sogar besser - von *Overfitting* kann hier also keine Rede sein!"
   ]
  },
  {
   "cell_type": "markdown",
   "id": "2ec64c74",
   "metadata": {},
   "source": [
    "## Mehrdimensionale Regression"
   ]
  },
  {
   "cell_type": "markdown",
   "id": "1571cebd",
   "metadata": {},
   "source": [
    "Mit `sklearn` kannst du auch mehrdimensionale (oder sog. *multivariate*) Regression durchführen. Es ist gar nicht einfach, die richtigen Features zu finden. In diesem Beispiel benutzt du einfach *alle*:"
   ]
  },
  {
   "cell_type": "code",
   "execution_count": 7,
   "id": "16f17e78",
   "metadata": {},
   "outputs": [],
   "source": [
    "(X_train, X_test, y_train, y_test) = train_test_split(california.data, california.target)"
   ]
  },
  {
   "cell_type": "markdown",
   "id": "b512d4c2",
   "metadata": {},
   "source": [
    "Der Aufruf unterscheidet sich nicht:"
   ]
  },
  {
   "cell_type": "code",
   "execution_count": 8,
   "id": "59c179dc",
   "metadata": {},
   "outputs": [
    {
     "data": {
      "text/html": [
       "<style>#sk-container-id-2 {color: black;background-color: white;}#sk-container-id-2 pre{padding: 0;}#sk-container-id-2 div.sk-toggleable {background-color: white;}#sk-container-id-2 label.sk-toggleable__label {cursor: pointer;display: block;width: 100%;margin-bottom: 0;padding: 0.3em;box-sizing: border-box;text-align: center;}#sk-container-id-2 label.sk-toggleable__label-arrow:before {content: \"▸\";float: left;margin-right: 0.25em;color: #696969;}#sk-container-id-2 label.sk-toggleable__label-arrow:hover:before {color: black;}#sk-container-id-2 div.sk-estimator:hover label.sk-toggleable__label-arrow:before {color: black;}#sk-container-id-2 div.sk-toggleable__content {max-height: 0;max-width: 0;overflow: hidden;text-align: left;background-color: #f0f8ff;}#sk-container-id-2 div.sk-toggleable__content pre {margin: 0.2em;color: black;border-radius: 0.25em;background-color: #f0f8ff;}#sk-container-id-2 input.sk-toggleable__control:checked~div.sk-toggleable__content {max-height: 200px;max-width: 100%;overflow: auto;}#sk-container-id-2 input.sk-toggleable__control:checked~label.sk-toggleable__label-arrow:before {content: \"▾\";}#sk-container-id-2 div.sk-estimator input.sk-toggleable__control:checked~label.sk-toggleable__label {background-color: #d4ebff;}#sk-container-id-2 div.sk-label input.sk-toggleable__control:checked~label.sk-toggleable__label {background-color: #d4ebff;}#sk-container-id-2 input.sk-hidden--visually {border: 0;clip: rect(1px 1px 1px 1px);clip: rect(1px, 1px, 1px, 1px);height: 1px;margin: -1px;overflow: hidden;padding: 0;position: absolute;width: 1px;}#sk-container-id-2 div.sk-estimator {font-family: monospace;background-color: #f0f8ff;border: 1px dotted black;border-radius: 0.25em;box-sizing: border-box;margin-bottom: 0.5em;}#sk-container-id-2 div.sk-estimator:hover {background-color: #d4ebff;}#sk-container-id-2 div.sk-parallel-item::after {content: \"\";width: 100%;border-bottom: 1px solid gray;flex-grow: 1;}#sk-container-id-2 div.sk-label:hover label.sk-toggleable__label {background-color: #d4ebff;}#sk-container-id-2 div.sk-serial::before {content: \"\";position: absolute;border-left: 1px solid gray;box-sizing: border-box;top: 0;bottom: 0;left: 50%;z-index: 0;}#sk-container-id-2 div.sk-serial {display: flex;flex-direction: column;align-items: center;background-color: white;padding-right: 0.2em;padding-left: 0.2em;position: relative;}#sk-container-id-2 div.sk-item {position: relative;z-index: 1;}#sk-container-id-2 div.sk-parallel {display: flex;align-items: stretch;justify-content: center;background-color: white;position: relative;}#sk-container-id-2 div.sk-item::before, #sk-container-id-2 div.sk-parallel-item::before {content: \"\";position: absolute;border-left: 1px solid gray;box-sizing: border-box;top: 0;bottom: 0;left: 50%;z-index: -1;}#sk-container-id-2 div.sk-parallel-item {display: flex;flex-direction: column;z-index: 1;position: relative;background-color: white;}#sk-container-id-2 div.sk-parallel-item:first-child::after {align-self: flex-end;width: 50%;}#sk-container-id-2 div.sk-parallel-item:last-child::after {align-self: flex-start;width: 50%;}#sk-container-id-2 div.sk-parallel-item:only-child::after {width: 0;}#sk-container-id-2 div.sk-dashed-wrapped {border: 1px dashed gray;margin: 0 0.4em 0.5em 0.4em;box-sizing: border-box;padding-bottom: 0.4em;background-color: white;}#sk-container-id-2 div.sk-label label {font-family: monospace;font-weight: bold;display: inline-block;line-height: 1.2em;}#sk-container-id-2 div.sk-label-container {text-align: center;}#sk-container-id-2 div.sk-container {/* jupyter's `normalize.less` sets `[hidden] { display: none; }` but bootstrap.min.css set `[hidden] { display: none !important; }` so we also need the `!important` here to be able to override the default hidden behavior on the sphinx rendered scikit-learn.org. See: https://github.com/scikit-learn/scikit-learn/issues/21755 */display: inline-block !important;position: relative;}#sk-container-id-2 div.sk-text-repr-fallback {display: none;}</style><div id=\"sk-container-id-2\" class=\"sk-top-container\"><div class=\"sk-text-repr-fallback\"><pre>LinearRegression()</pre><b>In a Jupyter environment, please rerun this cell to show the HTML representation or trust the notebook. <br />On GitHub, the HTML representation is unable to render, please try loading this page with nbviewer.org.</b></div><div class=\"sk-container\" hidden><div class=\"sk-item\"><div class=\"sk-estimator sk-toggleable\"><input class=\"sk-toggleable__control sk-hidden--visually\" id=\"sk-estimator-id-2\" type=\"checkbox\" checked><label for=\"sk-estimator-id-2\" class=\"sk-toggleable__label sk-toggleable__label-arrow\">LinearRegression</label><div class=\"sk-toggleable__content\"><pre>LinearRegression()</pre></div></div></div></div></div>"
      ],
      "text/plain": [
       "LinearRegression()"
      ]
     },
     "execution_count": 8,
     "metadata": {},
     "output_type": "execute_result"
    }
   ],
   "source": [
    "mlr = LinearRegression()\n",
    "mlr.fit(X_train, y_train)"
   ]
  },
  {
   "cell_type": "markdown",
   "id": "0619c760",
   "metadata": {},
   "source": [
    "Überprüfe den Score:"
   ]
  },
  {
   "cell_type": "code",
   "execution_count": 9,
   "id": "e468bc3f",
   "metadata": {},
   "outputs": [
    {
     "data": {
      "text/plain": [
       "0.6054386876777129"
      ]
     },
     "execution_count": 9,
     "metadata": {},
     "output_type": "execute_result"
    }
   ],
   "source": [
    "metrics.r2_score(y_train, mlr.predict(X_train))"
   ]
  },
  {
   "cell_type": "markdown",
   "id": "59e48684",
   "metadata": {},
   "source": [
    "Das ist viel besser als mit einem Feature! Allerdings liegt das zum Teil auch daran, dass der `r2`-Wert immer besser wird, wenn du mehr Features verwendest. Um die Qualität zu beurteilen, benötigst du den *justierten* `r2`:"
   ]
  },
  {
   "cell_type": "code",
   "execution_count": 10,
   "id": "6455c5df",
   "metadata": {},
   "outputs": [
    {
     "data": {
      "text/plain": [
       "(15480, 8)"
      ]
     },
     "execution_count": 10,
     "metadata": {},
     "output_type": "execute_result"
    }
   ],
   "source": [
    "X_train.shape"
   ]
  },
  {
   "cell_type": "code",
   "execution_count": 11,
   "id": "4554af3c",
   "metadata": {},
   "outputs": [
    {
     "data": {
      "text/plain": [
       "0.6052346614028388"
      ]
     },
     "execution_count": 11,
     "metadata": {},
     "output_type": "execute_result"
    }
   ],
   "source": [
    "def adjusted_r2(r2, n, k):\n",
    "    return 1 - ((1-r2)*(n-1)/(n-k-1))\n",
    "\n",
    "adjusted_r2(metrics.r2_score(y_train, mlr.predict(X_train)), *X_train.shape)"
   ]
  },
  {
   "cell_type": "markdown",
   "id": "4f2e1c0c",
   "metadata": {},
   "source": [
    "Da du nicht viele Features verwendest im Vergleich zu der Anzahl der Samples, ist der Unterschied sehr gering.\n",
    "\n",
    "Wie sieht es beim Testdatenset aus?"
   ]
  },
  {
   "cell_type": "code",
   "execution_count": 12,
   "id": "051c6db8",
   "metadata": {
    "scrolled": true
   },
   "outputs": [
    {
     "data": {
      "text/plain": [
       "0.6077232698644578"
      ]
     },
     "execution_count": 12,
     "metadata": {},
     "output_type": "execute_result"
    }
   ],
   "source": [
    "adjusted_r2(metrics.r2_score(y_test, mlr.predict(X_test)), *X_test.shape)"
   ]
  },
  {
   "cell_type": "markdown",
   "id": "33d1899c",
   "metadata": {},
   "source": [
    "Auch besser! Das sieht auch hier nicht nach Overfitting aus.\n",
    "\n",
    "Wenn du möchtest, kannst du `sklearn` ausrechnen lassen, welche Features die wichtigsten sind. Dazu dient die Funktion `permutation_importance':"
   ]
  },
  {
   "cell_type": "code",
   "execution_count": 13,
   "id": "abd40b7c",
   "metadata": {},
   "outputs": [
    {
     "data": {
      "text/plain": [
       "{'importances_mean': array([1.03039242e+00, 2.04317660e-02, 1.05028979e-01, 1.39202692e-01,\n",
       "        2.52097979e-05, 1.23392098e-03, 1.23227041e+00, 1.15795720e+00]),\n",
       " 'importances_std': array([1.00745408e-02, 1.12484020e-03, 2.76231270e-03, 3.34777829e-03,\n",
       "        3.44040126e-05, 2.28079292e-04, 1.02283640e-02, 8.70502298e-03]),\n",
       " 'importances': array([[ 1.02527872e+00,  1.02376730e+00,  1.02039688e+00,\n",
       "          1.03414139e+00,  1.04837781e+00],\n",
       "        [ 2.01405324e-02,  1.87700910e-02,  2.07128302e-02,\n",
       "          2.02667344e-02,  2.22686421e-02],\n",
       "        [ 1.08515663e-01,  1.02237237e-01,  1.04357453e-01,\n",
       "          1.02038191e-01,  1.07996353e-01],\n",
       "        [ 1.35508288e-01,  1.42864575e-01,  1.41886265e-01,\n",
       "          1.40899126e-01,  1.34855205e-01],\n",
       "        [-7.40981813e-06,  2.29766899e-05,  1.60829181e-05,\n",
       "          9.07814285e-05,  3.61777137e-06],\n",
       "        [ 1.47757258e-03,  8.11175840e-04,  1.37030263e-03,\n",
       "          1.29069694e-03,  1.21985689e-03],\n",
       "        [ 1.21890412e+00,  1.23594689e+00,  1.22139009e+00,\n",
       "          1.24185703e+00,  1.24325395e+00],\n",
       "        [ 1.14465850e+00,  1.16894170e+00,  1.15445284e+00,\n",
       "          1.15575941e+00,  1.16597355e+00]])}"
      ]
     },
     "execution_count": 13,
     "metadata": {},
     "output_type": "execute_result"
    }
   ],
   "source": [
    "from sklearn import inspection\n",
    "pi = inspection.permutation_importance(mlr, X_train, y_train)\n",
    "pi"
   ]
  },
  {
   "cell_type": "markdown",
   "id": "5933267b",
   "metadata": {},
   "source": [
    "Etwas übersichtlicher kannst du das in einem `DataFrame` darstellen:"
   ]
  },
  {
   "cell_type": "code",
   "execution_count": 14,
   "id": "79fa7624",
   "metadata": {},
   "outputs": [
    {
     "data": {
      "text/html": [
       "<div>\n",
       "<style scoped>\n",
       "    .dataframe tbody tr th:only-of-type {\n",
       "        vertical-align: middle;\n",
       "    }\n",
       "\n",
       "    .dataframe tbody tr th {\n",
       "        vertical-align: top;\n",
       "    }\n",
       "\n",
       "    .dataframe thead th {\n",
       "        text-align: right;\n",
       "    }\n",
       "</style>\n",
       "<table border=\"1\" class=\"dataframe\">\n",
       "  <thead>\n",
       "    <tr style=\"text-align: right;\">\n",
       "      <th></th>\n",
       "      <th>feature</th>\n",
       "      <th>importance</th>\n",
       "    </tr>\n",
       "  </thead>\n",
       "  <tbody>\n",
       "    <tr>\n",
       "      <th>0</th>\n",
       "      <td>MedInc</td>\n",
       "      <td>1.030392</td>\n",
       "    </tr>\n",
       "    <tr>\n",
       "      <th>1</th>\n",
       "      <td>HouseAge</td>\n",
       "      <td>0.020432</td>\n",
       "    </tr>\n",
       "    <tr>\n",
       "      <th>2</th>\n",
       "      <td>AveRooms</td>\n",
       "      <td>0.105029</td>\n",
       "    </tr>\n",
       "    <tr>\n",
       "      <th>3</th>\n",
       "      <td>AveBedrms</td>\n",
       "      <td>0.139203</td>\n",
       "    </tr>\n",
       "    <tr>\n",
       "      <th>4</th>\n",
       "      <td>Population</td>\n",
       "      <td>0.000025</td>\n",
       "    </tr>\n",
       "    <tr>\n",
       "      <th>5</th>\n",
       "      <td>AveOccup</td>\n",
       "      <td>0.001234</td>\n",
       "    </tr>\n",
       "    <tr>\n",
       "      <th>6</th>\n",
       "      <td>Latitude</td>\n",
       "      <td>1.232270</td>\n",
       "    </tr>\n",
       "    <tr>\n",
       "      <th>7</th>\n",
       "      <td>Longitude</td>\n",
       "      <td>1.157957</td>\n",
       "    </tr>\n",
       "  </tbody>\n",
       "</table>\n",
       "</div>"
      ],
      "text/plain": [
       "      feature  importance\n",
       "0      MedInc    1.030392\n",
       "1    HouseAge    0.020432\n",
       "2    AveRooms    0.105029\n",
       "3   AveBedrms    0.139203\n",
       "4  Population    0.000025\n",
       "5    AveOccup    0.001234\n",
       "6    Latitude    1.232270\n",
       "7   Longitude    1.157957"
      ]
     },
     "execution_count": 14,
     "metadata": {},
     "output_type": "execute_result"
    }
   ],
   "source": [
    "idf = pd.DataFrame()\n",
    "idf[\"feature\"] = california.feature_names\n",
    "idf[\"importance\"] = pi.importances_mean\n",
    "idf"
   ]
  },
  {
   "cell_type": "markdown",
   "id": "9bcef541",
   "metadata": {},
   "source": [
    "In diesem Fall sind `Latitude` und `Longitude` sogar noch wichtigere Features. Bei einem genügend großen Datenset definieren diese die Lage der Objekte, die ganz offensichtlich eine Auswirkung auf den Preis hat."
   ]
  },
  {
   "cell_type": "markdown",
   "id": "5cfbac13",
   "metadata": {},
   "source": [
    "## Unterschiedliche Regressoren"
   ]
  },
  {
   "cell_type": "markdown",
   "id": "aa6936ae",
   "metadata": {},
   "source": [
    "Neben der linearen Regression gibt es noch andere Regressoren, die du ausprobieren kannst. Du lässt dir immer den `r2` für Trainings- und Testdaten ausgeben, um den Regressor beurteilen zu können."
   ]
  },
  {
   "cell_type": "code",
   "execution_count": 15,
   "id": "2aa943cb",
   "metadata": {},
   "outputs": [
    {
     "name": "stdout",
     "output_type": "stream",
     "text": [
      "LinearRegression()\n",
      "0.6054386876777129 0.6083315687287889\n",
      "SGDRegressor(random_state=42)\n",
      "-3.394145021496717e+29 -3.4509337964475206e+29\n",
      "Ridge()\n",
      "0.6054386448675063 0.608326051036407\n",
      "ExtraTreesRegressor(n_estimators=10, random_state=42)\n",
      "1.0 0.7989843690654626\n"
     ]
    }
   ],
   "source": [
    "from sklearn.linear_model import SGDRegressor, Ridge\n",
    "from sklearn.ensemble import ExtraTreesRegressor\n",
    "for r in [LinearRegression(), SGDRegressor(loss='squared_error', penalty='l2',  random_state=42), \n",
    "          Ridge(), ExtraTreesRegressor(n_estimators=10,random_state=42)]:\n",
    "    print(r)\n",
    "    r.fit(X_train, y_train)\n",
    "    print(metrics.r2_score(y_train, r.predict(X_train)), \n",
    "          metrics.r2_score(y_test, r.predict(X_test)))\n",
    "          "
   ]
  },
  {
   "cell_type": "markdown",
   "id": "2009a877",
   "metadata": {},
   "source": [
    "`ExtraTreesRegressor` ist eine *Mischung* verschiedener Ensemble-Verfahren. Obwohl die Traingsdaten überbestimmt scheinen, ist die Performance auch in den Testdaten sehr gut.\n",
    "\n",
    "Der `ExtraTreesRegressor` kann direkt die wichtigsten Features ausgeben:"
   ]
  },
  {
   "cell_type": "code",
   "execution_count": 16,
   "id": "3763a665",
   "metadata": {},
   "outputs": [
    {
     "data": {
      "text/html": [
       "<div>\n",
       "<style scoped>\n",
       "    .dataframe tbody tr th:only-of-type {\n",
       "        vertical-align: middle;\n",
       "    }\n",
       "\n",
       "    .dataframe tbody tr th {\n",
       "        vertical-align: top;\n",
       "    }\n",
       "\n",
       "    .dataframe thead th {\n",
       "        text-align: right;\n",
       "    }\n",
       "</style>\n",
       "<table border=\"1\" class=\"dataframe\">\n",
       "  <thead>\n",
       "    <tr style=\"text-align: right;\">\n",
       "      <th></th>\n",
       "      <th>feature</th>\n",
       "      <th>importance</th>\n",
       "    </tr>\n",
       "  </thead>\n",
       "  <tbody>\n",
       "    <tr>\n",
       "      <th>0</th>\n",
       "      <td>MedInc</td>\n",
       "      <td>0.486635</td>\n",
       "    </tr>\n",
       "    <tr>\n",
       "      <th>1</th>\n",
       "      <td>HouseAge</td>\n",
       "      <td>0.068965</td>\n",
       "    </tr>\n",
       "    <tr>\n",
       "      <th>2</th>\n",
       "      <td>AveRooms</td>\n",
       "      <td>0.053348</td>\n",
       "    </tr>\n",
       "    <tr>\n",
       "      <th>3</th>\n",
       "      <td>AveBedrms</td>\n",
       "      <td>0.034788</td>\n",
       "    </tr>\n",
       "    <tr>\n",
       "      <th>4</th>\n",
       "      <td>Population</td>\n",
       "      <td>0.027866</td>\n",
       "    </tr>\n",
       "    <tr>\n",
       "      <th>5</th>\n",
       "      <td>AveOccup</td>\n",
       "      <td>0.109652</td>\n",
       "    </tr>\n",
       "    <tr>\n",
       "      <th>6</th>\n",
       "      <td>Latitude</td>\n",
       "      <td>0.105081</td>\n",
       "    </tr>\n",
       "    <tr>\n",
       "      <th>7</th>\n",
       "      <td>Longitude</td>\n",
       "      <td>0.113665</td>\n",
       "    </tr>\n",
       "  </tbody>\n",
       "</table>\n",
       "</div>"
      ],
      "text/plain": [
       "      feature  importance\n",
       "0      MedInc    0.486635\n",
       "1    HouseAge    0.068965\n",
       "2    AveRooms    0.053348\n",
       "3   AveBedrms    0.034788\n",
       "4  Population    0.027866\n",
       "5    AveOccup    0.109652\n",
       "6    Latitude    0.105081\n",
       "7   Longitude    0.113665"
      ]
     },
     "execution_count": 16,
     "metadata": {},
     "output_type": "execute_result"
    }
   ],
   "source": [
    "idf = pd.DataFrame()\n",
    "idf[\"feature\"] = california.feature_names\n",
    "idf[\"importance\"] = r.feature_importances_\n",
    "idf"
   ]
  },
  {
   "cell_type": "markdown",
   "id": "e620eb80",
   "metadata": {},
   "source": [
    "Auch hier siehst du, dass neben dem Einkommen auch die Lage eine Rolle spielt."
   ]
  },
  {
   "cell_type": "markdown",
   "id": "addcffac",
   "metadata": {},
   "source": [
    "## Overfitting bei Regression"
   ]
  },
  {
   "cell_type": "markdown",
   "id": "2872967e",
   "metadata": {},
   "source": [
    "Wie bei Klassifikatoren gibt es auch bei Regressoren *Overfitting*. Um das beurteilen zu können, musst du die Daten in ein Trainings- und Testdatenset splitten.\n",
    "\n",
    "Im Gegensatz zur Klassifikation kannst du hier mit einem Score arbeiten, was die Beurteilung insgesamt einfacher macht."
   ]
  }
 ],
 "metadata": {
  "kernelspec": {
   "display_name": "Python 3",
   "language": "python",
   "name": "python3"
  },
  "language_info": {
   "codemirror_mode": {
    "name": "ipython",
    "version": 3
   },
   "file_extension": ".py",
   "mimetype": "text/x-python",
   "name": "python",
   "nbconvert_exporter": "python",
   "pygments_lexer": "ipython3",
   "version": "3.8.10"
  },
  "toc": {
   "base_numbering": 1,
   "nav_menu": {},
   "number_sections": false,
   "sideBar": true,
   "skip_h1_title": false,
   "title_cell": "Table of Contents",
   "title_sidebar": "Contents",
   "toc_cell": false,
   "toc_position": {},
   "toc_section_display": true,
   "toc_window_display": false
  }
 },
 "nbformat": 4,
 "nbformat_minor": 5
}
