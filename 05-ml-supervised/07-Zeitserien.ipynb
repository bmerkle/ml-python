{
 "cells": [
  {
   "cell_type": "markdown",
   "id": "e3b58bb8",
   "metadata": {},
   "source": [
    "# Zeitserien"
   ]
  },
  {
   "cell_type": "markdown",
   "id": "a8f23302",
   "metadata": {},
   "source": [
    "Eine sehr spezielle Art von Daten sind sog. *Zeitserien*. Hier wird ein (oder mehrere) Messwert(e) über die Zeit aufgetragen. Die Vorhersage kannst du hier als *zeitliche* Vorhersage betrachten, d.h. es hat eine gewisse Verbindung zur Wettervorhersage - auch das Wetter könnte man als Zeitserie auffassen."
   ]
  },
  {
   "cell_type": "markdown",
   "id": "4e0cad60",
   "metadata": {},
   "source": [
    "## Datenset laden"
   ]
  },
  {
   "cell_type": "markdown",
   "id": "a242559e",
   "metadata": {},
   "source": [
    "Am besten bleibst du gleich beim Wetter. Als Datenset verwendest du die täglichen Minimaltemperaturen in Melbourne. Eine genauere Erklärung über das Datenset und auch über Zeitserien findest du auf https://machinelearningmastery.com/time-series-datasets-for-machine-learning/\n",
    "\n",
    "Das Datenset lädst du am besten von Github:"
   ]
  },
  {
   "cell_type": "code",
   "execution_count": null,
   "id": "b7e5a0c7",
   "metadata": {},
   "outputs": [],
   "source": [
    "import pandas as pd\n",
    "df = pd.read_csv(\"https://raw.githubusercontent.com/jbrownlee/Datasets/master/daily-min-temperatures.csv\",\n",
    "                 parse_dates=[\"Date\"])\n",
    "df"
   ]
  },
  {
   "cell_type": "markdown",
   "id": "b22775a8",
   "metadata": {},
   "source": [
    "Du kannst dir gut einen Überblick verschaffen, indem du das Datenset als Diagramm anzeigen lässt:"
   ]
  },
  {
   "cell_type": "code",
   "execution_count": null,
   "id": "24fa7428",
   "metadata": {},
   "outputs": [],
   "source": [
    "df.set_index(\"Date\").plot(figsize=(16, 9))"
   ]
  },
  {
   "cell_type": "markdown",
   "id": "99c32a4d",
   "metadata": {},
   "source": [
    "## Lineare Regression mit Trainings- und Test-Daten"
   ]
  },
  {
   "cell_type": "markdown",
   "id": "2c7091ab",
   "metadata": {},
   "source": [
    "Zunächst versuchst du es mit linearer Regression abzubilden. Das Verfahren kennst du schon - hier gibt es eine kleine Änderung, weil nur eine Variable als unabhängige Variable zur Verfügung steht. Weil `sklearn` nicht gut mit dem Datum als Variable umgehen kann, nutzt du einfach einen `range`:"
   ]
  },
  {
   "cell_type": "code",
   "execution_count": null,
   "id": "cf3342be",
   "metadata": {},
   "outputs": [],
   "source": [
    "from sklearn.model_selection import train_test_split\n",
    "(X_train, X_test, y_train, y_test) = train_test_split([[v] for v in range(len(df))], \n",
    "                                                      df[\"Temp\"].values)"
   ]
  },
  {
   "cell_type": "markdown",
   "id": "1a36b742",
   "metadata": {},
   "source": [
    "Die Regression `fit`test du nur mit den Trainingsdaten"
   ]
  },
  {
   "cell_type": "code",
   "execution_count": null,
   "id": "4297a99d",
   "metadata": {},
   "outputs": [],
   "source": [
    "from sklearn.linear_model import LinearRegression\n",
    "\n",
    "lr = LinearRegression()\n",
    "lr.fit(X_train, y_train)"
   ]
  },
  {
   "cell_type": "markdown",
   "id": "6a5cf038",
   "metadata": {},
   "source": [
    "## Fehler berechnen"
   ]
  },
  {
   "cell_type": "markdown",
   "id": "c2f92971",
   "metadata": {},
   "source": [
    "In diesem Fall reicht es, wenn du einen Score berechnest. Nutze den `r2`-Score:"
   ]
  },
  {
   "cell_type": "code",
   "execution_count": null,
   "id": "7e6eaf71",
   "metadata": {},
   "outputs": [],
   "source": [
    "from sklearn import metrics\n",
    "metrics.r2_score(y_train, lr.predict(X_train)), metrics.r2_score(y_test, lr.predict(X_test))"
   ]
  },
  {
   "cell_type": "markdown",
   "id": "73a48b65",
   "metadata": {},
   "source": [
    "Selbst der Score der Trainingsdaten sieht gar nicht gut aus. Woran liegt das? Du kannst die Vorhersage durchführen und dir die Daten anzeigen lassen:"
   ]
  },
  {
   "cell_type": "code",
   "execution_count": null,
   "id": "44580258",
   "metadata": {},
   "outputs": [],
   "source": [
    "df[\"Predicted Temp\"] = lr.predict([[v] for v in range(len(df))])"
   ]
  },
  {
   "cell_type": "code",
   "execution_count": null,
   "id": "05f37581",
   "metadata": {},
   "outputs": [],
   "source": [
    "df.set_index(\"Date\")[[\"Temp\", \"Predicted Temp\"]].plot(figsize=(16, 9))"
   ]
  },
  {
   "cell_type": "markdown",
   "id": "d6460663",
   "metadata": {},
   "source": [
    "Die Regression hat einfach den Mittelwert vorhergesagt und die jahrezeitlichen Schwankungen gar nicht berücksichtigt. Das funktioniert so also nicht. Du brauchst ein besseres Verfahren"
   ]
  },
  {
   "cell_type": "markdown",
   "id": "2ec64c74",
   "metadata": {},
   "source": [
    "## Vorhersage von Zeitreihen"
   ]
  },
  {
   "cell_type": "markdown",
   "id": "1571cebd",
   "metadata": {},
   "source": [
    "Mit `sklearn` kannst du auch mehrdimensionale (oder sog. *multivariate*) Regression durchführen. Es ist gar nicht einfach, die richtigen Features zu finden. In diesem Beispiel benutzt du einfach *alle*:"
   ]
  },
  {
   "cell_type": "code",
   "execution_count": null,
   "id": "8821d296",
   "metadata": {},
   "outputs": [],
   "source": [
    "!pip install prophet"
   ]
  },
  {
   "cell_type": "code",
   "execution_count": null,
   "id": "16f17e78",
   "metadata": {},
   "outputs": [],
   "source": [
    "from prophet import Prophet"
   ]
  },
  {
   "cell_type": "markdown",
   "id": "eb9d00d7",
   "metadata": {},
   "source": [
    "`prophet` erfordert einen `DataFrame`, der aus den beiden Spalten `ds` und `y` besteht:"
   ]
  },
  {
   "cell_type": "code",
   "execution_count": null,
   "id": "c9385cb5",
   "metadata": {},
   "outputs": [],
   "source": [
    "pdf = pd.DataFrame({\"ds\": df[\"Date\"].values, \n",
    "                    \"y\": df[\"Temp\"].values})\n",
    "pdf"
   ]
  },
  {
   "cell_type": "markdown",
   "id": "d5a6995a",
   "metadata": {},
   "source": [
    "Anschließend kannst du ein `Prophet`-Objekt instanziieren und die Daten - ganz ähnlich wie bei `sklearn` *fitten*:"
   ]
  },
  {
   "cell_type": "code",
   "execution_count": null,
   "id": "e42a76b8",
   "metadata": {},
   "outputs": [],
   "source": [
    "m = Prophet()\n",
    "m.fit(pdf)"
   ]
  },
  {
   "cell_type": "markdown",
   "id": "ee2bfe0a",
   "metadata": {},
   "source": [
    "`Prophet` hat nun aus den vergangenen Daten gelernt. Du möchtest eine Vorhersage für die zukünftigen Daten durchführen. Dazu erzeugt du einen weiteren `DataFrame`, der von hier ab in die Zukunft geht. Zwei Jahre entsprechen (meistens) 730 Tagen, als Periode gibst du \"Tag\" (`D`) an:"
   ]
  },
  {
   "cell_type": "code",
   "execution_count": null,
   "id": "9b59bf59",
   "metadata": {},
   "outputs": [],
   "source": [
    "future = m.make_future_dataframe(periods=730, freq='D')\n",
    "future"
   ]
  },
  {
   "cell_type": "markdown",
   "id": "7c08b155",
   "metadata": {},
   "source": [
    "Du siehst, dass der `DataFrame` nur bis zum 30.12.1992 läuft - 1992 war ein Schaltjahr. Das stört dich (hier) nicht.\n",
    "\n",
    "Jetzt kannst du `Prophet` die Vorhersage für die Zukunft durchführen und dir die letzten Ergebnisse anzeigen lassen:"
   ]
  },
  {
   "cell_type": "code",
   "execution_count": null,
   "id": "373b20f4",
   "metadata": {},
   "outputs": [],
   "source": [
    "forecast = m.predict(future)\n",
    "forecast[['ds', 'yhat', 'yhat_lower', 'yhat_upper']].tail()"
   ]
  },
  {
   "cell_type": "markdown",
   "id": "71a28c23",
   "metadata": {},
   "source": [
    "Das sieht gut aus.\n",
    "\n",
    "Ein großer Vorteil von `Prophet` sind die Visualisierungen, die es bereits eingebaut hat:"
   ]
  },
  {
   "cell_type": "code",
   "execution_count": null,
   "id": "53ba5491",
   "metadata": {},
   "outputs": [],
   "source": [
    "fig1 = m.plot(forecast)"
   ]
  },
  {
   "cell_type": "markdown",
   "id": "700c83b3",
   "metadata": {},
   "source": [
    "Die Vorhersage sieht gut aus, auch die Interpolation der vergangenen Werte.\n",
    "\n",
    "`Prophet` kann noch mehr und auch längerfristige Trends anzeigen sowie Periodiziäten:"
   ]
  },
  {
   "cell_type": "code",
   "execution_count": null,
   "id": "5c488c67",
   "metadata": {},
   "outputs": [],
   "source": [
    "fig2 = m.plot_components(forecast)"
   ]
  },
  {
   "cell_type": "markdown",
   "id": "75ab3c2f",
   "metadata": {},
   "source": [
    "Ab 1983 war ein leichter Temperaturanstieg zu beobachten, der sich 1987 verschärft hat. Mittwochs war es im Mittel am wärmsten, aber der Unterschied von 0,3°C ist nicht signifikant. Eher schon der Monatstrend, den du beobachten kannst. Auf der Südhalbkugel ist es im Juli am kältesten, immerhin 8°C vergleichen mit Februar. Verkehrte Welt."
   ]
  },
  {
   "cell_type": "markdown",
   "id": "addcffac",
   "metadata": {},
   "source": [
    "## Vorhersage von Zeitserien"
   ]
  },
  {
   "cell_type": "markdown",
   "id": "2872967e",
   "metadata": {},
   "source": [
    "Wie du gesehen hast, funktioniert eine lineare Regression bei Zeitserien (oft) nicht gut. Das liegt an Periodizitäten und daran, dass Daten aus der unmittelbaren und längeren Vergangenheit berücksichtigt werden müssen. Das macht die Vorhersage zu einer echten Kunst.\n",
    "\n",
    "Es gibt auch sog. ARIMA-Modelle, mit denen man gute Ergebnisse erzielen kann. Diese haben wir hier nicht betrachtet, da die Machine Learning-Modelle in der Zwischenzeit mindestens genauso gut funktionieren und nicht so komplex getuned werden müssen.\n",
    "\n",
    "`Prophet` macht seine Sache sehr gut. Im Hintergrund werkeln dabei verschiedene (auch komplexe) Verfahren wie LSTMs usw., die du aber gar nicht zu Gesicht bekommst. Dafür sind die Ergebnisse wirklich gut!"
   ]
  }
 ],
 "metadata": {
  "kernelspec": {
   "display_name": "Python 3 (ipykernel)",
   "language": "python",
   "name": "python3"
  },
  "language_info": {
   "codemirror_mode": {
    "name": "ipython",
    "version": 3
   },
   "file_extension": ".py",
   "mimetype": "text/x-python",
   "name": "python",
   "nbconvert_exporter": "python",
   "pygments_lexer": "ipython3",
   "version": "3.8.10"
  },
  "toc": {
   "base_numbering": 1,
   "nav_menu": {},
   "number_sections": false,
   "sideBar": true,
   "skip_h1_title": false,
   "title_cell": "Table of Contents",
   "title_sidebar": "Contents",
   "toc_cell": false,
   "toc_position": {},
   "toc_section_display": true,
   "toc_window_display": false
  }
 },
 "nbformat": 4,
 "nbformat_minor": 5
}
