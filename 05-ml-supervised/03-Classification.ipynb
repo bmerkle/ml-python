{
 "cells": [
  {
   "cell_type": "markdown",
   "id": "e3b58bb8",
   "metadata": {},
   "source": [
    "# Klassifikation"
   ]
  },
  {
   "cell_type": "markdown",
   "id": "a8f23302",
   "metadata": {},
   "source": [
    "Für die Klassifikation wirst du wieder das `digits`-Datenset nutzen."
   ]
  },
  {
   "cell_type": "markdown",
   "id": "4e0cad60",
   "metadata": {},
   "source": [
    "## Datenset laden"
   ]
  },
  {
   "cell_type": "markdown",
   "id": "a242559e",
   "metadata": {},
   "source": [
    "Diesen Teil kennst du schon:"
   ]
  },
  {
   "cell_type": "code",
   "execution_count": 1,
   "id": "b7e5a0c7",
   "metadata": {},
   "outputs": [],
   "source": [
    "from sklearn import datasets\n",
    "digits = datasets.load_digits()"
   ]
  },
  {
   "cell_type": "markdown",
   "id": "10839cb1",
   "metadata": {},
   "source": [
    "Für *Supervised Learning* wirst du die Konvention nutzen, dass die unabhängigen Daten immer `X` heißen, während du die abhängigen Daten `Y` nennst. Die Aufgabe ist also, `X` zu nutzen, um `Y` vorherzusagen."
   ]
  },
  {
   "cell_type": "code",
   "execution_count": 2,
   "id": "d3e62893",
   "metadata": {},
   "outputs": [],
   "source": [
    "X = digits[\"data\"]\n",
    "y = digits[\"target\"]"
   ]
  },
  {
   "cell_type": "markdown",
   "id": "c81dff93",
   "metadata": {},
   "source": [
    "## Naive Bayes"
   ]
  },
  {
   "cell_type": "markdown",
   "id": "cdb879ad",
   "metadata": {},
   "source": [
    "Zuerst probierst du das *Naive Bayer*-Verfahren zur Klassifikation aus. Im Gegensatz zum Clustering benötigst du hier einen Schritt mehr - das Modell muss zunächst *trainiert* werden. Dazu dient die Funktion `fit`. "
   ]
  },
  {
   "cell_type": "code",
   "execution_count": 3,
   "id": "a6726ab9",
   "metadata": {},
   "outputs": [
    {
     "data": {
      "text/html": [
       "<style>#sk-container-id-1 {color: black;background-color: white;}#sk-container-id-1 pre{padding: 0;}#sk-container-id-1 div.sk-toggleable {background-color: white;}#sk-container-id-1 label.sk-toggleable__label {cursor: pointer;display: block;width: 100%;margin-bottom: 0;padding: 0.3em;box-sizing: border-box;text-align: center;}#sk-container-id-1 label.sk-toggleable__label-arrow:before {content: \"▸\";float: left;margin-right: 0.25em;color: #696969;}#sk-container-id-1 label.sk-toggleable__label-arrow:hover:before {color: black;}#sk-container-id-1 div.sk-estimator:hover label.sk-toggleable__label-arrow:before {color: black;}#sk-container-id-1 div.sk-toggleable__content {max-height: 0;max-width: 0;overflow: hidden;text-align: left;background-color: #f0f8ff;}#sk-container-id-1 div.sk-toggleable__content pre {margin: 0.2em;color: black;border-radius: 0.25em;background-color: #f0f8ff;}#sk-container-id-1 input.sk-toggleable__control:checked~div.sk-toggleable__content {max-height: 200px;max-width: 100%;overflow: auto;}#sk-container-id-1 input.sk-toggleable__control:checked~label.sk-toggleable__label-arrow:before {content: \"▾\";}#sk-container-id-1 div.sk-estimator input.sk-toggleable__control:checked~label.sk-toggleable__label {background-color: #d4ebff;}#sk-container-id-1 div.sk-label input.sk-toggleable__control:checked~label.sk-toggleable__label {background-color: #d4ebff;}#sk-container-id-1 input.sk-hidden--visually {border: 0;clip: rect(1px 1px 1px 1px);clip: rect(1px, 1px, 1px, 1px);height: 1px;margin: -1px;overflow: hidden;padding: 0;position: absolute;width: 1px;}#sk-container-id-1 div.sk-estimator {font-family: monospace;background-color: #f0f8ff;border: 1px dotted black;border-radius: 0.25em;box-sizing: border-box;margin-bottom: 0.5em;}#sk-container-id-1 div.sk-estimator:hover {background-color: #d4ebff;}#sk-container-id-1 div.sk-parallel-item::after {content: \"\";width: 100%;border-bottom: 1px solid gray;flex-grow: 1;}#sk-container-id-1 div.sk-label:hover label.sk-toggleable__label {background-color: #d4ebff;}#sk-container-id-1 div.sk-serial::before {content: \"\";position: absolute;border-left: 1px solid gray;box-sizing: border-box;top: 0;bottom: 0;left: 50%;z-index: 0;}#sk-container-id-1 div.sk-serial {display: flex;flex-direction: column;align-items: center;background-color: white;padding-right: 0.2em;padding-left: 0.2em;position: relative;}#sk-container-id-1 div.sk-item {position: relative;z-index: 1;}#sk-container-id-1 div.sk-parallel {display: flex;align-items: stretch;justify-content: center;background-color: white;position: relative;}#sk-container-id-1 div.sk-item::before, #sk-container-id-1 div.sk-parallel-item::before {content: \"\";position: absolute;border-left: 1px solid gray;box-sizing: border-box;top: 0;bottom: 0;left: 50%;z-index: -1;}#sk-container-id-1 div.sk-parallel-item {display: flex;flex-direction: column;z-index: 1;position: relative;background-color: white;}#sk-container-id-1 div.sk-parallel-item:first-child::after {align-self: flex-end;width: 50%;}#sk-container-id-1 div.sk-parallel-item:last-child::after {align-self: flex-start;width: 50%;}#sk-container-id-1 div.sk-parallel-item:only-child::after {width: 0;}#sk-container-id-1 div.sk-dashed-wrapped {border: 1px dashed gray;margin: 0 0.4em 0.5em 0.4em;box-sizing: border-box;padding-bottom: 0.4em;background-color: white;}#sk-container-id-1 div.sk-label label {font-family: monospace;font-weight: bold;display: inline-block;line-height: 1.2em;}#sk-container-id-1 div.sk-label-container {text-align: center;}#sk-container-id-1 div.sk-container {/* jupyter's `normalize.less` sets `[hidden] { display: none; }` but bootstrap.min.css set `[hidden] { display: none !important; }` so we also need the `!important` here to be able to override the default hidden behavior on the sphinx rendered scikit-learn.org. See: https://github.com/scikit-learn/scikit-learn/issues/21755 */display: inline-block !important;position: relative;}#sk-container-id-1 div.sk-text-repr-fallback {display: none;}</style><div id=\"sk-container-id-1\" class=\"sk-top-container\"><div class=\"sk-text-repr-fallback\"><pre>MultinomialNB()</pre><b>In a Jupyter environment, please rerun this cell to show the HTML representation or trust the notebook. <br />On GitHub, the HTML representation is unable to render, please try loading this page with nbviewer.org.</b></div><div class=\"sk-container\" hidden><div class=\"sk-item\"><div class=\"sk-estimator sk-toggleable\"><input class=\"sk-toggleable__control sk-hidden--visually\" id=\"sk-estimator-id-1\" type=\"checkbox\" checked><label for=\"sk-estimator-id-1\" class=\"sk-toggleable__label sk-toggleable__label-arrow\">MultinomialNB</label><div class=\"sk-toggleable__content\"><pre>MultinomialNB()</pre></div></div></div></div></div>"
      ],
      "text/plain": [
       "MultinomialNB()"
      ]
     },
     "execution_count": 3,
     "metadata": {},
     "output_type": "execute_result"
    }
   ],
   "source": [
    "from sklearn.naive_bayes import MultinomialNB\n",
    "mnb = MultinomialNB()\n",
    "mnb.fit(X, y)"
   ]
  },
  {
   "cell_type": "markdown",
   "id": "56b6ef31",
   "metadata": {},
   "source": [
    "Wenn das Modell trainiert ist, kann es Vorhersagen durchführen. Du übergibst ihm dazu Daten und es sagt dir, welche Zahl sich dahinter verbirgt. Probier es aus:"
   ]
  },
  {
   "cell_type": "code",
   "execution_count": 4,
   "id": "a0feb99f",
   "metadata": {},
   "outputs": [],
   "source": [
    "mnb_pred = mnb.predict(X)"
   ]
  },
  {
   "cell_type": "markdown",
   "id": "50d5c099",
   "metadata": {},
   "source": [
    "Um zu sehen, wie oft es richtig und falsch vorhergesagt hast, kannst du einfach die beiden Arrays miteinander vergleichen (weil es `numpy.array`s sind) und zählen, wie häufig `True` und `False` vorkommt."
   ]
  },
  {
   "cell_type": "code",
   "execution_count": 5,
   "id": "babf8dc2",
   "metadata": {},
   "outputs": [
    {
     "data": {
      "text/plain": [
       "(array([False,  True]), array([ 170, 1627]))"
      ]
     },
     "execution_count": 5,
     "metadata": {},
     "output_type": "execute_result"
    }
   ],
   "source": [
    "import numpy as np\n",
    "np.unique(mnb_pred == y, return_counts=True)"
   ]
  },
  {
   "cell_type": "markdown",
   "id": "3caa01d5",
   "metadata": {},
   "source": [
    "10% Fehler, das sieht gar nicht schlecht aus! Das Verhältnis von richtig klassifizierten Daten zu allen nennt sich *Accuracy* und kann einfach berechnet werden. Achtung, es ist nicht immer ein besonders gut geeignetes Maß."
   ]
  },
  {
   "cell_type": "code",
   "execution_count": 6,
   "id": "d99a9686",
   "metadata": {},
   "outputs": [
    {
     "data": {
      "text/plain": [
       "0.9053978853644964"
      ]
     },
     "execution_count": 6,
     "metadata": {},
     "output_type": "execute_result"
    }
   ],
   "source": [
    "(u, c) = np.unique(mnb_pred == y, return_counts=True)\n",
    "c[1]/c.sum()"
   ]
  },
  {
   "cell_type": "markdown",
   "id": "2fccae22",
   "metadata": {},
   "source": [
    "Andere Klassifikationsverfahren sind noch besser. *Naive Bayes* ist immer die *Baseline*, an der sich alles messen sollte - alle andere Verfahren müssten eigentlich besser sein."
   ]
  },
  {
   "cell_type": "markdown",
   "id": "b58e1a82",
   "metadata": {},
   "source": [
    "## Andere Verfahren"
   ]
  },
  {
   "cell_type": "markdown",
   "id": "13ed18b3",
   "metadata": {},
   "source": [
    "Da `scikit-learn` ziemlich viele Verfahren hat, schreibst du dir dazu eine kleine Schleife."
   ]
  },
  {
   "cell_type": "code",
   "execution_count": 7,
   "id": "e58b7613",
   "metadata": {},
   "outputs": [
    {
     "name": "stdout",
     "output_type": "stream",
     "text": [
      "MultinomialNB() 0.9053978853644964\n",
      "SVC(random_state=42) 0.996661101836394\n",
      "SGDClassifier(random_state=42) 0.9699499165275459\n",
      "RandomForestClassifier() 1.0\n",
      "GradientBoostingClassifier(random_state=42) 1.0\n",
      "AdaBoostClassifier(random_state=42) 0.2654424040066778\n",
      "DecisionTreeClassifier(random_state=42) 1.0\n",
      "MLPClassifier(random_state=42) 1.0\n",
      "KNeighborsClassifier() 0.9905397885364496\n"
     ]
    }
   ],
   "source": [
    "from sklearn.svm import SVC\n",
    "from sklearn.linear_model import SGDClassifier\n",
    "from sklearn.ensemble import RandomForestClassifier, GradientBoostingClassifier, AdaBoostClassifier\n",
    "from sklearn.tree import DecisionTreeClassifier\n",
    "from sklearn.neural_network import MLPClassifier\n",
    "from sklearn.neighbors import KNeighborsClassifier\n",
    "\n",
    "for clf in [MultinomialNB(), SVC(random_state=42), SGDClassifier(random_state=42),\n",
    "            RandomForestClassifier(), GradientBoostingClassifier(random_state=42),\n",
    "            AdaBoostClassifier(random_state=42), DecisionTreeClassifier(random_state=42),\n",
    "            MLPClassifier(random_state=42), KNeighborsClassifier()]:\n",
    "    clf.fit(X, y)\n",
    "    clf_pred = clf.predict(X)\n",
    "    (u, c) = np.unique(clf_pred == y, return_counts=True)\n",
    "    print(clf, c[-1]/c.sum())"
   ]
  },
  {
   "cell_type": "markdown",
   "id": "464edb8c",
   "metadata": {},
   "source": [
    "Die Ergebnisse unterscheiden sich sehr deutlich - genau wie auch die Rechenzeiten."
   ]
  },
  {
   "cell_type": "markdown",
   "id": "addcffac",
   "metadata": {},
   "source": [
    "## Welches ist der richtige Algorithmus"
   ]
  },
  {
   "cell_type": "markdown",
   "id": "2872967e",
   "metadata": {},
   "source": [
    "Wie du siehst, ist eine Klassifikation mit `scikit-learn` sehr einfach durchführbar. Doch welches ist nun der richtige Algorithmus? Das kannst du noch nicht entscheiden, weil du die Abstraktionsfähigkeit der Klassifikatoren noch nicht bewerten kannst. Außerdem ist die *Accuracy* auch nicht immer das am besten geeignete Maß, um die Leistungsfähigkeit zu beurteilen.\n",
    "\n",
    "Genaueres dazu erfährst du im nächsten Teil!"
   ]
  }
 ],
 "metadata": {
  "kernelspec": {
   "display_name": "Python 3",
   "language": "python",
   "name": "python3"
  },
  "language_info": {
   "codemirror_mode": {
    "name": "ipython",
    "version": 3
   },
   "file_extension": ".py",
   "mimetype": "text/x-python",
   "name": "python",
   "nbconvert_exporter": "python",
   "pygments_lexer": "ipython3",
   "version": "3.8.10"
  },
  "toc": {
   "base_numbering": 1,
   "nav_menu": {},
   "number_sections": false,
   "sideBar": true,
   "skip_h1_title": false,
   "title_cell": "Table of Contents",
   "title_sidebar": "Contents",
   "toc_cell": false,
   "toc_position": {},
   "toc_section_display": true,
   "toc_window_display": false
  }
 },
 "nbformat": 4,
 "nbformat_minor": 5
}
