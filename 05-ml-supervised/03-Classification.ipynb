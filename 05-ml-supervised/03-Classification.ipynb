{
 "cells": [
  {
   "cell_type": "code",
   "execution_count": null,
   "id": "b7e5a0c7",
   "metadata": {},
   "outputs": [],
   "source": [
    "from sklearn import datasets\n",
    "digits = datasets.load_digits()"
   ]
  },
  {
   "cell_type": "code",
   "execution_count": null,
   "id": "d3e62893",
   "metadata": {},
   "outputs": [],
   "source": [
    "X = digits[\"data\"]\n",
    "y = digits[\"target\"]"
   ]
  },
  {
   "cell_type": "code",
   "execution_count": null,
   "id": "a6726ab9",
   "metadata": {},
   "outputs": [],
   "source": [
    "from sklearn.naive_bayes import MultinomialNB\n",
    "mnb = MultinomialNB()\n",
    "mnb.fit(X, y)"
   ]
  },
  {
   "cell_type": "code",
   "execution_count": null,
   "id": "a0feb99f",
   "metadata": {},
   "outputs": [],
   "source": [
    "mnb_pred = mnb.predict(X)"
   ]
  },
  {
   "cell_type": "code",
   "execution_count": null,
   "id": "babf8dc2",
   "metadata": {},
   "outputs": [],
   "source": [
    "import numpy as np\n",
    "np.unique(mnb_pred == y, return_counts=True)"
   ]
  },
  {
   "cell_type": "code",
   "execution_count": null,
   "id": "d99a9686",
   "metadata": {},
   "outputs": [],
   "source": [
    "(u, c) = np.unique(mnb_pred == y, return_counts=True)\n",
    "c[1]/c.sum()"
   ]
  },
  {
   "cell_type": "code",
   "execution_count": null,
   "id": "e58b7613",
   "metadata": {},
   "outputs": [],
   "source": [
    "from sklearn.svm import SVC\n",
    "from sklearn.linear_model import SGDClassifier\n",
    "from sklearn.ensemble import RandomForestClassifier, GradientBoostingClassifier, AdaBoostClassifier\n",
    "from sklearn.tree import DecisionTreeClassifier\n",
    "from sklearn.neural_network import MLPClassifier\n",
    "from sklearn.neighbors import KNeighborsClassifier\n",
    "\n",
    "for clf in [MultinomialNB(), SVC(random_state=42), SGDClassifier(random_state=42),\n",
    "            RandomForestClassifier(), GradientBoostingClassifier(random_state=42),\n",
    "            AdaBoostClassifier(random_state=42), DecisionTreeClassifier(random_state=42),\n",
    "            MLPClassifier(random_state=42), KNeighborsClassifier()]:\n",
    "    clf.fit(X, y)\n",
    "    clf_pred = clf.predict(X)\n",
    "    (u, c) = np.unique(clf_pred == y, return_counts=True)\n",
    "    print(clf, c[-1]/c.sum())"
   ]
  }
 ],
 "metadata": {
  "kernelspec": {
   "display_name": "Python 3 (ipykernel)",
   "language": "python",
   "name": "python3"
  },
  "language_info": {
   "codemirror_mode": {
    "name": "ipython",
    "version": 3
   },
   "file_extension": ".py",
   "mimetype": "text/x-python",
   "name": "python",
   "nbconvert_exporter": "python",
   "pygments_lexer": "ipython3",
   "version": "3.8.10"
  },
  "toc": {
   "base_numbering": 1,
   "nav_menu": {},
   "number_sections": false,
   "sideBar": true,
   "skip_h1_title": false,
   "title_cell": "Table of Contents",
   "title_sidebar": "Contents",
   "toc_cell": false,
   "toc_position": {},
   "toc_section_display": true,
   "toc_window_display": false
  }
 },
 "nbformat": 4,
 "nbformat_minor": 5
}
