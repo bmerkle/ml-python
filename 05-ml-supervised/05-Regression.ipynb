{
 "cells": [
  {
   "cell_type": "code",
   "execution_count": null,
   "id": "b7e5a0c7",
   "metadata": {},
   "outputs": [],
   "source": [
    "from sklearn import datasets\n",
    "california = datasets.fetch_california_housing()"
   ]
  },
  {
   "cell_type": "code",
   "execution_count": null,
   "id": "78ded3bd",
   "metadata": {},
   "outputs": [],
   "source": [
    "print(california.DESCR)"
   ]
  },
  {
   "cell_type": "code",
   "execution_count": null,
   "id": "2177c886",
   "metadata": {},
   "outputs": [],
   "source": [
    "import pandas as pd\n",
    "df = pd.DataFrame(california.data, columns=california.feature_names)\n",
    "df[\"Price\"] = california.target\n",
    "df"
   ]
  },
  {
   "cell_type": "code",
   "execution_count": null,
   "id": "2960ab61",
   "metadata": {},
   "outputs": [],
   "source": [
    "df.corr()"
   ]
  },
  {
   "cell_type": "code",
   "execution_count": null,
   "id": "2a138e8b",
   "metadata": {},
   "outputs": [],
   "source": [
    "df.plot.scatter(x=\"MedInc\", y=\"Price\", c=\"#0044aa44\", figsize=(16,9))"
   ]
  },
  {
   "cell_type": "code",
   "execution_count": null,
   "id": "0889059d",
   "metadata": {},
   "outputs": [],
   "source": [
    "X = df[[\"MedInc\"]]\n",
    "y = df[\"Price\"]"
   ]
  },
  {
   "cell_type": "code",
   "execution_count": null,
   "id": "3d1c5a0c",
   "metadata": {},
   "outputs": [],
   "source": [
    "from sklearn.linear_model import LinearRegression\n",
    "\n",
    "lr = LinearRegression()\n",
    "lr.fit(X, y)"
   ]
  },
  {
   "cell_type": "code",
   "execution_count": null,
   "id": "03456ac9",
   "metadata": {},
   "outputs": [],
   "source": [
    "lr.coef_"
   ]
  },
  {
   "cell_type": "code",
   "execution_count": null,
   "id": "51377dca",
   "metadata": {},
   "outputs": [],
   "source": [
    "lr.intercept_"
   ]
  },
  {
   "cell_type": "code",
   "execution_count": null,
   "id": "60d3dd94",
   "metadata": {},
   "outputs": [],
   "source": [
    "df[\"Predicted Price\"] = lr.predict(df[[\"MedInc\"]])"
   ]
  },
  {
   "cell_type": "code",
   "execution_count": null,
   "id": "f9e3e1d4",
   "metadata": {},
   "outputs": [],
   "source": [
    "df.plot.scatter(x=\"MedInc\", y=\"Price\", c=\"#0044aa44\", figsize=(16, 9));\n",
    "df.set_index(\"MedInc\")[\"Predicted Price\"].plot(figsize=(16, 9));"
   ]
  },
  {
   "cell_type": "code",
   "execution_count": null,
   "id": "bdc54476",
   "metadata": {},
   "outputs": [],
   "source": [
    "from sklearn import metrics\n",
    "metrics.mean_squared_error(y, df[\"Predicted Price\"])"
   ]
  },
  {
   "cell_type": "code",
   "execution_count": null,
   "id": "2b54c751",
   "metadata": {},
   "outputs": [],
   "source": [
    "metrics.mean_absolute_error(y, df[\"Predicted Price\"])"
   ]
  },
  {
   "cell_type": "code",
   "execution_count": null,
   "id": "84d340f9",
   "metadata": {},
   "outputs": [],
   "source": [
    "metrics.max_error(y, df[\"Predicted Price\"])"
   ]
  },
  {
   "cell_type": "code",
   "execution_count": null,
   "id": "ef8f957f",
   "metadata": {},
   "outputs": [],
   "source": [
    "metrics.r2_score(y, df[\"Predicted Price\"])"
   ]
  }
 ],
 "metadata": {
  "kernelspec": {
   "display_name": "Python 3 (ipykernel)",
   "language": "python",
   "name": "python3"
  },
  "language_info": {
   "codemirror_mode": {
    "name": "ipython",
    "version": 3
   },
   "file_extension": ".py",
   "mimetype": "text/x-python",
   "name": "python",
   "nbconvert_exporter": "python",
   "pygments_lexer": "ipython3",
   "version": "3.8.10"
  },
  "toc": {
   "base_numbering": 1,
   "nav_menu": {},
   "number_sections": false,
   "sideBar": true,
   "skip_h1_title": false,
   "title_cell": "Table of Contents",
   "title_sidebar": "Contents",
   "toc_cell": false,
   "toc_position": {},
   "toc_section_display": true,
   "toc_window_display": false
  }
 },
 "nbformat": 4,
 "nbformat_minor": 5
}
