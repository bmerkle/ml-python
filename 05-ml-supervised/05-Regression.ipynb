{
 "cells": [
  {
   "cell_type": "markdown",
   "id": "e3b58bb8",
   "metadata": {},
   "source": [
    "# Regression"
   ]
  },
  {
   "cell_type": "markdown",
   "id": "a8f23302",
   "metadata": {},
   "source": [
    "Im Gegensatz zu einer Klassifikation, die *diskrete Werte* vorhersagt, hat die Regression *kontinuierliche Werte* als Ergebnis.\n",
    "\n",
    "Bei der *linearen Regression* geht es darum eine *Gerade* zu finden, die die Zielwerte möglichst exakt aus den unabhängigen Variablen vorhersagt. Die *Regressionsgerade* wird normalerweise durch eine Gleichung dargestellt (\"parametrisiert\"):\n",
    "\n",
    "$$ y = mx + t $$\n",
    "\n",
    "$m$ ist dabei die Steigung der Geraden, $t$ der sog. *Achsenabschnitt*.\n",
    "Solltest du mehrere unabhängige Variablen haben (das wirst du später genauer betrachten), kannst du mit Vektoren rechnen:\n",
    "\n",
    "$$ y = {\\mathbf m} {\\mathbf x} + t $$\n",
    "\n",
    "Wir fangen zunächst ganz einfach an. Auch für die Regression gibt es Datensets, z.B. das der Hauspreise in Kalifornien (das vielbenutzte Boston-Datenset sollte man nicht mehr verwenden!). Das wirst du nun zunächst einladen und anschließend analysieren."
   ]
  },
  {
   "cell_type": "markdown",
   "id": "4e0cad60",
   "metadata": {},
   "source": [
    "## Datenset laden"
   ]
  },
  {
   "cell_type": "markdown",
   "id": "a242559e",
   "metadata": {},
   "source": [
    "Das Prozedere kennst du schon, allerdings ist das Datenset nicht ganz so eng in `sklearn` integriert, daher ist der Aufruf ein bisschen anders:"
   ]
  },
  {
   "cell_type": "code",
   "execution_count": null,
   "id": "b7e5a0c7",
   "metadata": {},
   "outputs": [],
   "source": [
    "from sklearn import datasets\n",
    "california = datasets.fetch_california_housing()"
   ]
  },
  {
   "cell_type": "code",
   "execution_count": null,
   "id": "78ded3bd",
   "metadata": {},
   "outputs": [],
   "source": [
    "print(california.DESCR)"
   ]
  },
  {
   "cell_type": "markdown",
   "id": "379d7fa3",
   "metadata": {},
   "source": [
    "Wie gehabt wandelst du das Datenset in einen `DataFrame`."
   ]
  },
  {
   "cell_type": "code",
   "execution_count": null,
   "id": "2177c886",
   "metadata": {},
   "outputs": [],
   "source": [
    "import pandas as pd\n",
    "df = pd.DataFrame(california.data, columns=california.feature_names)\n",
    "df[\"Price\"] = california.target\n",
    "df"
   ]
  },
  {
   "cell_type": "markdown",
   "id": "6eb9147b",
   "metadata": {},
   "source": [
    "## Korrelationen"
   ]
  },
  {
   "cell_type": "markdown",
   "id": "1f133b8a",
   "metadata": {},
   "source": [
    "Zunächst interessierst du dich für die Korrelationen der einzelnen Spalten:"
   ]
  },
  {
   "cell_type": "code",
   "execution_count": null,
   "id": "2960ab61",
   "metadata": {},
   "outputs": [],
   "source": [
    "df.corr()"
   ]
  },
  {
   "cell_type": "markdown",
   "id": "f5ccf03a",
   "metadata": {},
   "source": [
    "Das sid sog. *Pearson-R-Werte*. Werte um `0` drücken keine Korrelation aus, `1` ist perfekt korreliert, `-1` ist perfekt antikorreliert. \n",
    "\n",
    "Offenbar ist das mittlere Einkommen `MedInc` sehr gut mit dem `Price` korreliert. Das wirst du gleich ausnutzen. Schau dir zunächst aber nochmal die Verteilung an:"
   ]
  },
  {
   "cell_type": "code",
   "execution_count": null,
   "id": "2a138e8b",
   "metadata": {},
   "outputs": [],
   "source": [
    "df.plot.scatter(x=\"MedInc\", y=\"Price\", c=\"#0044aa44\", figsize=(16,9))"
   ]
  },
  {
   "cell_type": "markdown",
   "id": "38032ddc",
   "metadata": {},
   "source": [
    "Die Hauspreise sind bei `5` (entspricht 500.000\\$) abgeschnitten, das ist natürlich nicht so günstig! Wenn du möchtest, kannst du die mit `df5 = df[df[\"Price\"] < 5]` filtern, in diesem Beispiel lassen wir die mit drin."
   ]
  },
  {
   "cell_type": "markdown",
   "id": "099e6360",
   "metadata": {},
   "source": [
    "## Einfache lineare Regression"
   ]
  },
  {
   "cell_type": "markdown",
   "id": "250ff2d2",
   "metadata": {},
   "source": [
    "Wie schon von der Klassifikation gewohnt nennst du die unabhängige Variable `X`, die abhängige `y`:"
   ]
  },
  {
   "cell_type": "code",
   "execution_count": null,
   "id": "0889059d",
   "metadata": {},
   "outputs": [],
   "source": [
    "X = df[[\"MedInc\"]]\n",
    "y = df[\"Price\"]"
   ]
  },
  {
   "cell_type": "markdown",
   "id": "f918535e",
   "metadata": {},
   "source": [
    "Die lineare Regression kannst du mit  `sklearn` ganz einfach durchführen:"
   ]
  },
  {
   "cell_type": "code",
   "execution_count": null,
   "id": "3d1c5a0c",
   "metadata": {},
   "outputs": [],
   "source": [
    "from sklearn.linear_model import LinearRegression\n",
    "\n",
    "lr = LinearRegression()\n",
    "lr.fit(X, y)"
   ]
  },
  {
   "cell_type": "markdown",
   "id": "8a2a2803",
   "metadata": {},
   "source": [
    "Als Ergebnis erhältst du das oben angesprochene $m$ (die Steigung), das hier als `coef_` bezeichnet wird"
   ]
  },
  {
   "cell_type": "code",
   "execution_count": null,
   "id": "03456ac9",
   "metadata": {},
   "outputs": [],
   "source": [
    "lr.coef_"
   ]
  },
  {
   "cell_type": "markdown",
   "id": "8131f5a7",
   "metadata": {},
   "source": [
    "Der Kaufpreis wächst also \"nur\" mit 40% des Median-Einkommens.\n",
    "\n",
    "Auch den Achsenabschnitt kannst du ermitteln:"
   ]
  },
  {
   "cell_type": "code",
   "execution_count": null,
   "id": "51377dca",
   "metadata": {},
   "outputs": [],
   "source": [
    "lr.intercept_"
   ]
  },
  {
   "cell_type": "markdown",
   "id": "be3ea65f",
   "metadata": {},
   "source": [
    "Ohne Einkommen zahlen die Menschen im Mittel also 45.000\\$ für ein Haus.\n",
    "\n",
    "Nun könntest du die Vorhersage mit der Geradengleichung berechnen, oder du nutzt dafür die `predict`-Methode:"
   ]
  },
  {
   "cell_type": "code",
   "execution_count": null,
   "id": "60d3dd94",
   "metadata": {},
   "outputs": [],
   "source": [
    "df[\"Predicted Price\"] = lr.predict(df[[\"MedInc\"]])"
   ]
  },
  {
   "cell_type": "markdown",
   "id": "65520ad8",
   "metadata": {},
   "source": [
    "Jetzt kannst du die Vorhersage mit den echten Werten zusammen einzeichnen."
   ]
  },
  {
   "cell_type": "code",
   "execution_count": null,
   "id": "f9e3e1d4",
   "metadata": {},
   "outputs": [],
   "source": [
    "df.plot.scatter(x=\"MedInc\", y=\"Price\", c=\"#0044aa44\", figsize=(16, 9));\n",
    "df.set_index(\"MedInc\")[\"Predicted Price\"].plot(figsize=(16, 9));"
   ]
  },
  {
   "cell_type": "markdown",
   "id": "db599046",
   "metadata": {},
   "source": [
    "Das sieht schon ganz gut aus, aber wie kannst du jetzt den Fehler berechnen?"
   ]
  },
  {
   "cell_type": "markdown",
   "id": "34f18f72",
   "metadata": {},
   "source": [
    "## Fehler berechnen"
   ]
  },
  {
   "cell_type": "markdown",
   "id": "fdeba1aa",
   "metadata": {},
   "source": [
    "Dazu gibt es mehrere Ansätze. Du kannst die *mittlere quadratische Abweichung* berechnen. Quadratiert wird die Abweichung, damit sich positive und negative Abweichungen nicht gegeneinander aufheben."
   ]
  },
  {
   "cell_type": "code",
   "execution_count": null,
   "id": "bdc54476",
   "metadata": {},
   "outputs": [],
   "source": [
    "from sklearn import metrics\n",
    "metrics.mean_squared_error(y, df[\"Predicted Price\"])"
   ]
  },
  {
   "cell_type": "markdown",
   "id": "2a91f657",
   "metadata": {},
   "source": [
    "Eine andere Möglichkeit ist es, den mittleren absoluten Fehler zu berechnen (statt zu quadrieren nutzt du den Betrag):"
   ]
  },
  {
   "cell_type": "code",
   "execution_count": null,
   "id": "2b54c751",
   "metadata": {},
   "outputs": [],
   "source": [
    "metrics.mean_absolute_error(y, df[\"Predicted Price\"])"
   ]
  },
  {
   "cell_type": "markdown",
   "id": "b9f7d5a0",
   "metadata": {},
   "source": [
    "Wo hat die Vorhersagen den größten Fehler gemacht?"
   ]
  },
  {
   "cell_type": "code",
   "execution_count": null,
   "id": "84d340f9",
   "metadata": {},
   "outputs": [],
   "source": [
    "metrics.max_error(y, df[\"Predicted Price\"])"
   ]
  },
  {
   "cell_type": "markdown",
   "id": "c69d899b",
   "metadata": {},
   "source": [
    "Die Fehler sind abhängig von der Größe der vorhergesagten Werte. Möchtest du eine davon unabhängige Größe berechnen, kannst du den `r2`-Wert verwenden:"
   ]
  },
  {
   "cell_type": "code",
   "execution_count": null,
   "id": "ef8f957f",
   "metadata": {},
   "outputs": [],
   "source": [
    "metrics.r2_score(y, df[\"Predicted Price\"])"
   ]
  },
  {
   "cell_type": "markdown",
   "id": "1c1c9c86",
   "metadata": {},
   "source": [
    "Je näher der `r2`-Wert bei `1` liegt, desto besser ist der Fit."
   ]
  },
  {
   "cell_type": "markdown",
   "id": "9ad8e163",
   "metadata": {},
   "source": [
    "## Zusammenfassung"
   ]
  },
  {
   "cell_type": "markdown",
   "id": "229708a9",
   "metadata": {},
   "source": [
    "Regression funktioniert nicht so viel anders als Klassifikation. Allerdings gibt es hier keine *Confusion Matrix*, *Precision* und *Recall*, sondern der Fehler muss anders berechnet werden.\n",
    "\n",
    "Bisher sollte der Regressor nur bekannte Werte vorhersagen - er könnte als auch auswendig gelernt haben. Genau wie bei der Klassifikation kannst du auch bei der Regresion mit einem Trainings- und davon unabhängigen Test-Datenset arbeiten."
   ]
  }
 ],
 "metadata": {
  "kernelspec": {
   "display_name": "Python 3 (ipykernel)",
   "language": "python",
   "name": "python3"
  },
  "language_info": {
   "codemirror_mode": {
    "name": "ipython",
    "version": 3
   },
   "file_extension": ".py",
   "mimetype": "text/x-python",
   "name": "python",
   "nbconvert_exporter": "python",
   "pygments_lexer": "ipython3",
   "version": "3.8.10"
  },
  "toc": {
   "base_numbering": 1,
   "nav_menu": {},
   "number_sections": false,
   "sideBar": true,
   "skip_h1_title": false,
   "title_cell": "Table of Contents",
   "title_sidebar": "Contents",
   "toc_cell": false,
   "toc_position": {},
   "toc_section_display": true,
   "toc_window_display": false
  }
 },
 "nbformat": 4,
 "nbformat_minor": 5
}
