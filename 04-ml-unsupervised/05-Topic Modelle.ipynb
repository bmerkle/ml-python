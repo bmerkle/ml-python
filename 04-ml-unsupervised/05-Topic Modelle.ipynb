{
 "cells": [
  {
   "cell_type": "code",
   "execution_count": null,
   "id": "4e532054",
   "metadata": {},
   "outputs": [],
   "source": [
    "from sklearn import datasets\n",
    "news = datasets.fetch_20newsgroups()"
   ]
  },
  {
   "cell_type": "code",
   "execution_count": null,
   "id": "a788f735",
   "metadata": {},
   "outputs": [],
   "source": [
    "from sklearn.feature_extraction.text import TfidfVectorizer\n",
    "STOPWORDS = {'none', 'thereby', 'mine', 'serious', 'whereafter', 'nothing', \"'ll\", \n",
    "             'itself', 'first', 'whoever', '’ve', 'noone', 'moreover', 'regarding', \n",
    "             'but', 'various', 'and', 'their', 'between', 'everyone', 'us', 'other', \n",
    "             'third', 'last', 'only', 'been', 'always', 'throughout', 'over', 'anyhow', \n",
    "             'i', 'nobody', 'be', 'off', \"'d\", 'then', 'eleven', 'since', \"'ve\", 'did', \n",
    "             'ever', 'than', 'call', 'few', 'could', 'whatever', 'front', 'there', \n",
    "             'across', 'whenever', 'is', 'this', 'empty', 'indeed', 'please', 'namely', \n",
    "             'his', 'eight', 'those', 'hence', 'wherein', 'amongst', 'using', 'both', \n",
    "             '’re', 'seem', 'two', 'several', 'whether', 'about', 'due', 'behind', 'am', \n",
    "             'what', 'name', 'has', 'three', 'therefore', '‘s', 'whereas', 'the', 'until', \n",
    "             'meanwhile', 'anything', 'that', 'never', 'how', 'sometimes', 'each', \n",
    "             'toward', 'doing', 'someone', 'at', 'hereafter', 'almost', 'if', 'same', \n",
    "             'her', 'anyone', 'became', 'into', 'latter', 'by', \"'s\", 'four', 'wherever', \n",
    "             'besides', 'must', 'thence', 'in', 'anywhere', 'any', 'twelve', 'out', 'it', \n",
    "             'one', 'least', 'used', '‘ll', 'put', 'therein', 'a', 're', 'she', 'are', \n",
    "             'beforehand', 'my', 'through', 'ten', 'go', 'too', '’m', 'either', 'below', \n",
    "             'else', 'around', 'all', 'except', 'n‘t', 'not', 'such', '‘re', 'was', '’s', \n",
    "             'may', 'whence', 'also', 'another', 'beyond', 'without', 'perhaps', 'alone', \n",
    "             'should', 'nevertheless', 'own', 'he', 'these', 'seemed', 'give', 'made', \n",
    "             'some', 'part', 'on', 'himself', 'hereupon', 'whereupon', 'six', 'via', 'of', \n",
    "             'quite', \"'m\", 'however', 'onto', 'as', 'sometime', 'more', 'while', 'sixty', \n",
    "             'does', 'everywhere', 'elsewhere', 'whither', 'who', 'nor', 'seeming', \n",
    "             'formerly', 'nowhere', 'our', 'former', 'hereby', 'further', \"'re\", \n",
    "             'can', 'thus', 'something', 'why', 'themselves', 'were', 'amount', 'do', \n",
    "             'we', 'beside', 'mostly', 'they', 'very', 'your', 'somewhere', 'upon', 'so', \n",
    "             'them', 'latterly', 'neither', 'within', 'enough', 'hers', 'cannot', 'you', \n",
    "             'every', 'most', 'ca', 'show', 'will', 'being', 'after', 'though', 'fifteen', \n",
    "             'down', 'really', 'although', 'full', 'up', 'well', 'somehow', 'yourself', 'me', \n",
    "             'bottom', 'next', 'many', 'unless', 'or', 'anyway', 'five', 'for', 'say', \n",
    "             'twenty', 'would', 'otherwise', 'nine', 'no', 'against', 'ourselves', 'just', \n",
    "             'even', 'yet', 'above', '‘d', 'again', 'already', 'others', 'before', 'forty', \n",
    "             'here', 'move', '‘m', \"n't\", 'with', 'now', 'seems', 'n’t', 'among', 'which', \n",
    "             'towards', 'side', 'still', 'might', 'together', '’ll', 'from', 'everything', \n",
    "             'have', 'becoming', 'keep', 'become', 'often', 'herein', 'under', 'whereby', \n",
    "             'top', 'thru', 'becomes', 'where', 'along', 'during', 'whole', 'him', 'once', \n",
    "             'to', 'afterwards', 'back', 'its', 'get', 'rather', 'because', 'hundred', \n",
    "             'make', 'see', 'thereafter', 'done', 'thereupon', 'had', '‘ve', 'ours', \n",
    "             'yours', 'much', 'an', 'per', 'whose', 'fifty', 'myself', 'take', 'less', \n",
    "             'whom', 'yourselves', 'when', 'herself', '’d',\n",
    "             'edu', 'university', 'article', 'writes', 'posting', 'nntp', 'host', \n",
    "             'organization', 'subject', 'state', 'com', 'netcom', 'uk', 'ac', 'cs', \n",
    "             'caltech', 'gov', 'jpl' }"
   ]
  },
  {
   "cell_type": "code",
   "execution_count": null,
   "id": "672d33b9",
   "metadata": {},
   "outputs": [],
   "source": [
    "tfidf = TfidfVectorizer(stop_words = list(STOPWORDS))\n",
    "vec = tfidf.fit_transform(news[\"data\"])"
   ]
  },
  {
   "cell_type": "code",
   "execution_count": null,
   "id": "e5f5c42a",
   "metadata": {},
   "outputs": [],
   "source": [
    "from sklearn.decomposition import NMF\n",
    "nmf = NMF(n_components = 10, random_state=42)\n",
    "nmf.fit(vec)"
   ]
  },
  {
   "cell_type": "code",
   "execution_count": null,
   "id": "09e77232",
   "metadata": {},
   "outputs": [],
   "source": [
    "import matplotlib.pyplot as plt\n",
    "from wordcloud import WordCloud\n",
    "\n",
    "\n",
    "def wordcloud_topic_model_summary(model, feature_names, no_top_words):\n",
    "    for topic_idx, topic in enumerate(model.components_):\n",
    "        # dict zur Speicherung der häufigsten Wörter\n",
    "        freq = {}\n",
    "        # nur die letzten (häufigsten) Wörter verwenden\n",
    "        for i in topic.argsort()[:-no_top_words - 1:-1]:\n",
    "            freq[feature_names[i].replace(\" \", \"_\")] = topic[i]\n",
    "        # Wordcloud dafür aufbauen\n",
    "        wc = WordCloud(background_color=\"white\", max_words=100, width=960, height=540)\n",
    "        wc.generate_from_frequencies(freq)\n",
    "        plt.figure(figsize=(12,12))\n",
    "        plt.imshow(wc, interpolation='bilinear')\n",
    "        plt.axis(\"off\");\n",
    "        plt.show()\n",
    "        plt.close()\n",
    "            \n",
    "def display_topics(model, feature_names, no_top_words):\n",
    "    # wie oben, nur als Text\n",
    "    for topic_idx, topic in enumerate(model.components_):\n",
    "        first_index = topic.argsort()[-1]\n",
    "        print(\"Topic %s (%02d):\" % (feature_names[first_index], topic_idx))\n",
    "        print(\" \".join([\"'\"+feature_names[i]+\"'\"\n",
    "                        for i in topic.argsort()[:-no_top_words - 1:-1]]))"
   ]
  },
  {
   "cell_type": "code",
   "execution_count": null,
   "id": "34934dc0",
   "metadata": {},
   "outputs": [],
   "source": [
    "display_topics(nmf, tfidf.get_feature_names_out(), 10)"
   ]
  },
  {
   "cell_type": "code",
   "execution_count": null,
   "id": "73a2a321",
   "metadata": {},
   "outputs": [],
   "source": [
    "wordcloud_topic_model_summary(nmf, tfidf.get_feature_names_out(), 20)"
   ]
  },
  {
   "cell_type": "code",
   "execution_count": null,
   "id": "fc696244",
   "metadata": {},
   "outputs": [],
   "source": [
    "from sklearn.decomposition import LatentDirichletAllocation"
   ]
  },
  {
   "cell_type": "code",
   "execution_count": null,
   "id": "0f1809d7",
   "metadata": {},
   "outputs": [],
   "source": [
    "cv = TfidfVectorizer(stop_words = list(STOPWORDS), use_idf=False)\n",
    "cvec = cv.fit_transform(news[\"data\"])"
   ]
  },
  {
   "cell_type": "code",
   "execution_count": null,
   "id": "8b9f7654",
   "metadata": {
    "scrolled": true
   },
   "outputs": [],
   "source": [
    "lda = LatentDirichletAllocation(n_components=10, random_state=42)\n",
    "lda.fit(cvec)"
   ]
  },
  {
   "cell_type": "code",
   "execution_count": null,
   "id": "04f4382a",
   "metadata": {},
   "outputs": [],
   "source": [
    "display_topics(lda, cv.get_feature_names_out(), 10)"
   ]
  },
  {
   "cell_type": "code",
   "execution_count": null,
   "id": "ff1559ca",
   "metadata": {},
   "outputs": [],
   "source": [
    "wordcloud_topic_model_summary(lda, cv.get_feature_names_out(), 20)"
   ]
  }
 ],
 "metadata": {
  "kernelspec": {
   "display_name": "Python 3 (ipykernel)",
   "language": "python",
   "name": "python3"
  },
  "language_info": {
   "codemirror_mode": {
    "name": "ipython",
    "version": 3
   },
   "file_extension": ".py",
   "mimetype": "text/x-python",
   "name": "python",
   "nbconvert_exporter": "python",
   "pygments_lexer": "ipython3",
   "version": "3.8.10"
  },
  "toc": {
   "base_numbering": 1,
   "nav_menu": {},
   "number_sections": true,
   "sideBar": true,
   "skip_h1_title": false,
   "title_cell": "Table of Contents",
   "title_sidebar": "Contents",
   "toc_cell": false,
   "toc_position": {},
   "toc_section_display": true,
   "toc_window_display": false
  }
 },
 "nbformat": 4,
 "nbformat_minor": 5
}
