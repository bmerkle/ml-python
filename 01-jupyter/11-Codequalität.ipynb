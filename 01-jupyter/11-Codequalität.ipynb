{
 "cells": [
  {
   "cell_type": "markdown",
   "id": "de1e43b8",
   "metadata": {},
   "source": [
    "# Codequalität"
   ]
  },
  {
   "cell_type": "markdown",
   "id": "8ec8b9a6",
   "metadata": {},
   "source": [
    "Jupyter-Notebooks wurden ursprünglich entwickelt, um als *Labor* für Datenanalyse verwendet werden zu können. Häufig wirst du sie allerdings in deinen normalen Workflow einbauen und damit wie in einer web-basierten IDE arbeiten.\n",
    "\n",
    "Dabei gibt es einige Besonderheiten zu beachten, die du hier gleich kennenlernen wirst."
   ]
  },
  {
   "cell_type": "markdown",
   "id": "c5220674",
   "metadata": {},
   "source": [
    "## Out-of-order Execution"
   ]
  },
  {
   "cell_type": "markdown",
   "id": "bc899168",
   "metadata": {},
   "source": [
    "Normalerweise führst du die Zellen in einem Jupyter-Notebook von *oben nach unten aus*.\n",
    "\n",
    "Häufig beginnst du mit einem `import`:"
   ]
  },
  {
   "cell_type": "code",
   "execution_count": null,
   "id": "d5490a2b",
   "metadata": {},
   "outputs": [],
   "source": [
    "import pandas as pd\n",
    "import numpy as np"
   ]
  },
  {
   "cell_type": "markdown",
   "id": "fdd3e09a",
   "metadata": {},
   "source": [
    "Hier erzeugst du jetzt einen `DataFrame`, der eine Sinusfunktion in der y-Koordinate enhält. Die x-Koordinate ist linear unterteilt von `-5` bis `5` in Schritten von `0.05`, damit sich eine stetige Kurve ergibt:"
   ]
  },
  {
   "cell_type": "code",
   "execution_count": null,
   "id": "2150e6f0",
   "metadata": {},
   "outputs": [],
   "source": [
    "df = pd.DataFrame({ \"x\": np.arange(-5, 5, 0.05), \n",
    "                    \"y\": np.sin(np.arange(-5, 5, 0.05)) })"
   ]
  },
  {
   "cell_type": "markdown",
   "id": "763572f6",
   "metadata": {},
   "source": [
    "Wenn du dir das Ergebnis als Diagramm ausgeben lässt, siehst du, dass das gut geklappt hat."
   ]
  },
  {
   "cell_type": "code",
   "execution_count": null,
   "id": "cab54bfd-4fa7-40ff-ae8c-c04f931dd729",
   "metadata": {},
   "outputs": [],
   "source": [
    "!pip install seaborn"
   ]
  },
  {
   "cell_type": "code",
   "execution_count": null,
   "id": "d422c935",
   "metadata": {},
   "outputs": [],
   "source": [
    "import seaborn as sns\n",
    "sns.lineplot(x=\"x\", y=\"y\", data=df)"
   ]
  },
  {
   "cell_type": "markdown",
   "id": "1d5d1918",
   "metadata": {},
   "source": [
    "Jetzt interessierst du dich für die *Exponentialfunktion* und lässt diese genau wie oben ausgeben:"
   ]
  },
  {
   "cell_type": "code",
   "execution_count": null,
   "id": "7619f417",
   "metadata": {},
   "outputs": [],
   "source": [
    "df = pd.DataFrame({ \"x\": np.arange(-5, 5, 0.05), \n",
    "                    \"y\": np.exp(np.arange(-5, 5, 0.05)) })\n",
    "df.set_index(\"x\").plot()"
   ]
  },
  {
   "cell_type": "markdown",
   "id": "7bd3ffb7",
   "metadata": {},
   "source": [
    "Der *Stil* gefällt dir noch nicht, der lässt sich leicht ändern:"
   ]
  },
  {
   "cell_type": "code",
   "execution_count": null,
   "id": "d4ff20c2",
   "metadata": {},
   "outputs": [],
   "source": [
    "import matplotlib\n",
    "matplotlib.style.use('ggplot')"
   ]
  },
  {
   "cell_type": "markdown",
   "id": "5f56733e",
   "metadata": {},
   "source": [
    "Wie sieht das jetzt aus?"
   ]
  },
  {
   "cell_type": "code",
   "execution_count": null,
   "id": "1663d846",
   "metadata": {},
   "outputs": [],
   "source": [
    "df.set_index(\"x\").plot()"
   ]
  },
  {
   "cell_type": "markdown",
   "id": "f7a77920",
   "metadata": {},
   "source": [
    "Das ist viel besser, und du willst das nun auch auf den Sinus oben anwenden!\n",
    "\n",
    "Dabei entstehen gleich mehrere Probleme:\n",
    "* Der Sinus ist verschwunden und stattdessen wird auch die Exponentialfunktion angewendet.\n",
    "* Beim nächsten Durchlauf ist der Style des Sinus-Plot wieder der ursprüngliche.\n",
    "\n",
    "Das Notebook ist also *inkonsistent* geworden. Und das ist noch ein relativ einfacher Fall.\n",
    "\n",
    "Nutze nun `seaborn` zum Plot:"
   ]
  },
  {
   "cell_type": "code",
   "execution_count": null,
   "id": "08e6da84",
   "metadata": {},
   "outputs": [],
   "source": [
    "import seaborn as sns"
   ]
  },
  {
   "cell_type": "markdown",
   "id": "7e7942f9",
   "metadata": {},
   "source": [
    "Die Aufrufsyntax ist etwas anders, aber auch intuitiv:"
   ]
  },
  {
   "cell_type": "code",
   "execution_count": null,
   "id": "3131fc03",
   "metadata": {},
   "outputs": [],
   "source": [
    "sns.lineplot(x=\"x\", y=\"y\", data=df)"
   ]
  },
  {
   "cell_type": "markdown",
   "id": "2a04659d",
   "metadata": {},
   "source": [
    "Noch besser mit den Achsenbeschriftungen! Setze das auch oben ein.\n",
    "\n",
    "Nun entsteht ein neues Problem, das Notebook ist in Zukunft so gar nicht mehr ablauffähig, weil du oben `sns` vor dem Import verwendet. \n",
    "\n",
    "Diese Fälle treten leider sehr häufig auf und sind auf die *Ablaufreihenfolge* zurückzuführen. Sie haben auch noch andere Gründe:\n",
    "* Nutzung von globalen Variablen\n",
    "* Nutzung von globalen Einstellungen\n",
    "* Nutzung von globalem Import\n",
    "\n",
    "Prinzipiell könntest du das natürlich alles vermeiden und den Code in *Funktionen kapseln*. Dadurch geht allerdings viel von der Interaktivität der Jupyter-Notebooks verloren und der Spaß bleibt auf der Strecke.\n",
    "\n",
    "Um das Problem an der Wurzel zu bekämpfen, solltest du alle Notebooks nach \"Fertigstellung\" nochmal von vorne laufen lassen. Dazu gibt es die Funktion *Kernel / Restart & Run All*. Zugegebenermaßen ist es *nervig*, das immer wieder aufzurufen. Du solltest es dir trotzdem auf jeden Fall angewöhnen. Es ist sehr unerfreulich, wenn du ein Notebook nach vielen Monaten wieder benötigst und *erst dann* merkst, dass es nicht mehr funktioniert. Nun hast du es nämlich viel schwerer, den Fehler zu finden, weil du dich erst wieder mit dem Code vertraut machen musst."
   ]
  },
  {
   "cell_type": "markdown",
   "id": "079944f1",
   "metadata": {},
   "source": [
    "## Unvollständige Datenmanipulation"
   ]
  },
  {
   "cell_type": "markdown",
   "id": "1fe00fc6",
   "metadata": {},
   "source": [
    "`pandas` ermöglicht dir eine sehr komfortable Selektion (Filterung) von Teildatensets: "
   ]
  },
  {
   "cell_type": "code",
   "execution_count": null,
   "id": "b1ddb28d",
   "metadata": {},
   "outputs": [],
   "source": [
    "part = df[df[\"x\"] > 0]\n",
    "part"
   ]
  },
  {
   "cell_type": "markdown",
   "id": "bd4d55f4",
   "metadata": {},
   "source": [
    "Das funktioniert, weil `df[\"x\"] > 0` ein `boolean`-Array zurückliefert und dieses als Index verwendet nur die Werte zurückliefert, bei denen der Wert `True` ist"
   ]
  },
  {
   "cell_type": "code",
   "execution_count": null,
   "id": "2fe9fd68",
   "metadata": {},
   "outputs": [],
   "source": [
    "df[\"x\"] > 0"
   ]
  },
  {
   "cell_type": "markdown",
   "id": "dbe9eb9a",
   "metadata": {},
   "source": [
    "Nun kannst du in dem *Teildatenset* eine neue Variable setzen:"
   ]
  },
  {
   "cell_type": "code",
   "execution_count": null,
   "id": "9fe8fca1",
   "metadata": {},
   "outputs": [],
   "source": [
    "part[\"z\"] = np.log(part[\"x\"])"
   ]
  },
  {
   "cell_type": "markdown",
   "id": "2765f61c",
   "metadata": {},
   "source": [
    "Die Fehlermeldung *verheißt nichts Gutes*. Die Variable `part` ist zwar richtig gesetzt, aber auf `df` hatte das keinen Effekt:"
   ]
  },
  {
   "cell_type": "code",
   "execution_count": null,
   "id": "6b5a8fe5",
   "metadata": {},
   "outputs": [],
   "source": [
    "part"
   ]
  },
  {
   "cell_type": "code",
   "execution_count": null,
   "id": "2b4f965d",
   "metadata": {},
   "outputs": [],
   "source": [
    "df"
   ]
  },
  {
   "cell_type": "markdown",
   "id": "f2f51155",
   "metadata": {},
   "source": [
    "Das Problem liegt daran, dass `df[df[\"x] > 0]` lediglich *Verweise* auf den `DataFrame` anlegt. Du kannst die Fehlermeldung vermeiden, indem du noch ein `.copy()` einfügst:"
   ]
  },
  {
   "cell_type": "code",
   "execution_count": null,
   "id": "3937e00e",
   "metadata": {
    "scrolled": true
   },
   "outputs": [],
   "source": [
    "part = df[df[\"x\"] > 0].copy()\n",
    "part[\"z\"] = np.log(part[\"x\"])\n",
    "part"
   ]
  },
  {
   "cell_type": "markdown",
   "id": "ed618cd1",
   "metadata": {},
   "source": [
    "Achtung: `.copy()` benötigt zusätzlichen Speicherplatz. Oft wirst du es doch als eine enorm praktische Methode verwenden, um *nebenwirkungsfrei* auf Teilmengen von Daten zugreifen zu können. "
   ]
  },
  {
   "cell_type": "markdown",
   "id": "7ad13795",
   "metadata": {},
   "source": [
    "## `git`-Integration"
   ]
  },
  {
   "cell_type": "markdown",
   "id": "d32bff2e",
   "metadata": {},
   "source": [
    "Wenn du dich mit Softwareentwicklung beschäftigst, bist du sicher auch schon mit [`git`](https://git-scm.com/) vertraut. Ursprünglich für den Linux-Kernel entwickelt, ist es heute der *de-facto-Standard* für Konfigurationsmanagement und Versionskontrolle.\n",
    "\n",
    "Leider eignen sich Jupyter-Notebook nicht besonders gut, um in `git` eingecheckt zu werden. Das liegt daran, dass neben den Code- und Dokumentationszellen auch alle Ausgaben von Python in den `.ipynb`-Files enthalten sind. Dadurch kannst du die echten Änderungen von einer auf die nächste Version nicht mehr erkennen.\n",
    "\n",
    "Es gibt sog. *git hooks*, die diesen Code entfernen. Alternativ kannst du vor jedem Speichern des Notebooks die Funktion *Kernel / Restart & Clear Output* aufrufen. Eine weitere Möglichkeit ist die Verwendung eines spezielle `diff`-Programms, das die Änderungen in den Outputs nicht berücksichtigt."
   ]
  },
  {
   "cell_type": "markdown",
   "id": "e2c05306",
   "metadata": {},
   "source": [
    "## Unterschiedliche Kernel"
   ]
  },
  {
   "cell_type": "markdown",
   "id": "fa25d415",
   "metadata": {},
   "source": [
    "Wenn du viel mit unterschiedlichen Projekten arbeitet, wirst du  mit unterschiedlichen Python-Paketen arbeiten wollen. Python selbst bietet mit dem `venv`-Paket dafür einen Mechanismus, der es dir erlaubt, mit unterschiedlichen Umgebungen parallel zu arbeiten. Wenn du dich daran gewöhnt hast, kannst du sehr komfortabel damit umgehen.\n",
    "\n",
    "Glücklicherweise kannst du diesem Mechanismus auch in Jupyter-Notebooks nützen. Auch hier kannst du `venv` anlegen und die dem Notebook-Server bekannt machen. Dieser stellt dir dann unterschiedliche Kernel bereit, die mit ganz unterschiedlichen Paketen (und Paketversionen) ausgestattet sind.\n",
    "\n",
    "Wie das genau funktioniert, ist sehr stark abhängig vom Betriebssystem und der verwendeten Python-installation (Betriebssystem oder Anaconda). Mithilfe von Suchmaschinen findest du (z.B. auf Stackoverflow) eine genau Anleitung, wie das in deinem konkreten Szenario funktionieren kann."
   ]
  }
 ],
 "metadata": {
  "kernelspec": {
   "display_name": "Python 3 (ipykernel)",
   "language": "python",
   "name": "python3"
  },
  "language_info": {
   "codemirror_mode": {
    "name": "ipython",
    "version": 3
   },
   "file_extension": ".py",
   "mimetype": "text/x-python",
   "name": "python",
   "nbconvert_exporter": "python",
   "pygments_lexer": "ipython3",
   "version": "3.8.10"
  },
  "toc": {
   "base_numbering": 1,
   "nav_menu": {},
   "number_sections": true,
   "sideBar": true,
   "skip_h1_title": false,
   "title_cell": "Table of Contents",
   "title_sidebar": "Contents",
   "toc_cell": false,
   "toc_position": {},
   "toc_section_display": true,
   "toc_window_display": false
  }
 },
 "nbformat": 4,
 "nbformat_minor": 5
}
