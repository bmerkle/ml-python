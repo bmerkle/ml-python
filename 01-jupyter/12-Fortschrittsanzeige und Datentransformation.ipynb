{
 "cells": [
  {
   "cell_type": "markdown",
   "id": "f3caedea",
   "metadata": {},
   "source": [
    "# Fortschrittsanzeige und Datentransformationen"
   ]
  },
  {
   "cell_type": "markdown",
   "id": "4f80436f",
   "metadata": {},
   "source": [
    "Häufig wirst du in Jupyter-Notebooks mit Daten arbeiten. Manchmal können Operationen *lange dauern* und du möchtest jeweils immer über den aktuellen Status informiert sein.\n",
    "\n",
    "Sehr oft liegen Daten nicht in exakt der Form vor, in der du sie für die Weiterverarbeitung benötigst. In `pandas` gibt es sehr leistungsfähige Operationen zur *Datentransformation*, die du hier kennenlernen wirst."
   ]
  },
  {
   "cell_type": "markdown",
   "id": "df7218fa",
   "metadata": {},
   "source": [
    "## Fortschrittsanzeige"
   ]
  },
  {
   "cell_type": "markdown",
   "id": "bdd8e31b",
   "metadata": {},
   "source": [
    "Damit du keine separate Schleife mit langer Laufzeit implementieren musst, simulierst du das einfach mit einem `sleep`, der die Laufzeit der Anweisung in der Schleife auf etwa 10ms erhöht."
   ]
  },
  {
   "cell_type": "code",
   "execution_count": null,
   "id": "e44c2d9d",
   "metadata": {},
   "outputs": [],
   "source": [
    "import time\n",
    "for i in range(1000):\n",
    "    time.sleep(0.01)"
   ]
  },
  {
   "cell_type": "markdown",
   "id": "ae587f9d",
   "metadata": {},
   "source": [
    "Nach 10s ist der Spuk vorbei, so lange kannst du natürlich warten. Oft dauert es aber deutlich länger und du möchtest wissen, wie weit der Prozess schon fortgeschritten ist.\n",
    "\n",
    "Dabei hilft dir das Paket `tqdm`. Statt `range` verwendest du einfach `trange`, ansonsten ändert sich nichts. Allerdings sieht das Ergebnis schon etwas anders aus:"
   ]
  },
  {
   "cell_type": "code",
   "execution_count": null,
   "id": "f5d2a8b6-2c24-41de-834d-9c909c786911",
   "metadata": {},
   "outputs": [],
   "source": [
    "!pip install tqdm"
   ]
  },
  {
   "cell_type": "code",
   "execution_count": null,
   "id": "560cfa76",
   "metadata": {},
   "outputs": [],
   "source": [
    "from tqdm.auto import trange\n",
    "for i in trange(1000):\n",
    "    time.sleep(0.01)"
   ]
  },
  {
   "cell_type": "markdown",
   "id": "b5d9dd98",
   "metadata": {},
   "source": [
    "Neben dem Fortschritt zeigt `tqdm` auch noch den prozentualen Fertigstellungsgrad, die Iterationen pro Sekunde und die erwartete Restlaufzeit an. Das wirst du oft brauchen, es ist super nützlich.\n",
    "\n",
    "Es ist natürlich ziemlich praktisch, dass `tqdm` die Funktion `trange` anbietet. Aber sicher möchtest du nicht immer nur mit `range` arbeiten, sondern hast oft auch andere Objekte.\n",
    "\n",
    "Zum Glück kann `tqdm` auch damit umgehen. Bei bestimmten (iterierbaren) Objekten musst du noch den Parameter `total` eingeben, damit die gesamte Laufzeit abgeschätzt werden kann. Bei `range` ist das nicht notwendig.\n",
    "\n",
    "`tqdm` kann außerdem auch mit geschachtelten Schleifen umgehen:"
   ]
  },
  {
   "cell_type": "code",
   "execution_count": null,
   "id": "55cbb41c",
   "metadata": {},
   "outputs": [],
   "source": [
    "from tqdm.auto import tqdm\n",
    "for i in tqdm(range(10), desc=\"first\"):\n",
    "    for j in tqdm(range(100), desc=\"second\"):\n",
    "        time.sleep(0.01)"
   ]
  },
  {
   "cell_type": "markdown",
   "id": "3570a500",
   "metadata": {},
   "source": [
    "Sobald du längere Operationen in Schleifen durchführst, solltest du `tqdm` verwenden. Der zusätzliche Aufwand ist praktisch vernachlässigbar und du erhältst wesentlich mehr Kontrolle über deine Notebooks und den jeweiligen Bearbeitungsstand.\n",
    "\n",
    "Übrigens funktioniert `tqdm` auch auf der Konsole ziemlich gut und gibt dort (in ASCII-Zeichen) genau die gleichen Informationen aus!"
   ]
  },
  {
   "cell_type": "markdown",
   "id": "e925831e",
   "metadata": {},
   "source": [
    "## Datentransformation"
   ]
  },
  {
   "cell_type": "markdown",
   "id": "e518154c",
   "metadata": {},
   "source": [
    "Häufig kannst du dir das Format nicht aussuchen, in dem Daten vorliegen. Im Gegenteil, in den allermeisten Fällen ist es schon ein ganz großes Glück, wenn du überhaupt Daten findest und auf die zugreifen kannst.\n",
    "\n",
    "Einen großen Fundus an Daten bietet dir [Eurostat](https://ec.europa.eu/eurostat), die Statistik-Behörde der Europäischen Union. Natürlich handelt es sich dabei um sehr spezielle Daten, allerdings hast du den großen Vorteil, dass du die Daten frei verwenden darfst und das Herunterladen kein Problem ist. Dafür gibt es nämlich ein Python-Paket `eurostat`:"
   ]
  },
  {
   "cell_type": "code",
   "execution_count": null,
   "id": "78c81caa",
   "metadata": {},
   "outputs": [],
   "source": [
    "!pip install eurostat"
   ]
  },
  {
   "cell_type": "markdown",
   "id": "6a1d2c41",
   "metadata": {},
   "source": [
    "Alle Statistikdaten haben bei Eurostat ein Kürzel. In diesem Beispiel beschäftigst du dich mit den *Konsumindikatoren*, diese tragen das Kürzel `ei_bsco_m`. Es handelt sich dabei um sog. *business and consumer surveys*, die monatlich verdichtet sind (alternativ könntest du die auch auf das Quartal aggregiert herunterladen). Eine genauere Erklärung findest du [hier](https://ec.europa.eu/eurostat/cache/metadata/en/ei_bcs_esms.htm). \n",
    "\n",
    "Das Herunterladen der Daten ist nun sehr einfach:"
   ]
  },
  {
   "cell_type": "code",
   "execution_count": null,
   "id": "f8bc9366",
   "metadata": {},
   "outputs": [],
   "source": [
    "import eurostat\n",
    "df = eurostat.get_data_df(\"ei_bsco_m\")"
   ]
  },
  {
   "cell_type": "markdown",
   "id": "a2496796",
   "metadata": {},
   "source": [
    "Betrachte im nächsten Schritt die Daten:"
   ]
  },
  {
   "cell_type": "code",
   "execution_count": null,
   "id": "d0ab1200",
   "metadata": {},
   "outputs": [],
   "source": [
    "df"
   ]
  },
  {
   "cell_type": "markdown",
   "id": "489d5de5",
   "metadata": {},
   "source": [
    "Nun beginnst du mit den Datentransformationen, und zwar zunächst mit den Spaltennamen:\n",
    "\n",
    "`geo\\time` ist eine etwas unglückliche Bezeichnung, hier ist nur das Land gemeint, das kannst du einfach umbenennen:"
   ]
  },
  {
   "cell_type": "code",
   "execution_count": null,
   "id": "e00ddecb",
   "metadata": {},
   "outputs": [],
   "source": [
    "df = df.rename(columns={\"geo\\\\TIME_PERIOD\": \"country\"})"
   ]
  },
  {
   "cell_type": "markdown",
   "id": "c1b37e2c",
   "metadata": {},
   "source": [
    "Ebenso etwas merkwürdig sind die Monatsnamen in Form von `2021M04` etc., die du auch besser durch ein `datetime`-Objekt in Python ersetzt:"
   ]
  },
  {
   "cell_type": "code",
   "execution_count": null,
   "id": "c06c4509",
   "metadata": {},
   "outputs": [],
   "source": [
    "from datetime import datetime\n",
    "df.columns = [datetime.strptime(f.split(\"-\")[0] + \"-\" + f.split(\"-\")[1] + \"-01\", \"%Y-%m-%d\")\n",
    "                if f.startswith(\"20\") or f.startswith(\"19\") else f for f in df.columns]"
   ]
  },
  {
   "cell_type": "markdown",
   "id": "a548fbe5",
   "metadata": {},
   "source": [
    "Betrachte das Ergebnis:"
   ]
  },
  {
   "cell_type": "code",
   "execution_count": null,
   "id": "67783f34",
   "metadata": {},
   "outputs": [],
   "source": [
    "df"
   ]
  },
  {
   "cell_type": "markdown",
   "id": "ba368495",
   "metadata": {},
   "source": [
    "Das sieht schon viel besser aus, aber es sind ziemlich viele Zeilen, weil sehr viele Indikatoren enthalten sind.\n",
    "\n",
    "Nun *filterst* du die Daten und nutzt nur den Indikator `BS_CSMCI` (Konsumentenvertrauen) und zwar dessen *saison-justierte Variante*:"
   ]
  },
  {
   "cell_type": "code",
   "execution_count": null,
   "id": "28674e3c",
   "metadata": {},
   "outputs": [],
   "source": [
    "bs = df[(df[\"indic\"] == \"BS-CSMCI\") & (df[\"s_adj\"] == \"SA\")]\n",
    "bs"
   ]
  },
  {
   "cell_type": "markdown",
   "id": "9bd36343",
   "metadata": {},
   "source": [
    "Das ist schon viel übersichtlicher, konzentriere dich nun zunächst auf Deutschland:"
   ]
  },
  {
   "cell_type": "code",
   "execution_count": null,
   "id": "b3374086",
   "metadata": {},
   "outputs": [],
   "source": [
    "bs[bs[\"country\"] == \"DE\"]"
   ]
  },
  {
   "cell_type": "markdown",
   "id": "72347a94",
   "metadata": {},
   "source": [
    "Das Ergebnis sieht schon gut aus, allerdings benötigst du nur die Spalten mit den Monaten, hier interessiert du dich außerdem nur für Daten ab 2010. Wenn du eine `list` in `pandas` als Index verwendest, werden nur die Spalten benutzt:"
   ]
  },
  {
   "cell_type": "code",
   "execution_count": null,
   "id": "cd47b4cd",
   "metadata": {},
   "outputs": [],
   "source": [
    "bs_de = bs[bs[\"country\"] == \"DE\"][[c for c in bs.columns \n",
    "                     if (isinstance(c, datetime) and c.year>=2010)]]\n",
    "bs_de"
   ]
  },
  {
   "cell_type": "markdown",
   "id": "abc03aa6",
   "metadata": {},
   "source": [
    "Genau das wolltest du, jetzt kannst du es gleich plotten:"
   ]
  },
  {
   "cell_type": "code",
   "execution_count": null,
   "id": "221753f1",
   "metadata": {},
   "outputs": [],
   "source": [
    "bs_de.plot()"
   ]
  },
  {
   "cell_type": "markdown",
   "id": "b4b06d77",
   "metadata": {},
   "source": [
    "Das hat leider nicht wie gewünscht funktioniert, weil der Plot die Werte in *vielen Zeilen* benötigt. Spalten und Zeilen vertauschen nennt sich *transponieren* und das kannst du in `pandas` einfach durch die Operation `.T` erreichen:"
   ]
  },
  {
   "cell_type": "code",
   "execution_count": null,
   "id": "0b574e68",
   "metadata": {},
   "outputs": [],
   "source": [
    "bs_de.T.plot()"
   ]
  },
  {
   "cell_type": "markdown",
   "id": "fc33a61b",
   "metadata": {},
   "source": [
    "Genau dieses Ergebnis wolltest du erreichen. Die *Corona-Krise* kannst du im Konsumindikator gut erkennen.\n",
    "\n",
    "Willst du alle Konsumindikatoren über die Länder zu einem Zeitpunkt (z.B. Juni 2021) hinweg vergleichen, bietet sich dafür eine Tabelle an. Die Daten hast du allerdings nicht in der richtigen Form zur Verfügung, weil sowohl  Konsumindikatoren als auch Länder in den Zeilen dargestellt sind. Du möchtest aber die Konsumindikatoren in den Spalten und die Länder in den Zeilen haben.\n",
    "\n",
    "Mit `pandas` geht das ganz einfach, denn dazu gibt es die Funktion `pivot`, der du einfach die Namen der Zeilen (`index`) und die Namen der Spalten (`columns`) übergibst. Zusätzlich musst du der Funktion mitteilen, welche Werte (aus den ursprünglichen Spalten) sie verwenden soll:"
   ]
  },
  {
   "cell_type": "code",
   "execution_count": null,
   "id": "3605ca6d",
   "metadata": {},
   "outputs": [],
   "source": [
    "indic_country = df[df[\"s_adj\"] == \"SA\"].pivot(index=\"country\", columns=\"indic\", \n",
    "                                              values=datetime(2022, 11, 1))\n",
    "indic_country"
   ]
  },
  {
   "cell_type": "markdown",
   "id": "104eb154",
   "metadata": {},
   "source": [
    "Eine etwas übersichtlichere Darstellung erreichst du mit einer sog. *Heatmap*:"
   ]
  },
  {
   "cell_type": "code",
   "execution_count": null,
   "id": "20668427",
   "metadata": {},
   "outputs": [],
   "source": [
    "import seaborn as sns\n",
    "import matplotlib.pyplot as plt\n",
    "plt.figure(figsize=(20, 20))\n",
    "sns.heatmap(indic_country, annot=True)"
   ]
  },
  {
   "cell_type": "markdown",
   "id": "128f205b",
   "metadata": {},
   "source": [
    "Hier siehst du auf den ersten Blick, dass Rumänien keine Werte geliefert hat und der Indikator `BS_SV_PR` für die gesamte EU bzw. den Euro-Raum nicht berechnet wurde."
   ]
  }
 ],
 "metadata": {
  "kernelspec": {
   "display_name": "Python 3 (ipykernel)",
   "language": "python",
   "name": "python3"
  },
  "language_info": {
   "codemirror_mode": {
    "name": "ipython",
    "version": 3
   },
   "file_extension": ".py",
   "mimetype": "text/x-python",
   "name": "python",
   "nbconvert_exporter": "python",
   "pygments_lexer": "ipython3",
   "version": "3.8.10"
  },
  "toc": {
   "base_numbering": 1,
   "nav_menu": {},
   "number_sections": true,
   "sideBar": true,
   "skip_h1_title": false,
   "title_cell": "Table of Contents",
   "title_sidebar": "Contents",
   "toc_cell": false,
   "toc_position": {},
   "toc_section_display": true,
   "toc_window_display": false
  }
 },
 "nbformat": 4,
 "nbformat_minor": 5
}
