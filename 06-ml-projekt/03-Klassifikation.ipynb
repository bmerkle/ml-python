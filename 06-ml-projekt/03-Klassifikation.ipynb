{
 "cells": [
  {
   "cell_type": "markdown",
   "metadata": {},
   "source": [
    "# Klassifikation"
   ]
  },
  {
   "cell_type": "markdown",
   "metadata": {},
   "source": [
    "Du hast im letzten Teil schon gesehen, wie sich Daten von Reddit herunterladen lassen. Auch die Flairs hast du kennengelernt.\n",
    "\n",
    "Allerdings hast du auch gesehen, dass nicht für alle Posts die Flairs richtig bereitgestellt werden:\n",
    "* Es gibt alte Posts, bei denen die Flairs noch nicht eingeführt waren\n",
    "* Nicht alle Autoren verwenden die Flairs konsistent\n",
    "\n",
    "Mithilfe der Klassifikation hast du aber die Möglichkeite, auch die bisher nicht kategorisierten Daten noch den Flairs richtig zuzuordnen. Das wirst du in diesem Notebook durchführen."
   ]
  },
  {
   "cell_type": "markdown",
   "metadata": {},
   "source": [
    "## Achtung\n",
    "\n",
    "Dieser Teil des Notebooks benötigt das gesamte Technology-Subreddit, das für den Download leider zu groß ist (> 10 GB). Daher ist dies im Colab-Notebook nicht ablauffähig! Eine Erklärung, wie du diese Daten selbst akquirieren kannst, findest du z.B. im iX-Artikel [Beziehungssache](https://www.heise.de/select/ix/2021/7/2102513144636338770). \n",
    "\n",
    "Du benötigst dies aber nur für die Erzeugung einer kleineren Datenmenge, die du dann anschließend im Notebook ausschließlich verwenden wirst und selbstverständlich dazu herunterladen kannst.\n",
    "\n",
    "Bitte ab hier deshalb vorerst nur zuschauen!"
   ]
  },
  {
   "cell_type": "code",
   "execution_count": 18,
   "metadata": {},
   "outputs": [],
   "source": [
    "import pandas as pd\n",
    "import sqlite3"
   ]
  },
  {
   "cell_type": "code",
   "execution_count": 19,
   "metadata": {},
   "outputs": [],
   "source": [
    "sql = sqlite3.connect(\"technology.db\")"
   ]
  },
  {
   "cell_type": "markdown",
   "metadata": {},
   "source": [
    "Zunächst lädst du alle Posts ein. Viele Felder benötigst du nicht, um Speicher zu sparen, benutzt du nur die notwendigen."
   ]
  },
  {
   "cell_type": "code",
   "execution_count": 20,
   "metadata": {},
   "outputs": [],
   "source": [
    "posts = pd.read_sql(\"SELECT id, url, created_utc, title, flair, parent_id, author, score, selftext, body FROM posts p\", \n",
    "                  sql, parse_dates=[\"created_utc\"])"
   ]
  },
  {
   "cell_type": "markdown",
   "metadata": {},
   "source": [
    "Flairs wurden erst 2015 eingeführt und gelten nur für Toplevel-Posts. Du möchtest nur Posts verwenden, bei denen ein Flair gesetzt wurde, sonst könnten die Autoren das evtl. vergessen haben. Da du den `DataFrame` später noch modifizieren wirst, erzeugst du eine Kopie."
   ]
  },
  {
   "cell_type": "code",
   "execution_count": 21,
   "metadata": {},
   "outputs": [],
   "source": [
    "top2015 = posts[(posts[\"created_utc\"].dt.year>=2015) & \n",
    "                posts[\"parent_id\"].isna() & \n",
    "                ~posts[\"flair\"].isna()].copy()"
   ]
  },
  {
   "cell_type": "markdown",
   "metadata": {},
   "source": [
    "Du bestimmst nun, ob die Posts zu Transportation gehören oder nicht. Beachte dabei, dass die Flairs *Transport* und *Transportation* genannt wurden."
   ]
  },
  {
   "cell_type": "code",
   "execution_count": 5,
   "metadata": {},
   "outputs": [],
   "source": [
    "top2015[\"target\"] = top2015[\"flair\"].isin([\"Transport\", \"Transportation\"])"
   ]
  },
  {
   "cell_type": "markdown",
   "metadata": {},
   "source": [
    "Wie verteilen sich die positiven und negativen Beispiele?"
   ]
  },
  {
   "cell_type": "code",
   "execution_count": null,
   "metadata": {},
   "outputs": [],
   "source": [
    "top2015.value_counts(\"target\")"
   ]
  },
  {
   "cell_type": "markdown",
   "metadata": {},
   "source": [
    "Daraus erzeugst du ein stratifiziertes Datenset mit gleich vielen positiven wie negativen Beispielen: "
   ]
  },
  {
   "cell_type": "code",
   "execution_count": 7,
   "metadata": {},
   "outputs": [],
   "source": [
    "pos = top2015[top2015[\"target\"] == True]\n",
    "neg = top2015[top2015[\"target\"] == False]\n",
    "data = pd.concat([pos, neg.sample(n = len(pos), random_state=42)], \n",
    "                 ignore_index=True)"
   ]
  },
  {
   "cell_type": "markdown",
   "metadata": {},
   "source": [
    "Nun werden die Daten vektorisiert. Du verzichtest dabei auf Stopwords etc., die üblicherweise in der Textanalyse verwendet werden und vertraust auf die Funktionsweise von TF/IDF:"
   ]
  },
  {
   "cell_type": "code",
   "execution_count": 8,
   "metadata": {},
   "outputs": [],
   "source": [
    "from sklearn.feature_extraction.text import TfidfVectorizer\n",
    "tfidf = TfidfVectorizer(ngram_range=(1,1), max_df=0.7, min_df=5)\n",
    "tfidf_vectors = tfidf.fit_transform(data[\"title\"])"
   ]
  },
  {
   "cell_type": "markdown",
   "metadata": {},
   "source": [
    "Als Konvention nennst du die unabhängige Variable `X` und die abhängige `y`:"
   ]
  },
  {
   "cell_type": "code",
   "execution_count": 9,
   "metadata": {},
   "outputs": [],
   "source": [
    "X = tfidf_vectors\n",
    "y = data[\"target\"].values"
   ]
  },
  {
   "cell_type": "markdown",
   "metadata": {},
   "source": [
    "### Hold-out-Verfahren: Getrennte Mengen für Training und Test\n",
    "\n",
    "Du teilst die Datenmenge in einen Teil, mit dem du den Klassifikator trainierst (75%) und eine, mit dem du die Ergebnisse verifizierst:"
   ]
  },
  {
   "cell_type": "code",
   "execution_count": 10,
   "metadata": {
    "ExecuteTime": {
     "end_time": "2018-09-18T20:08:34.239506Z",
     "start_time": "2018-09-18T20:08:34.227489Z"
    }
   },
   "outputs": [],
   "source": [
    "from sklearn.model_selection import train_test_split\n",
    "\n",
    "X_train, X_test, y_train, y_test = train_test_split(X, y, test_size=0.25, random_state=42)"
   ]
  },
  {
   "cell_type": "markdown",
   "metadata": {},
   "source": [
    "Das Klassifikationsmodell wird als Support Vector Machine nur mit Trainingsdaten trainiert:"
   ]
  },
  {
   "cell_type": "code",
   "execution_count": 11,
   "metadata": {},
   "outputs": [
    {
     "data": {
      "text/html": [
       "<style>#sk-container-id-1 {color: black;background-color: white;}#sk-container-id-1 pre{padding: 0;}#sk-container-id-1 div.sk-toggleable {background-color: white;}#sk-container-id-1 label.sk-toggleable__label {cursor: pointer;display: block;width: 100%;margin-bottom: 0;padding: 0.3em;box-sizing: border-box;text-align: center;}#sk-container-id-1 label.sk-toggleable__label-arrow:before {content: \"▸\";float: left;margin-right: 0.25em;color: #696969;}#sk-container-id-1 label.sk-toggleable__label-arrow:hover:before {color: black;}#sk-container-id-1 div.sk-estimator:hover label.sk-toggleable__label-arrow:before {color: black;}#sk-container-id-1 div.sk-toggleable__content {max-height: 0;max-width: 0;overflow: hidden;text-align: left;background-color: #f0f8ff;}#sk-container-id-1 div.sk-toggleable__content pre {margin: 0.2em;color: black;border-radius: 0.25em;background-color: #f0f8ff;}#sk-container-id-1 input.sk-toggleable__control:checked~div.sk-toggleable__content {max-height: 200px;max-width: 100%;overflow: auto;}#sk-container-id-1 input.sk-toggleable__control:checked~label.sk-toggleable__label-arrow:before {content: \"▾\";}#sk-container-id-1 div.sk-estimator input.sk-toggleable__control:checked~label.sk-toggleable__label {background-color: #d4ebff;}#sk-container-id-1 div.sk-label input.sk-toggleable__control:checked~label.sk-toggleable__label {background-color: #d4ebff;}#sk-container-id-1 input.sk-hidden--visually {border: 0;clip: rect(1px 1px 1px 1px);clip: rect(1px, 1px, 1px, 1px);height: 1px;margin: -1px;overflow: hidden;padding: 0;position: absolute;width: 1px;}#sk-container-id-1 div.sk-estimator {font-family: monospace;background-color: #f0f8ff;border: 1px dotted black;border-radius: 0.25em;box-sizing: border-box;margin-bottom: 0.5em;}#sk-container-id-1 div.sk-estimator:hover {background-color: #d4ebff;}#sk-container-id-1 div.sk-parallel-item::after {content: \"\";width: 100%;border-bottom: 1px solid gray;flex-grow: 1;}#sk-container-id-1 div.sk-label:hover label.sk-toggleable__label {background-color: #d4ebff;}#sk-container-id-1 div.sk-serial::before {content: \"\";position: absolute;border-left: 1px solid gray;box-sizing: border-box;top: 0;bottom: 0;left: 50%;z-index: 0;}#sk-container-id-1 div.sk-serial {display: flex;flex-direction: column;align-items: center;background-color: white;padding-right: 0.2em;padding-left: 0.2em;position: relative;}#sk-container-id-1 div.sk-item {position: relative;z-index: 1;}#sk-container-id-1 div.sk-parallel {display: flex;align-items: stretch;justify-content: center;background-color: white;position: relative;}#sk-container-id-1 div.sk-item::before, #sk-container-id-1 div.sk-parallel-item::before {content: \"\";position: absolute;border-left: 1px solid gray;box-sizing: border-box;top: 0;bottom: 0;left: 50%;z-index: -1;}#sk-container-id-1 div.sk-parallel-item {display: flex;flex-direction: column;z-index: 1;position: relative;background-color: white;}#sk-container-id-1 div.sk-parallel-item:first-child::after {align-self: flex-end;width: 50%;}#sk-container-id-1 div.sk-parallel-item:last-child::after {align-self: flex-start;width: 50%;}#sk-container-id-1 div.sk-parallel-item:only-child::after {width: 0;}#sk-container-id-1 div.sk-dashed-wrapped {border: 1px dashed gray;margin: 0 0.4em 0.5em 0.4em;box-sizing: border-box;padding-bottom: 0.4em;background-color: white;}#sk-container-id-1 div.sk-label label {font-family: monospace;font-weight: bold;display: inline-block;line-height: 1.2em;}#sk-container-id-1 div.sk-label-container {text-align: center;}#sk-container-id-1 div.sk-container {/* jupyter's `normalize.less` sets `[hidden] { display: none; }` but bootstrap.min.css set `[hidden] { display: none !important; }` so we also need the `!important` here to be able to override the default hidden behavior on the sphinx rendered scikit-learn.org. See: https://github.com/scikit-learn/scikit-learn/issues/21755 */display: inline-block !important;position: relative;}#sk-container-id-1 div.sk-text-repr-fallback {display: none;}</style><div id=\"sk-container-id-1\" class=\"sk-top-container\"><div class=\"sk-text-repr-fallback\"><pre>SGDClassifier(random_state=42)</pre><b>In a Jupyter environment, please rerun this cell to show the HTML representation or trust the notebook. <br />On GitHub, the HTML representation is unable to render, please try loading this page with nbviewer.org.</b></div><div class=\"sk-container\" hidden><div class=\"sk-item\"><div class=\"sk-estimator sk-toggleable\"><input class=\"sk-toggleable__control sk-hidden--visually\" id=\"sk-estimator-id-1\" type=\"checkbox\" checked><label for=\"sk-estimator-id-1\" class=\"sk-toggleable__label sk-toggleable__label-arrow\">SGDClassifier</label><div class=\"sk-toggleable__content\"><pre>SGDClassifier(random_state=42)</pre></div></div></div></div></div>"
      ],
      "text/plain": [
       "SGDClassifier(random_state=42)"
      ]
     },
     "execution_count": 11,
     "metadata": {},
     "output_type": "execute_result"
    }
   ],
   "source": [
    "from sklearn.linear_model import SGDClassifier\n",
    "clf = SGDClassifier(loss='hinge', max_iter=1000, tol=1e-3, random_state=42)\n",
    "clf.fit(X_train, y_train)"
   ]
  },
  {
   "cell_type": "markdown",
   "metadata": {},
   "source": [
    "Du führst eine Vorhersage für die (dem Klassifikator unbekannten) Testdaten durch:"
   ]
  },
  {
   "cell_type": "code",
   "execution_count": 12,
   "metadata": {},
   "outputs": [],
   "source": [
    "y_predicted = clf.predict(X_test)"
   ]
  },
  {
   "cell_type": "markdown",
   "metadata": {},
   "source": [
    "Und betrachtest die Ergebnisse der Klassifikation:"
   ]
  },
  {
   "cell_type": "code",
   "execution_count": 13,
   "metadata": {},
   "outputs": [
    {
     "name": "stdout",
     "output_type": "stream",
     "text": [
      "              precision    recall  f1-score   support\n",
      "\n",
      "       False       0.90      0.96      0.93      3696\n",
      "        True       0.95      0.90      0.93      3748\n",
      "\n",
      "    accuracy                           0.93      7444\n",
      "   macro avg       0.93      0.93      0.93      7444\n",
      "weighted avg       0.93      0.93      0.93      7444\n",
      "\n"
     ]
    }
   ],
   "source": [
    "from sklearn import metrics\n",
    "print(metrics.classification_report(y_test, y_predicted))"
   ]
  },
  {
   "cell_type": "markdown",
   "metadata": {},
   "source": [
    "90% bzw. 96% Precision und Recall sind ziemlich gut, mit diesem Modell kannst du arbeiten und nun alle Posts (größtenteils richtig) klassifizieren:"
   ]
  },
  {
   "cell_type": "markdown",
   "metadata": {},
   "source": [
    "## Gesamtes Datenset klassifizieren"
   ]
  },
  {
   "cell_type": "markdown",
   "metadata": {},
   "source": [
    "Nun möchtest du die Trainingsdaten nutzen, um das gesamte oben eingelesene Datenset zu klassifizieren. Auch in den Kommentaren können nützliche Informationen enthalten sein, deswegen nutzt du die auch.\n",
    "\n",
    "Dazu musst du zunächst den Text für alle Posts bestimmen. Dazu fügst du die einzelnen Textkomponenten mit Leerzeichen zusammen:"
   ]
  },
  {
   "cell_type": "code",
   "execution_count": 14,
   "metadata": {},
   "outputs": [],
   "source": [
    "posts[\"text\"] = posts[\"title\"].map(str) + \" \" + posts[\"body\"].map(str) + \" \" + posts[\"selftext\"].map(str)"
   ]
  },
  {
   "cell_type": "markdown",
   "metadata": {},
   "source": [
    "Nun wendest du den Klassifikator an und klassifizierst alle Posts:"
   ]
  },
  {
   "cell_type": "code",
   "execution_count": 15,
   "metadata": {},
   "outputs": [],
   "source": [
    "posts[\"transport\"] = clf.predict(tfidf.transform(posts[\"text\"].map(str)))"
   ]
  },
  {
   "cell_type": "markdown",
   "metadata": {},
   "source": [
    "Du interessierst dich für die Posts, die der Klassifikator als zu \"Transport\" zugehörig erkennt:"
   ]
  },
  {
   "cell_type": "code",
   "execution_count": 16,
   "metadata": {},
   "outputs": [
    {
     "data": {
      "text/html": [
       "<div>\n",
       "<style scoped>\n",
       "    .dataframe tbody tr th:only-of-type {\n",
       "        vertical-align: middle;\n",
       "    }\n",
       "\n",
       "    .dataframe tbody tr th {\n",
       "        vertical-align: top;\n",
       "    }\n",
       "\n",
       "    .dataframe thead th {\n",
       "        text-align: right;\n",
       "    }\n",
       "</style>\n",
       "<table border=\"1\" class=\"dataframe\">\n",
       "  <thead>\n",
       "    <tr style=\"text-align: right;\">\n",
       "      <th></th>\n",
       "      <th>id</th>\n",
       "      <th>url</th>\n",
       "      <th>created_utc</th>\n",
       "      <th>title</th>\n",
       "      <th>flair</th>\n",
       "      <th>parent_id</th>\n",
       "      <th>author</th>\n",
       "      <th>score</th>\n",
       "      <th>selftext</th>\n",
       "      <th>body</th>\n",
       "      <th>text</th>\n",
       "      <th>transport</th>\n",
       "    </tr>\n",
       "  </thead>\n",
       "  <tbody>\n",
       "    <tr>\n",
       "      <th>231</th>\n",
       "      <td>t1_gkqkyue</td>\n",
       "      <td>None</td>\n",
       "      <td>2021-01-25 20:00:04</td>\n",
       "      <td>None</td>\n",
       "      <td>None</td>\n",
       "      <td>t1_gkousob</td>\n",
       "      <td>Marimbalogy</td>\n",
       "      <td>1</td>\n",
       "      <td>None</td>\n",
       "      <td>It routes traffic through their public hotspot...</td>\n",
       "      <td>None It routes traffic through their public ho...</td>\n",
       "      <td>True</td>\n",
       "    </tr>\n",
       "    <tr>\n",
       "      <th>327</th>\n",
       "      <td>t1_gkpyvd3</td>\n",
       "      <td>None</td>\n",
       "      <td>2021-01-25 17:21:48</td>\n",
       "      <td>None</td>\n",
       "      <td>None</td>\n",
       "      <td>t1_gkpgh1m</td>\n",
       "      <td>m0ondoggy</td>\n",
       "      <td>1</td>\n",
       "      <td>None</td>\n",
       "      <td>You're not wrong.  I don't expect anything to ...</td>\n",
       "      <td>None You're not wrong.  I don't expect anythin...</td>\n",
       "      <td>True</td>\n",
       "    </tr>\n",
       "    <tr>\n",
       "      <th>391</th>\n",
       "      <td>t1_gkoq0x1</td>\n",
       "      <td>None</td>\n",
       "      <td>2021-01-25 08:40:14</td>\n",
       "      <td>None</td>\n",
       "      <td>None</td>\n",
       "      <td>t1_gkone5l</td>\n",
       "      <td>eddiepaperhands</td>\n",
       "      <td>2</td>\n",
       "      <td>None</td>\n",
       "      <td>Lol I probably deserve it</td>\n",
       "      <td>None Lol I probably deserve it None</td>\n",
       "      <td>True</td>\n",
       "    </tr>\n",
       "    <tr>\n",
       "      <th>438</th>\n",
       "      <td>t1_gkpguc7</td>\n",
       "      <td>None</td>\n",
       "      <td>2021-01-25 15:01:19</td>\n",
       "      <td>None</td>\n",
       "      <td>None</td>\n",
       "      <td>t1_gkorofs</td>\n",
       "      <td>somebody12344</td>\n",
       "      <td>1</td>\n",
       "      <td>None</td>\n",
       "      <td>lot's of people watch public tv still along wi...</td>\n",
       "      <td>None lot's of people watch public tv still alo...</td>\n",
       "      <td>True</td>\n",
       "    </tr>\n",
       "    <tr>\n",
       "      <th>683</th>\n",
       "      <td>t1_gkokrzi</td>\n",
       "      <td>None</td>\n",
       "      <td>2021-01-25 07:24:23</td>\n",
       "      <td>None</td>\n",
       "      <td>None</td>\n",
       "      <td>t1_gknweg7</td>\n",
       "      <td>TheDude-Esquire</td>\n",
       "      <td>1</td>\n",
       "      <td>None</td>\n",
       "      <td>The line says could save bet neutrality. Not w...</td>\n",
       "      <td>None The line says could save bet neutrality. ...</td>\n",
       "      <td>True</td>\n",
       "    </tr>\n",
       "    <tr>\n",
       "      <th>...</th>\n",
       "      <td>...</td>\n",
       "      <td>...</td>\n",
       "      <td>...</td>\n",
       "      <td>...</td>\n",
       "      <td>...</td>\n",
       "      <td>...</td>\n",
       "      <td>...</td>\n",
       "      <td>...</td>\n",
       "      <td>...</td>\n",
       "      <td>...</td>\n",
       "      <td>...</td>\n",
       "      <td>...</td>\n",
       "    </tr>\n",
       "    <tr>\n",
       "      <th>22330637</th>\n",
       "      <td>t1_h2py9md</td>\n",
       "      <td>None</td>\n",
       "      <td>2021-06-23 03:45:02</td>\n",
       "      <td>None</td>\n",
       "      <td>None</td>\n",
       "      <td>t1_h2p5oe0</td>\n",
       "      <td>thisLysol</td>\n",
       "      <td>1</td>\n",
       "      <td>None</td>\n",
       "      <td>Public transit here means a 2 hour one way com...</td>\n",
       "      <td>None Public transit here means a 2 hour one wa...</td>\n",
       "      <td>True</td>\n",
       "    </tr>\n",
       "    <tr>\n",
       "      <th>22330639</th>\n",
       "      <td>t1_h2rv754</td>\n",
       "      <td>None</td>\n",
       "      <td>2021-06-23 16:54:44</td>\n",
       "      <td>None</td>\n",
       "      <td>None</td>\n",
       "      <td>t1_h2rechj</td>\n",
       "      <td>thisLysol</td>\n",
       "      <td>1</td>\n",
       "      <td>None</td>\n",
       "      <td>I specified \"here\". At least in the USA, the v...</td>\n",
       "      <td>None I specified \"here\". At least in the USA, ...</td>\n",
       "      <td>True</td>\n",
       "    </tr>\n",
       "    <tr>\n",
       "      <th>22330685</th>\n",
       "      <td>t1_h2oljjp</td>\n",
       "      <td>None</td>\n",
       "      <td>2021-06-22 21:02:22</td>\n",
       "      <td>None</td>\n",
       "      <td>None</td>\n",
       "      <td>t3_o5iwgi</td>\n",
       "      <td>peanut-butter-kitten</td>\n",
       "      <td>4</td>\n",
       "      <td>None</td>\n",
       "      <td>Commuting is horrible for everyone and the env...</td>\n",
       "      <td>None Commuting is horrible for everyone and th...</td>\n",
       "      <td>True</td>\n",
       "    </tr>\n",
       "    <tr>\n",
       "      <th>22330747</th>\n",
       "      <td>t1_h2pxque</td>\n",
       "      <td>None</td>\n",
       "      <td>2021-06-23 03:40:31</td>\n",
       "      <td>None</td>\n",
       "      <td>None</td>\n",
       "      <td>t1_h2ppp0u</td>\n",
       "      <td>BadLuckCharm1966</td>\n",
       "      <td>3</td>\n",
       "      <td>None</td>\n",
       "      <td>True. My husband is one of them. But, when so ...</td>\n",
       "      <td>None True. My husband is one of them. But, whe...</td>\n",
       "      <td>True</td>\n",
       "    </tr>\n",
       "    <tr>\n",
       "      <th>22330764</th>\n",
       "      <td>t1_h2ojrdf</td>\n",
       "      <td>None</td>\n",
       "      <td>2021-06-22 20:49:07</td>\n",
       "      <td>None</td>\n",
       "      <td>None</td>\n",
       "      <td>t3_o5iwgi</td>\n",
       "      <td>mimic751</td>\n",
       "      <td>2</td>\n",
       "      <td>None</td>\n",
       "      <td>I had to sit in traffic for the first time a c...</td>\n",
       "      <td>None I had to sit in traffic for the first tim...</td>\n",
       "      <td>True</td>\n",
       "    </tr>\n",
       "  </tbody>\n",
       "</table>\n",
       "<p>978104 rows × 12 columns</p>\n",
       "</div>"
      ],
      "text/plain": [
       "                  id   url         created_utc title flair   parent_id  \\\n",
       "231       t1_gkqkyue  None 2021-01-25 20:00:04  None  None  t1_gkousob   \n",
       "327       t1_gkpyvd3  None 2021-01-25 17:21:48  None  None  t1_gkpgh1m   \n",
       "391       t1_gkoq0x1  None 2021-01-25 08:40:14  None  None  t1_gkone5l   \n",
       "438       t1_gkpguc7  None 2021-01-25 15:01:19  None  None  t1_gkorofs   \n",
       "683       t1_gkokrzi  None 2021-01-25 07:24:23  None  None  t1_gknweg7   \n",
       "...              ...   ...                 ...   ...   ...         ...   \n",
       "22330637  t1_h2py9md  None 2021-06-23 03:45:02  None  None  t1_h2p5oe0   \n",
       "22330639  t1_h2rv754  None 2021-06-23 16:54:44  None  None  t1_h2rechj   \n",
       "22330685  t1_h2oljjp  None 2021-06-22 21:02:22  None  None   t3_o5iwgi   \n",
       "22330747  t1_h2pxque  None 2021-06-23 03:40:31  None  None  t1_h2ppp0u   \n",
       "22330764  t1_h2ojrdf  None 2021-06-22 20:49:07  None  None   t3_o5iwgi   \n",
       "\n",
       "                        author  score selftext  \\\n",
       "231                Marimbalogy      1     None   \n",
       "327                  m0ondoggy      1     None   \n",
       "391            eddiepaperhands      2     None   \n",
       "438              somebody12344      1     None   \n",
       "683            TheDude-Esquire      1     None   \n",
       "...                        ...    ...      ...   \n",
       "22330637             thisLysol      1     None   \n",
       "22330639             thisLysol      1     None   \n",
       "22330685  peanut-butter-kitten      4     None   \n",
       "22330747      BadLuckCharm1966      3     None   \n",
       "22330764              mimic751      2     None   \n",
       "\n",
       "                                                       body  \\\n",
       "231       It routes traffic through their public hotspot...   \n",
       "327       You're not wrong.  I don't expect anything to ...   \n",
       "391                               Lol I probably deserve it   \n",
       "438       lot's of people watch public tv still along wi...   \n",
       "683       The line says could save bet neutrality. Not w...   \n",
       "...                                                     ...   \n",
       "22330637  Public transit here means a 2 hour one way com...   \n",
       "22330639  I specified \"here\". At least in the USA, the v...   \n",
       "22330685  Commuting is horrible for everyone and the env...   \n",
       "22330747  True. My husband is one of them. But, when so ...   \n",
       "22330764  I had to sit in traffic for the first time a c...   \n",
       "\n",
       "                                                       text  transport  \n",
       "231       None It routes traffic through their public ho...       True  \n",
       "327       None You're not wrong.  I don't expect anythin...       True  \n",
       "391                     None Lol I probably deserve it None       True  \n",
       "438       None lot's of people watch public tv still alo...       True  \n",
       "683       None The line says could save bet neutrality. ...       True  \n",
       "...                                                     ...        ...  \n",
       "22330637  None Public transit here means a 2 hour one wa...       True  \n",
       "22330639  None I specified \"here\". At least in the USA, ...       True  \n",
       "22330685  None Commuting is horrible for everyone and th...       True  \n",
       "22330747  None True. My husband is one of them. But, whe...       True  \n",
       "22330764  None I had to sit in traffic for the first tim...       True  \n",
       "\n",
       "[978104 rows x 12 columns]"
      ]
     },
     "execution_count": 16,
     "metadata": {},
     "output_type": "execute_result"
    }
   ],
   "source": [
    "transport = posts[posts[\"transport\"] == True].copy()\n",
    "transport"
   ]
  },
  {
   "cell_type": "markdown",
   "metadata": {},
   "source": [
    "Die Daten speicherst du nun in einer CSV-Datei ab. Vorher ersetzt du noch die Umbrüche durch Leerzeichen, damit das CSV-File auch wieder richtig eingelesen werden kann."
   ]
  },
  {
   "cell_type": "code",
   "execution_count": 17,
   "metadata": {},
   "outputs": [],
   "source": [
    "transport[\"text\"] = transport[\"text\"].str.replace(\"\\n\", \" \")\n",
    "transport[\"text\"] = transport[\"text\"].str.replace(\"\\r\", \" \")"
   ]
  },
  {
   "cell_type": "code",
   "execution_count": null,
   "metadata": {},
   "outputs": [],
   "source": [
    "transport.set_index(\"id\")[[\"created_utc\", \"url\", \"parent_id\", \"author\", \"score\", \"text\"]].\\\n",
    "          to_csv(\"transport-all-comments.csv\", index_label=\"id\")"
   ]
  },
  {
   "cell_type": "markdown",
   "metadata": {},
   "source": [
    "## Zwischenergebnis"
   ]
  },
  {
   "cell_type": "markdown",
   "metadata": {},
   "source": [
    "Nach all der Vorarbeit hast du  nun die Daten selektiert, mit denen du jetzt ausschließlich arbeiten wirst. \n",
    "\n",
    "Der Vorbereitungsaufwand mag hoch erscheinen, allerdings hast du nun auch wirklich ein Datenset, was genau zu deinen Geschäftsanforderungen passt. Mit manuellen Methoden wäre das nicht mit vertretbarem Aufwand möglich gewesen! \n",
    "\n",
    "Das ist auch ein Grund für die Beliebtheit von Data Science: mit relativ moderatem Aufwand können genau passende Datenmenge erzeugt werden!\n",
    "\n",
    "Die Transport-Daten sind in einer SQLite-Datenbank abgespeichert, mit der du ab jetzt weiterarbeiten wirst. "
   ]
  }
 ],
 "metadata": {
  "kernelspec": {
   "display_name": "Python 3 (ipykernel)",
   "language": "python",
   "name": "python3"
  },
  "language_info": {
   "codemirror_mode": {
    "name": "ipython",
    "version": 3
   },
   "file_extension": ".py",
   "mimetype": "text/x-python",
   "name": "python",
   "nbconvert_exporter": "python",
   "pygments_lexer": "ipython3",
   "version": "3.8.10"
  },
  "toc": {
   "base_numbering": 1,
   "nav_menu": {},
   "number_sections": false,
   "sideBar": true,
   "skip_h1_title": false,
   "title_cell": "Table of Contents",
   "title_sidebar": "Contents",
   "toc_cell": false,
   "toc_position": {},
   "toc_section_display": true,
   "toc_window_display": false
  },
  "varInspector": {
   "cols": {
    "lenName": 16,
    "lenType": 16,
    "lenVar": 40
   },
   "kernels_config": {
    "python": {
     "delete_cmd_postfix": "",
     "delete_cmd_prefix": "del ",
     "library": "var_list.py",
     "varRefreshCmd": "print(var_dic_list())"
    },
    "r": {
     "delete_cmd_postfix": ") ",
     "delete_cmd_prefix": "rm(",
     "library": "var_list.r",
     "varRefreshCmd": "cat(var_dic_list()) "
    }
   },
   "types_to_exclude": [
    "module",
    "function",
    "builtin_function_or_method",
    "instance",
    "_Feature"
   ],
   "window_display": false
  }
 },
 "nbformat": 4,
 "nbformat_minor": 2
}
